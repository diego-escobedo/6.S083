{
 "cells": [
  {
   "cell_type": "markdown",
   "metadata": {},
   "source": [
    "# Simple Model of Infection"
   ]
  },
  {
   "cell_type": "markdown",
   "metadata": {},
   "source": [
    "Each individual infects *c* new people each day"
   ]
  },
  {
   "cell_type": "markdown",
   "metadata": {},
   "source": [
    "$I_{n+1} = \\lambda I_n$, where $\\lambda := 1 + c$ -- **growth rate**"
   ]
  },
  {
   "cell_type": "code",
   "execution_count": 1,
   "metadata": {},
   "outputs": [
    {
     "data": {
      "text/plain": [
       "1"
      ]
     },
     "execution_count": 1,
     "metadata": {},
     "output_type": "execute_result"
    }
   ],
   "source": [
    "I₀ = 1; #start with 1 infected person"
   ]
  },
  {
   "cell_type": "code",
   "execution_count": 2,
   "metadata": {},
   "outputs": [
    {
     "data": {
      "text/plain": [
       "0.01"
      ]
     },
     "execution_count": 2,
     "metadata": {},
     "output_type": "execute_result"
    }
   ],
   "source": [
    "c = 0.01; #each individual infects 0.01 new people each day (ON AVG)"
   ]
  },
  {
   "cell_type": "code",
   "execution_count": 3,
   "metadata": {},
   "outputs": [],
   "source": [
    "λ = 1 + c;"
   ]
  },
  {
   "cell_type": "markdown",
   "metadata": {},
   "source": [
    "`;` suppresses output"
   ]
  },
  {
   "cell_type": "markdown",
   "metadata": {},
   "source": [
    "## Automate the process of increasing numbers"
   ]
  },
  {
   "cell_type": "code",
   "execution_count": 12,
   "metadata": {},
   "outputs": [],
   "source": [
    "T = 100 #num days\n",
    "\n",
    "I = zeros(Int64,T);"
   ]
  },
  {
   "cell_type": "code",
   "execution_count": 13,
   "metadata": {},
   "outputs": [
    {
     "name": "stdout",
     "output_type": "stream",
     "text": [
      "(x, I[x]) = (1, 1)\n",
      "(x, I[x]) = (2, 1)\n",
      "(x, I[x]) = (3, 1)\n",
      "(x, I[x]) = (4, 1)\n",
      "(x, I[x]) = (5, 1)\n",
      "(x, I[x]) = (6, 1)\n",
      "(x, I[x]) = (7, 1)\n",
      "(x, I[x]) = (8, 1)\n",
      "(x, I[x]) = (9, 1)\n",
      "(x, I[x]) = (10, 1)\n",
      "(x, I[x]) = (11, 1)\n",
      "(x, I[x]) = (12, 1)\n",
      "(x, I[x]) = (13, 1)\n",
      "(x, I[x]) = (14, 1)\n",
      "(x, I[x]) = (15, 1)\n",
      "(x, I[x]) = (16, 1)\n",
      "(x, I[x]) = (17, 1)\n",
      "(x, I[x]) = (18, 1)\n",
      "(x, I[x]) = (19, 1)\n",
      "(x, I[x]) = (20, 1)\n",
      "(x, I[x]) = (21, 1)\n",
      "(x, I[x]) = (22, 1)\n",
      "(x, I[x]) = (23, 1)\n",
      "(x, I[x]) = (24, 1)\n",
      "(x, I[x]) = (25, 1)\n",
      "(x, I[x]) = (26, 1)\n",
      "(x, I[x]) = (27, 1)\n",
      "(x, I[x]) = (28, 1)\n",
      "(x, I[x]) = (29, 1)\n",
      "(x, I[x]) = (30, 1)\n",
      "(x, I[x]) = (31, 1)\n",
      "(x, I[x]) = (32, 1)\n",
      "(x, I[x]) = (33, 1)\n",
      "(x, I[x]) = (34, 1)\n",
      "(x, I[x]) = (35, 1)\n",
      "(x, I[x]) = (36, 1)\n",
      "(x, I[x]) = (37, 1)\n",
      "(x, I[x]) = (38, 1)\n",
      "(x, I[x]) = (39, 1)\n",
      "(x, I[x]) = (40, 1)\n",
      "(x, I[x]) = (41, 1)\n",
      "(x, I[x]) = (42, 1)\n",
      "(x, I[x]) = (43, 1)\n",
      "(x, I[x]) = (44, 1)\n",
      "(x, I[x]) = (45, 1)\n",
      "(x, I[x]) = (46, 1)\n",
      "(x, I[x]) = (47, 1)\n",
      "(x, I[x]) = (48, 1)\n",
      "(x, I[x]) = (49, 1)\n",
      "(x, I[x]) = (50, 1)\n",
      "(x, I[x]) = (51, 1)\n",
      "(x, I[x]) = (52, 1)\n",
      "(x, I[x]) = (53, 1)\n",
      "(x, I[x]) = (54, 1)\n",
      "(x, I[x]) = (55, 1)\n",
      "(x, I[x]) = (56, 1)\n",
      "(x, I[x]) = (57, 1)\n",
      "(x, I[x]) = (58, 1)\n",
      "(x, I[x]) = (59, 1)\n",
      "(x, I[x]) = (60, 1)\n",
      "(x, I[x]) = (61, 1)\n",
      "(x, I[x]) = (62, 1)\n",
      "(x, I[x]) = (63, 1)\n",
      "(x, I[x]) = (64, 1)\n",
      "(x, I[x]) = (65, 1)\n",
      "(x, I[x]) = (66, 1)\n",
      "(x, I[x]) = (67, 1)\n",
      "(x, I[x]) = (68, 1)\n",
      "(x, I[x]) = (69, 1)\n",
      "(x, I[x]) = (70, 1)\n",
      "(x, I[x]) = (71, 1)\n",
      "(x, I[x]) = (72, 1)\n",
      "(x, I[x]) = (73, 1)\n",
      "(x, I[x]) = (74, 1)\n",
      "(x, I[x]) = (75, 1)\n",
      "(x, I[x]) = (76, 1)\n",
      "(x, I[x]) = (77, 1)\n",
      "(x, I[x]) = (78, 1)\n",
      "(x, I[x]) = (79, 1)\n",
      "(x, I[x]) = (80, 1)\n",
      "(x, I[x]) = (81, 1)\n",
      "(x, I[x]) = (82, 1)\n",
      "(x, I[x]) = (83, 1)\n",
      "(x, I[x]) = (84, 1)\n",
      "(x, I[x]) = (85, 1)\n",
      "(x, I[x]) = (86, 1)\n",
      "(x, I[x]) = (87, 1)\n",
      "(x, I[x]) = (88, 1)\n",
      "(x, I[x]) = (89, 1)\n",
      "(x, I[x]) = (90, 1)\n",
      "(x, I[x]) = (91, 1)\n",
      "(x, I[x]) = (92, 1)\n",
      "(x, I[x]) = (93, 1)\n",
      "(x, I[x]) = (94, 1)\n",
      "(x, I[x]) = (95, 1)\n",
      "(x, I[x]) = (96, 1)\n",
      "(x, I[x]) = (97, 1)\n",
      "(x, I[x]) = (98, 1)\n",
      "(x, I[x]) = (99, 1)\n"
     ]
    }
   ],
   "source": [
    "I[1] = I₀\n",
    "for x in 1:T-1\n",
    "    I[x+1] = floor(λ*I[x])\n",
    "end"
   ]
  },
  {
   "cell_type": "code",
   "execution_count": null,
   "metadata": {},
   "outputs": [],
   "source": []
  }
 ],
 "metadata": {
  "kernelspec": {
   "display_name": "Julia 1.4.0",
   "language": "julia",
   "name": "julia-1.4"
  },
  "language_info": {
   "file_extension": ".jl",
   "mimetype": "application/julia",
   "name": "julia",
   "version": "1.4.0"
  }
 },
 "nbformat": 4,
 "nbformat_minor": 4
}
