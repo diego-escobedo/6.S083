{
 "cells": [
  {
   "cell_type": "markdown",
   "metadata": {},
   "source": [
    "Diego Escobedo"
   ]
  },
  {
   "cell_type": "markdown",
   "metadata": {},
   "source": [
    "# 6.S083 / 18.S190 Problem set 2: Probability and modelling recovery\n",
    "\n",
    "## Submission deadline: 11:59pm on Tuesday, April 14\n",
    "\n",
    "\n",
    "In this problem set we will look at probability distributions and how to model recovery from an infection.\n",
    "\n",
    "Note: If you are unable to get `Interact.jl` to work to create interactive visualizations, note this fact on your pset submission. Where it says to create an interactive visualization, instead write a function that creates one of the plots, and run that function for different parameter values manually, showing the resulting plots.\n",
    "\n",
    "Similarly, if you have problems running simulations for larger values of the parameters, just do what you can and make a note."
   ]
  },
  {
   "cell_type": "markdown",
   "metadata": {},
   "source": [
    "## Exercise 1: Frequencies\n",
    "\n",
    "In this exercise we will write a more general function to\n",
    "count occurrences of values in a set of data. In class we used\n",
    "as `Vector`, but that is difficult to use with data that jumps around a lot.\n",
    "\n",
    "1. Write a function `counts` that accepts a vector `data` and calculates the number of times each value in `data` occurs.\n",
    "\n",
    "    To do so, use a **dictionary** called `counts`.  \n",
    "    A dictionary maps a **key** to a **value**.\n",
    "    We want to map integers to integers, so we create an empty dictionary with\n",
    "\n",
    "    ```jl\n",
    "    d = Dict{Int, Int}()\n",
    "    ```\n",
    "\n",
    "    Use the `haskey` function to find out whether the `Dict` contains a given key or not.\n",
    "\n",
    "    Use indexing to add a new (key, value) pair, or to retrieve a value:\n",
    "\n",
    "    ```jl\n",
    "    d[3] = 1\n",
    "    d[3]\n",
    "    ```\n",
    "\n",
    "    The function should return the dictionary."
   ]
  },
  {
   "cell_type": "code",
   "execution_count": 1,
   "metadata": {},
   "outputs": [
    {
     "data": {
      "text/plain": [
       "counts (generic function with 1 method)"
      ]
     },
     "execution_count": 1,
     "metadata": {},
     "output_type": "execute_result"
    }
   ],
   "source": [
    "function counts(data)\n",
    "    counts = Dict()\n",
    "    for elem in data     \n",
    "        if haskey(counts,elem)\n",
    "            counts[elem] += 1\n",
    "        else\n",
    "            counts[elem] = 1\n",
    "        end\n",
    "    end\n",
    "    return counts\n",
    "end"
   ]
  },
  {
   "cell_type": "markdown",
   "metadata": {},
   "source": [
    "2. Test that your code is correct by applying it to obtain the counts of the data vector `vv = [1, 0, 1, 0, 1000, 1, 1, 1000]`. What should the result be?"
   ]
  },
  {
   "cell_type": "code",
   "execution_count": 2,
   "metadata": {},
   "outputs": [
    {
     "data": {
      "text/plain": [
       "Dict{Any,Any} with 3 entries:\n",
       "  0    => 2\n",
       "  1000 => 2\n",
       "  1    => 4"
      ]
     },
     "execution_count": 2,
     "metadata": {},
     "output_type": "execute_result"
    }
   ],
   "source": [
    "vv = [1, 0, 1, 0, 1000, 1, 1, 1000]\n",
    "freq_dic = counts(vv)"
   ]
  },
  {
   "cell_type": "markdown",
   "metadata": {},
   "source": [
    "The dictionary contains the information as a sequence of **pairs** mapping keys to values. This is not a particularly useful form for us. Instead we would prefer a vector of the keys and a vector of the values, sorted in order of the key.\n",
    "\n",
    "Make a new version of the `counts` function where you do the following (below). Start off by just running the following commands each in their own cell on the dictionary you got by running the previous `counts` function on the vector `vv` so that you see the result of running each command. Once you have understood what's happening at *each* step, add them to the `counts` function in a new cell.\n",
    "\n",
    "3. Extract vectors `ks` of keys and `vs` of values using the `keys()` and `values()` functions and convert the results into a vector using the `collect` function."
   ]
  },
  {
   "cell_type": "code",
   "execution_count": 3,
   "metadata": {},
   "outputs": [
    {
     "data": {
      "text/plain": [
       "3-element Array{Any,1}:\n",
       " 2\n",
       " 2\n",
       " 4"
      ]
     },
     "execution_count": 3,
     "metadata": {},
     "output_type": "execute_result"
    }
   ],
   "source": [
    "ks = keys(freq_dic)\n",
    "vs = values(freq_dic)\n",
    "ks_vec = collect(ks)\n",
    "vs_vec = collect(vs)"
   ]
  },
  {
   "cell_type": "markdown",
   "metadata": {},
   "source": [
    "4. Define a variable `p` as the result of running the `sortperm` on the keys. This gives a **permutation** that tells you in which order you need to take the keys to give a sorted version."
   ]
  },
  {
   "cell_type": "code",
   "execution_count": 4,
   "metadata": {},
   "outputs": [
    {
     "data": {
      "text/plain": [
       "3-element Array{Int64,1}:\n",
       " 1\n",
       " 3\n",
       " 2"
      ]
     },
     "execution_count": 4,
     "metadata": {},
     "output_type": "execute_result"
    }
   ],
   "source": [
    "p = sortperm(ks_vec)"
   ]
  },
  {
   "cell_type": "markdown",
   "metadata": {},
   "source": [
    "5. Use indexing `ks[p]` to return the sorted keys and values vectors.  \n",
    "\n",
    "    [Here we are passing in a *vector* as the index. Julia extracts the values at the indices given in that vector]"
   ]
  },
  {
   "cell_type": "code",
   "execution_count": 5,
   "metadata": {},
   "outputs": [
    {
     "data": {
      "text/plain": [
       "3-element Array{Any,1}:\n",
       " 2\n",
       " 4\n",
       " 2"
      ]
     },
     "execution_count": 5,
     "metadata": {},
     "output_type": "execute_result"
    }
   ],
   "source": [
    "ks_vec[p]\n",
    "vs_vec[p]"
   ]
  },
  {
   "cell_type": "markdown",
   "metadata": {},
   "source": [
    "6. Test that your new `counts` function gives the correct result for the vector `v` by comparing it to the true result (that you get by doing the counting by hand!)"
   ]
  },
  {
   "cell_type": "code",
   "execution_count": 6,
   "metadata": {},
   "outputs": [
    {
     "data": {
      "text/plain": [
       "counts (generic function with 1 method)"
      ]
     },
     "execution_count": 6,
     "metadata": {},
     "output_type": "execute_result"
    }
   ],
   "source": [
    "function counts(data)\n",
    "    counts = Dict()\n",
    "    for elem in data     \n",
    "        if haskey(counts,elem)\n",
    "            counts[elem] += 1\n",
    "        else\n",
    "            counts[elem] = 1\n",
    "        end\n",
    "    end\n",
    "    ks = collect(keys(counts))\n",
    "    vs = collect(values(counts))\n",
    "    p = sortperm(ks)\n",
    "    return ks[p], vs[p]\n",
    "end"
   ]
  },
  {
   "cell_type": "markdown",
   "metadata": {},
   "source": [
    "7. Make a function `probability_distribution` that normalizes the result of `counts` to calculate the relative frequency, i.e. to give a probability distribution (i.e. such that the sum of the resulting vector is 1).\n",
    "\n",
    "    The function should return the keys (the unique data that was in the original data set, as calculated in `counts`, and the probabilities (relative frequencies).\n",
    "\n",
    "    Test that it gives the correct result for the vector `vv`.\n",
    "\n",
    "    We will use this function in the rest of the exercises."
   ]
  },
  {
   "cell_type": "code",
   "execution_count": 7,
   "metadata": {},
   "outputs": [
    {
     "data": {
      "text/plain": [
       "probability_distribution (generic function with 1 method)"
      ]
     },
     "execution_count": 7,
     "metadata": {},
     "output_type": "execute_result"
    }
   ],
   "source": [
    "function probability_distribution(data)\n",
    "    ks, vs = counts(data)\n",
    "    tot = sum(vs)\n",
    "    probs = vs./tot\n",
    "    return ks, probs\n",
    "end"
   ]
  },
  {
   "cell_type": "markdown",
   "metadata": {},
   "source": [
    "### Exercise 2: Modelling recovery\n",
    "\n",
    "In this exercise, we will investigate the simple model of recovery from an infection that was described in lectures. We\n",
    "want to study the time $\\tau$ to recover.\n",
    "\n",
    "In this model, an individual who is infected has probability $p$ to recover each day. If they recover on day $n$ then $\\tau = n$.\n",
    "We see that $\\tau$ is a random variable, so we need to study its **probability distribution**.\n",
    "\n",
    "1. Define the function `bernoulli(p)` from lectures. Recall that this generates `true` with probability $p$ and `false` with probability $(1 - p)$."
   ]
  },
  {
   "cell_type": "code",
   "execution_count": 8,
   "metadata": {},
   "outputs": [
    {
     "data": {
      "text/plain": [
       "bernoulli (generic function with 1 method)"
      ]
     },
     "execution_count": 8,
     "metadata": {},
     "output_type": "execute_result"
    }
   ],
   "source": [
    "function bernoulli(p)\n",
    "     if rand() < p\n",
    "        return true\n",
    "    else\n",
    "        return false\n",
    "    end\n",
    "end"
   ]
  },
  {
   "cell_type": "markdown",
   "metadata": {},
   "source": [
    "2. Write a function `geometric(p)`. This should run a simulation with probability $p$ to recover and wait *until* the individual recovers, at which point it returns the time taken to recover."
   ]
  },
  {
   "cell_type": "code",
   "execution_count": 9,
   "metadata": {},
   "outputs": [
    {
     "data": {
      "text/plain": [
       "geometric (generic function with 1 method)"
      ]
     },
     "execution_count": 9,
     "metadata": {},
     "output_type": "execute_result"
    }
   ],
   "source": [
    "function geometric(p)\n",
    "    i = 0\n",
    "    cured = false\n",
    "    while !cured\n",
    "        if bernoulli(p)\n",
    "            cured = true\n",
    "        end\n",
    "        i += 1\n",
    "    end\n",
    "    return i\n",
    "end"
   ]
  },
  {
   "cell_type": "markdown",
   "metadata": {},
   "source": [
    "3. Write a function `experiment(p, N)` that runs the function from [2] `N` times and collects the results into a vector."
   ]
  },
  {
   "cell_type": "code",
   "execution_count": 10,
   "metadata": {},
   "outputs": [
    {
     "data": {
      "text/plain": [
       "experiment (generic function with 1 method)"
      ]
     },
     "execution_count": 10,
     "metadata": {},
     "output_type": "execute_result"
    }
   ],
   "source": [
    "function experiment(p,N)\n",
    "    trials = [geometric(p) for i in 1:N]\n",
    "    return probability_distribution(trials)\n",
    "end"
   ]
  },
  {
   "cell_type": "code",
   "execution_count": 11,
   "metadata": {},
   "outputs": [
    {
     "data": {
      "text/plain": [
       "experiment_raw (generic function with 1 method)"
      ]
     },
     "execution_count": 11,
     "metadata": {},
     "output_type": "execute_result"
    }
   ],
   "source": [
    "function experiment_raw(p,N)\n",
    "    trials = [geometric(p) for i in 1:N]\n",
    "    return counts(trials)\n",
    "end"
   ]
  },
  {
   "cell_type": "markdown",
   "metadata": {},
   "source": [
    "4. Run an experiment with $p=0.25$ and $N=10,000$. Plot the resulting probability distribution, i.e. plot $P(\\tau = n)$ against $n$, where $n$ is the recovery time."
   ]
  },
  {
   "cell_type": "code",
   "execution_count": 12,
   "metadata": {},
   "outputs": [
    {
     "data": {
      "image/svg+xml": [
       "<?xml version=\"1.0\" encoding=\"utf-8\"?>\n",
       "<svg xmlns=\"http://www.w3.org/2000/svg\" xmlns:xlink=\"http://www.w3.org/1999/xlink\" width=\"600\" height=\"400\" viewBox=\"0 0 2400 1600\">\n",
       "<defs>\n",
       "  <clipPath id=\"clip3400\">\n",
       "    <rect x=\"0\" y=\"0\" width=\"2400\" height=\"1600\"/>\n",
       "  </clipPath>\n",
       "</defs>\n",
       "<path clip-path=\"url(#clip3400)\" d=\"\n",
       "M0 1600 L2400 1600 L2400 0 L0 0  Z\n",
       "  \" fill=\"#ffffff\" fill-rule=\"evenodd\" fill-opacity=\"1\"/>\n",
       "<defs>\n",
       "  <clipPath id=\"clip3401\">\n",
       "    <rect x=\"480\" y=\"0\" width=\"1681\" height=\"1600\"/>\n",
       "  </clipPath>\n",
       "</defs>\n",
       "<path clip-path=\"url(#clip3400)\" d=\"\n",
       "M242.516 1425.62 L2352.76 1425.62 L2352.76 47.2441 L242.516 47.2441  Z\n",
       "  \" fill=\"#ffffff\" fill-rule=\"evenodd\" fill-opacity=\"1\"/>\n",
       "<defs>\n",
       "  <clipPath id=\"clip3402\">\n",
       "    <rect x=\"242\" y=\"47\" width=\"2111\" height=\"1379\"/>\n",
       "  </clipPath>\n",
       "</defs>\n",
       "<polyline clip-path=\"url(#clip3402)\" style=\"stroke:#000000; stroke-width:2; stroke-opacity:0.1; fill:none\" points=\"\n",
       "  249.851,1425.62 249.851,47.2441 \n",
       "  \"/>\n",
       "<polyline clip-path=\"url(#clip3402)\" style=\"stroke:#000000; stroke-width:2; stroke-opacity:0.1; fill:none\" points=\"\n",
       "  773.744,1425.62 773.744,47.2441 \n",
       "  \"/>\n",
       "<polyline clip-path=\"url(#clip3402)\" style=\"stroke:#000000; stroke-width:2; stroke-opacity:0.1; fill:none\" points=\"\n",
       "  1297.64,1425.62 1297.64,47.2441 \n",
       "  \"/>\n",
       "<polyline clip-path=\"url(#clip3402)\" style=\"stroke:#000000; stroke-width:2; stroke-opacity:0.1; fill:none\" points=\"\n",
       "  1821.53,1425.62 1821.53,47.2441 \n",
       "  \"/>\n",
       "<polyline clip-path=\"url(#clip3402)\" style=\"stroke:#000000; stroke-width:2; stroke-opacity:0.1; fill:none\" points=\"\n",
       "  2345.42,1425.62 2345.42,47.2441 \n",
       "  \"/>\n",
       "<polyline clip-path=\"url(#clip3402)\" style=\"stroke:#000000; stroke-width:2; stroke-opacity:0.1; fill:none\" points=\"\n",
       "  242.516,1387.12 2352.76,1387.12 \n",
       "  \"/>\n",
       "<polyline clip-path=\"url(#clip3402)\" style=\"stroke:#000000; stroke-width:2; stroke-opacity:0.1; fill:none\" points=\"\n",
       "  242.516,1129.42 2352.76,1129.42 \n",
       "  \"/>\n",
       "<polyline clip-path=\"url(#clip3402)\" style=\"stroke:#000000; stroke-width:2; stroke-opacity:0.1; fill:none\" points=\"\n",
       "  242.516,871.724 2352.76,871.724 \n",
       "  \"/>\n",
       "<polyline clip-path=\"url(#clip3402)\" style=\"stroke:#000000; stroke-width:2; stroke-opacity:0.1; fill:none\" points=\"\n",
       "  242.516,614.024 2352.76,614.024 \n",
       "  \"/>\n",
       "<polyline clip-path=\"url(#clip3402)\" style=\"stroke:#000000; stroke-width:2; stroke-opacity:0.1; fill:none\" points=\"\n",
       "  242.516,356.324 2352.76,356.324 \n",
       "  \"/>\n",
       "<polyline clip-path=\"url(#clip3402)\" style=\"stroke:#000000; stroke-width:2; stroke-opacity:0.1; fill:none\" points=\"\n",
       "  242.516,98.6243 2352.76,98.6243 \n",
       "  \"/>\n",
       "<polyline clip-path=\"url(#clip3400)\" style=\"stroke:#000000; stroke-width:4; stroke-opacity:1; fill:none\" points=\"\n",
       "  242.516,1425.62 2352.76,1425.62 \n",
       "  \"/>\n",
       "<polyline clip-path=\"url(#clip3400)\" style=\"stroke:#000000; stroke-width:4; stroke-opacity:1; fill:none\" points=\"\n",
       "  242.516,1425.62 242.516,47.2441 \n",
       "  \"/>\n",
       "<polyline clip-path=\"url(#clip3400)\" style=\"stroke:#000000; stroke-width:4; stroke-opacity:1; fill:none\" points=\"\n",
       "  249.851,1425.62 249.851,1409.08 \n",
       "  \"/>\n",
       "<polyline clip-path=\"url(#clip3400)\" style=\"stroke:#000000; stroke-width:4; stroke-opacity:1; fill:none\" points=\"\n",
       "  773.744,1425.62 773.744,1409.08 \n",
       "  \"/>\n",
       "<polyline clip-path=\"url(#clip3400)\" style=\"stroke:#000000; stroke-width:4; stroke-opacity:1; fill:none\" points=\"\n",
       "  1297.64,1425.62 1297.64,1409.08 \n",
       "  \"/>\n",
       "<polyline clip-path=\"url(#clip3400)\" style=\"stroke:#000000; stroke-width:4; stroke-opacity:1; fill:none\" points=\"\n",
       "  1821.53,1425.62 1821.53,1409.08 \n",
       "  \"/>\n",
       "<polyline clip-path=\"url(#clip3400)\" style=\"stroke:#000000; stroke-width:4; stroke-opacity:1; fill:none\" points=\"\n",
       "  2345.42,1425.62 2345.42,1409.08 \n",
       "  \"/>\n",
       "<polyline clip-path=\"url(#clip3400)\" style=\"stroke:#000000; stroke-width:4; stroke-opacity:1; fill:none\" points=\"\n",
       "  242.516,1387.12 267.839,1387.12 \n",
       "  \"/>\n",
       "<polyline clip-path=\"url(#clip3400)\" style=\"stroke:#000000; stroke-width:4; stroke-opacity:1; fill:none\" points=\"\n",
       "  242.516,1129.42 267.839,1129.42 \n",
       "  \"/>\n",
       "<polyline clip-path=\"url(#clip3400)\" style=\"stroke:#000000; stroke-width:4; stroke-opacity:1; fill:none\" points=\"\n",
       "  242.516,871.724 267.839,871.724 \n",
       "  \"/>\n",
       "<polyline clip-path=\"url(#clip3400)\" style=\"stroke:#000000; stroke-width:4; stroke-opacity:1; fill:none\" points=\"\n",
       "  242.516,614.024 267.839,614.024 \n",
       "  \"/>\n",
       "<polyline clip-path=\"url(#clip3400)\" style=\"stroke:#000000; stroke-width:4; stroke-opacity:1; fill:none\" points=\"\n",
       "  242.516,356.324 267.839,356.324 \n",
       "  \"/>\n",
       "<polyline clip-path=\"url(#clip3400)\" style=\"stroke:#000000; stroke-width:4; stroke-opacity:1; fill:none\" points=\"\n",
       "  242.516,98.6243 267.839,98.6243 \n",
       "  \"/>\n",
       "<g clip-path=\"url(#clip3400)\">\n",
       "<text style=\"fill:#000000; fill-opacity:1; font-family:Arial,Helvetica Neue,Helvetica,sans-serif; font-size:48px; text-anchor:middle;\" transform=\"rotate(0, 249.851, 1479.62)\" x=\"249.851\" y=\"1479.62\">0</text>\n",
       "</g>\n",
       "<g clip-path=\"url(#clip3400)\">\n",
       "<text style=\"fill:#000000; fill-opacity:1; font-family:Arial,Helvetica Neue,Helvetica,sans-serif; font-size:48px; text-anchor:middle;\" transform=\"rotate(0, 773.744, 1479.62)\" x=\"773.744\" y=\"1479.62\">10</text>\n",
       "</g>\n",
       "<g clip-path=\"url(#clip3400)\">\n",
       "<text style=\"fill:#000000; fill-opacity:1; font-family:Arial,Helvetica Neue,Helvetica,sans-serif; font-size:48px; text-anchor:middle;\" transform=\"rotate(0, 1297.64, 1479.62)\" x=\"1297.64\" y=\"1479.62\">20</text>\n",
       "</g>\n",
       "<g clip-path=\"url(#clip3400)\">\n",
       "<text style=\"fill:#000000; fill-opacity:1; font-family:Arial,Helvetica Neue,Helvetica,sans-serif; font-size:48px; text-anchor:middle;\" transform=\"rotate(0, 1821.53, 1479.62)\" x=\"1821.53\" y=\"1479.62\">30</text>\n",
       "</g>\n",
       "<g clip-path=\"url(#clip3400)\">\n",
       "<text style=\"fill:#000000; fill-opacity:1; font-family:Arial,Helvetica Neue,Helvetica,sans-serif; font-size:48px; text-anchor:middle;\" transform=\"rotate(0, 2345.42, 1479.62)\" x=\"2345.42\" y=\"1479.62\">40</text>\n",
       "</g>\n",
       "<g clip-path=\"url(#clip3400)\">\n",
       "<text style=\"fill:#000000; fill-opacity:1; font-family:Arial,Helvetica Neue,Helvetica,sans-serif; font-size:48px; text-anchor:end;\" transform=\"rotate(0, 218.516, 1404.62)\" x=\"218.516\" y=\"1404.62\">0.00</text>\n",
       "</g>\n",
       "<g clip-path=\"url(#clip3400)\">\n",
       "<text style=\"fill:#000000; fill-opacity:1; font-family:Arial,Helvetica Neue,Helvetica,sans-serif; font-size:48px; text-anchor:end;\" transform=\"rotate(0, 218.516, 1146.92)\" x=\"218.516\" y=\"1146.92\">0.05</text>\n",
       "</g>\n",
       "<g clip-path=\"url(#clip3400)\">\n",
       "<text style=\"fill:#000000; fill-opacity:1; font-family:Arial,Helvetica Neue,Helvetica,sans-serif; font-size:48px; text-anchor:end;\" transform=\"rotate(0, 218.516, 889.224)\" x=\"218.516\" y=\"889.224\">0.10</text>\n",
       "</g>\n",
       "<g clip-path=\"url(#clip3400)\">\n",
       "<text style=\"fill:#000000; fill-opacity:1; font-family:Arial,Helvetica Neue,Helvetica,sans-serif; font-size:48px; text-anchor:end;\" transform=\"rotate(0, 218.516, 631.524)\" x=\"218.516\" y=\"631.524\">0.15</text>\n",
       "</g>\n",
       "<g clip-path=\"url(#clip3400)\">\n",
       "<text style=\"fill:#000000; fill-opacity:1; font-family:Arial,Helvetica Neue,Helvetica,sans-serif; font-size:48px; text-anchor:end;\" transform=\"rotate(0, 218.516, 373.824)\" x=\"218.516\" y=\"373.824\">0.20</text>\n",
       "</g>\n",
       "<g clip-path=\"url(#clip3400)\">\n",
       "<text style=\"fill:#000000; fill-opacity:1; font-family:Arial,Helvetica Neue,Helvetica,sans-serif; font-size:48px; text-anchor:end;\" transform=\"rotate(0, 218.516, 116.124)\" x=\"218.516\" y=\"116.124\">0.25</text>\n",
       "</g>\n",
       "<g clip-path=\"url(#clip3400)\">\n",
       "<text style=\"fill:#000000; fill-opacity:1; font-family:Arial,Helvetica Neue,Helvetica,sans-serif; font-size:66px; text-anchor:middle;\" transform=\"rotate(0, 1297.64, 1559.48)\" x=\"1297.64\" y=\"1559.48\">Days until Recovery</text>\n",
       "</g>\n",
       "<g clip-path=\"url(#clip3400)\">\n",
       "<text style=\"fill:#000000; fill-opacity:1; font-family:Arial,Helvetica Neue,Helvetica,sans-serif; font-size:66px; text-anchor:middle;\" transform=\"rotate(-90, 89.2861, 736.431)\" x=\"89.2861\" y=\"736.431\">Percentage of Total</text>\n",
       "</g>\n",
       "<polyline clip-path=\"url(#clip3402)\" style=\"stroke:#009af9; stroke-width:4; stroke-opacity:1; fill:none\" points=\"\n",
       "  302.24,86.2547 354.629,413.533 407.019,657.318 459.408,853.169 511.797,994.904 564.186,1101.59 616.576,1132.52 668.965,1220.13 721.354,1249.51 773.744,1292.81 \n",
       "  826.133,1321.67 878.522,1326.82 930.911,1345.89 983.301,1354.65 1035.69,1365.48 1088.08,1371.66 1140.47,1376.3 1192.86,1376.3 1245.25,1383.52 1297.64,1379.39 \n",
       "  1350.03,1384.55 1402.41,1384.55 1454.8,1384.03 1507.19,1385.58 1559.58,1385.58 1664.36,1386.61 1716.75,1385.58 1873.92,1386.61 1926.31,1386.61 2293.03,1386.61 \n",
       "  \n",
       "  \"/>\n",
       "<path clip-path=\"url(#clip3400)\" d=\"\n",
       "M1789.21 251.724 L2280.76 251.724 L2280.76 130.764 L1789.21 130.764  Z\n",
       "  \" fill=\"#ffffff\" fill-rule=\"evenodd\" fill-opacity=\"1\"/>\n",
       "<polyline clip-path=\"url(#clip3400)\" style=\"stroke:#000000; stroke-width:4; stroke-opacity:1; fill:none\" points=\"\n",
       "  1789.21,251.724 2280.76,251.724 2280.76,130.764 1789.21,130.764 1789.21,251.724 \n",
       "  \"/>\n",
       "<polyline clip-path=\"url(#clip3400)\" style=\"stroke:#009af9; stroke-width:4; stroke-opacity:1; fill:none\" points=\"\n",
       "  1813.21,191.244 1957.21,191.244 \n",
       "  \"/>\n",
       "<g clip-path=\"url(#clip3400)\">\n",
       "<text style=\"fill:#000000; fill-opacity:1; font-family:Arial,Helvetica Neue,Helvetica,sans-serif; font-size:48px; text-anchor:start;\" transform=\"rotate(0, 1981.21, 208.744)\" x=\"1981.21\" y=\"208.744\">patient data</text>\n",
       "</g>\n",
       "</svg>\n"
      ]
     },
     "execution_count": 12,
     "metadata": {},
     "output_type": "execute_result"
    }
   ],
   "source": [
    "using Plots\n",
    "N = 10000\n",
    "p = 0.25\n",
    "recov,distr = experiment(p,N)\n",
    "plot(recov,distr, label = \"patient data\" )\n",
    "xlabel!(\"Days until Recovery\")\n",
    "ylabel!(\"Percentage of Total\")"
   ]
  },
  {
   "cell_type": "markdown",
   "metadata": {},
   "source": [
    "5. Calculate the mean recovery time and add it to the plot using the `vline!()` function and the `ls=:dash` argument to make a dashed line.\n",
    "\n",
    "Note that `vline!` requires a *vector* of values where you wish to draw vertical lines."
   ]
  },
  {
   "cell_type": "code",
   "execution_count": 13,
   "metadata": {},
   "outputs": [
    {
     "data": {
      "image/svg+xml": [
       "<?xml version=\"1.0\" encoding=\"utf-8\"?>\n",
       "<svg xmlns=\"http://www.w3.org/2000/svg\" xmlns:xlink=\"http://www.w3.org/1999/xlink\" width=\"600\" height=\"400\" viewBox=\"0 0 2400 1600\">\n",
       "<defs>\n",
       "  <clipPath id=\"clip3800\">\n",
       "    <rect x=\"0\" y=\"0\" width=\"2400\" height=\"1600\"/>\n",
       "  </clipPath>\n",
       "</defs>\n",
       "<path clip-path=\"url(#clip3800)\" d=\"\n",
       "M0 1600 L2400 1600 L2400 0 L0 0  Z\n",
       "  \" fill=\"#ffffff\" fill-rule=\"evenodd\" fill-opacity=\"1\"/>\n",
       "<defs>\n",
       "  <clipPath id=\"clip3801\">\n",
       "    <rect x=\"480\" y=\"0\" width=\"1681\" height=\"1600\"/>\n",
       "  </clipPath>\n",
       "</defs>\n",
       "<path clip-path=\"url(#clip3800)\" d=\"\n",
       "M242.516 1425.62 L2352.76 1425.62 L2352.76 47.2441 L242.516 47.2441  Z\n",
       "  \" fill=\"#ffffff\" fill-rule=\"evenodd\" fill-opacity=\"1\"/>\n",
       "<defs>\n",
       "  <clipPath id=\"clip3802\">\n",
       "    <rect x=\"242\" y=\"47\" width=\"2111\" height=\"1379\"/>\n",
       "  </clipPath>\n",
       "</defs>\n",
       "<polyline clip-path=\"url(#clip3802)\" style=\"stroke:#000000; stroke-width:2; stroke-opacity:0.1; fill:none\" points=\"\n",
       "  249.851,1425.62 249.851,47.2441 \n",
       "  \"/>\n",
       "<polyline clip-path=\"url(#clip3802)\" style=\"stroke:#000000; stroke-width:2; stroke-opacity:0.1; fill:none\" points=\"\n",
       "  773.744,1425.62 773.744,47.2441 \n",
       "  \"/>\n",
       "<polyline clip-path=\"url(#clip3802)\" style=\"stroke:#000000; stroke-width:2; stroke-opacity:0.1; fill:none\" points=\"\n",
       "  1297.64,1425.62 1297.64,47.2441 \n",
       "  \"/>\n",
       "<polyline clip-path=\"url(#clip3802)\" style=\"stroke:#000000; stroke-width:2; stroke-opacity:0.1; fill:none\" points=\"\n",
       "  1821.53,1425.62 1821.53,47.2441 \n",
       "  \"/>\n",
       "<polyline clip-path=\"url(#clip3802)\" style=\"stroke:#000000; stroke-width:2; stroke-opacity:0.1; fill:none\" points=\"\n",
       "  2345.42,1425.62 2345.42,47.2441 \n",
       "  \"/>\n",
       "<polyline clip-path=\"url(#clip3802)\" style=\"stroke:#000000; stroke-width:2; stroke-opacity:0.1; fill:none\" points=\"\n",
       "  242.516,1387.12 2352.76,1387.12 \n",
       "  \"/>\n",
       "<polyline clip-path=\"url(#clip3802)\" style=\"stroke:#000000; stroke-width:2; stroke-opacity:0.1; fill:none\" points=\"\n",
       "  242.516,1129.42 2352.76,1129.42 \n",
       "  \"/>\n",
       "<polyline clip-path=\"url(#clip3802)\" style=\"stroke:#000000; stroke-width:2; stroke-opacity:0.1; fill:none\" points=\"\n",
       "  242.516,871.724 2352.76,871.724 \n",
       "  \"/>\n",
       "<polyline clip-path=\"url(#clip3802)\" style=\"stroke:#000000; stroke-width:2; stroke-opacity:0.1; fill:none\" points=\"\n",
       "  242.516,614.024 2352.76,614.024 \n",
       "  \"/>\n",
       "<polyline clip-path=\"url(#clip3802)\" style=\"stroke:#000000; stroke-width:2; stroke-opacity:0.1; fill:none\" points=\"\n",
       "  242.516,356.324 2352.76,356.324 \n",
       "  \"/>\n",
       "<polyline clip-path=\"url(#clip3802)\" style=\"stroke:#000000; stroke-width:2; stroke-opacity:0.1; fill:none\" points=\"\n",
       "  242.516,98.6243 2352.76,98.6243 \n",
       "  \"/>\n",
       "<polyline clip-path=\"url(#clip3800)\" style=\"stroke:#000000; stroke-width:4; stroke-opacity:1; fill:none\" points=\"\n",
       "  242.516,1425.62 2352.76,1425.62 \n",
       "  \"/>\n",
       "<polyline clip-path=\"url(#clip3800)\" style=\"stroke:#000000; stroke-width:4; stroke-opacity:1; fill:none\" points=\"\n",
       "  242.516,1425.62 242.516,47.2441 \n",
       "  \"/>\n",
       "<polyline clip-path=\"url(#clip3800)\" style=\"stroke:#000000; stroke-width:4; stroke-opacity:1; fill:none\" points=\"\n",
       "  249.851,1425.62 249.851,1409.08 \n",
       "  \"/>\n",
       "<polyline clip-path=\"url(#clip3800)\" style=\"stroke:#000000; stroke-width:4; stroke-opacity:1; fill:none\" points=\"\n",
       "  773.744,1425.62 773.744,1409.08 \n",
       "  \"/>\n",
       "<polyline clip-path=\"url(#clip3800)\" style=\"stroke:#000000; stroke-width:4; stroke-opacity:1; fill:none\" points=\"\n",
       "  1297.64,1425.62 1297.64,1409.08 \n",
       "  \"/>\n",
       "<polyline clip-path=\"url(#clip3800)\" style=\"stroke:#000000; stroke-width:4; stroke-opacity:1; fill:none\" points=\"\n",
       "  1821.53,1425.62 1821.53,1409.08 \n",
       "  \"/>\n",
       "<polyline clip-path=\"url(#clip3800)\" style=\"stroke:#000000; stroke-width:4; stroke-opacity:1; fill:none\" points=\"\n",
       "  2345.42,1425.62 2345.42,1409.08 \n",
       "  \"/>\n",
       "<polyline clip-path=\"url(#clip3800)\" style=\"stroke:#000000; stroke-width:4; stroke-opacity:1; fill:none\" points=\"\n",
       "  242.516,1387.12 267.839,1387.12 \n",
       "  \"/>\n",
       "<polyline clip-path=\"url(#clip3800)\" style=\"stroke:#000000; stroke-width:4; stroke-opacity:1; fill:none\" points=\"\n",
       "  242.516,1129.42 267.839,1129.42 \n",
       "  \"/>\n",
       "<polyline clip-path=\"url(#clip3800)\" style=\"stroke:#000000; stroke-width:4; stroke-opacity:1; fill:none\" points=\"\n",
       "  242.516,871.724 267.839,871.724 \n",
       "  \"/>\n",
       "<polyline clip-path=\"url(#clip3800)\" style=\"stroke:#000000; stroke-width:4; stroke-opacity:1; fill:none\" points=\"\n",
       "  242.516,614.024 267.839,614.024 \n",
       "  \"/>\n",
       "<polyline clip-path=\"url(#clip3800)\" style=\"stroke:#000000; stroke-width:4; stroke-opacity:1; fill:none\" points=\"\n",
       "  242.516,356.324 267.839,356.324 \n",
       "  \"/>\n",
       "<polyline clip-path=\"url(#clip3800)\" style=\"stroke:#000000; stroke-width:4; stroke-opacity:1; fill:none\" points=\"\n",
       "  242.516,98.6243 267.839,98.6243 \n",
       "  \"/>\n",
       "<g clip-path=\"url(#clip3800)\">\n",
       "<text style=\"fill:#000000; fill-opacity:1; font-family:Arial,Helvetica Neue,Helvetica,sans-serif; font-size:48px; text-anchor:middle;\" transform=\"rotate(0, 249.851, 1479.62)\" x=\"249.851\" y=\"1479.62\">0</text>\n",
       "</g>\n",
       "<g clip-path=\"url(#clip3800)\">\n",
       "<text style=\"fill:#000000; fill-opacity:1; font-family:Arial,Helvetica Neue,Helvetica,sans-serif; font-size:48px; text-anchor:middle;\" transform=\"rotate(0, 773.744, 1479.62)\" x=\"773.744\" y=\"1479.62\">10</text>\n",
       "</g>\n",
       "<g clip-path=\"url(#clip3800)\">\n",
       "<text style=\"fill:#000000; fill-opacity:1; font-family:Arial,Helvetica Neue,Helvetica,sans-serif; font-size:48px; text-anchor:middle;\" transform=\"rotate(0, 1297.64, 1479.62)\" x=\"1297.64\" y=\"1479.62\">20</text>\n",
       "</g>\n",
       "<g clip-path=\"url(#clip3800)\">\n",
       "<text style=\"fill:#000000; fill-opacity:1; font-family:Arial,Helvetica Neue,Helvetica,sans-serif; font-size:48px; text-anchor:middle;\" transform=\"rotate(0, 1821.53, 1479.62)\" x=\"1821.53\" y=\"1479.62\">30</text>\n",
       "</g>\n",
       "<g clip-path=\"url(#clip3800)\">\n",
       "<text style=\"fill:#000000; fill-opacity:1; font-family:Arial,Helvetica Neue,Helvetica,sans-serif; font-size:48px; text-anchor:middle;\" transform=\"rotate(0, 2345.42, 1479.62)\" x=\"2345.42\" y=\"1479.62\">40</text>\n",
       "</g>\n",
       "<g clip-path=\"url(#clip3800)\">\n",
       "<text style=\"fill:#000000; fill-opacity:1; font-family:Arial,Helvetica Neue,Helvetica,sans-serif; font-size:48px; text-anchor:end;\" transform=\"rotate(0, 218.516, 1404.62)\" x=\"218.516\" y=\"1404.62\">0.00</text>\n",
       "</g>\n",
       "<g clip-path=\"url(#clip3800)\">\n",
       "<text style=\"fill:#000000; fill-opacity:1; font-family:Arial,Helvetica Neue,Helvetica,sans-serif; font-size:48px; text-anchor:end;\" transform=\"rotate(0, 218.516, 1146.92)\" x=\"218.516\" y=\"1146.92\">0.05</text>\n",
       "</g>\n",
       "<g clip-path=\"url(#clip3800)\">\n",
       "<text style=\"fill:#000000; fill-opacity:1; font-family:Arial,Helvetica Neue,Helvetica,sans-serif; font-size:48px; text-anchor:end;\" transform=\"rotate(0, 218.516, 889.224)\" x=\"218.516\" y=\"889.224\">0.10</text>\n",
       "</g>\n",
       "<g clip-path=\"url(#clip3800)\">\n",
       "<text style=\"fill:#000000; fill-opacity:1; font-family:Arial,Helvetica Neue,Helvetica,sans-serif; font-size:48px; text-anchor:end;\" transform=\"rotate(0, 218.516, 631.524)\" x=\"218.516\" y=\"631.524\">0.15</text>\n",
       "</g>\n",
       "<g clip-path=\"url(#clip3800)\">\n",
       "<text style=\"fill:#000000; fill-opacity:1; font-family:Arial,Helvetica Neue,Helvetica,sans-serif; font-size:48px; text-anchor:end;\" transform=\"rotate(0, 218.516, 373.824)\" x=\"218.516\" y=\"373.824\">0.20</text>\n",
       "</g>\n",
       "<g clip-path=\"url(#clip3800)\">\n",
       "<text style=\"fill:#000000; fill-opacity:1; font-family:Arial,Helvetica Neue,Helvetica,sans-serif; font-size:48px; text-anchor:end;\" transform=\"rotate(0, 218.516, 116.124)\" x=\"218.516\" y=\"116.124\">0.25</text>\n",
       "</g>\n",
       "<g clip-path=\"url(#clip3800)\">\n",
       "<text style=\"fill:#000000; fill-opacity:1; font-family:Arial,Helvetica Neue,Helvetica,sans-serif; font-size:66px; text-anchor:middle;\" transform=\"rotate(0, 1297.64, 1559.48)\" x=\"1297.64\" y=\"1559.48\">Days until Recovery</text>\n",
       "</g>\n",
       "<g clip-path=\"url(#clip3800)\">\n",
       "<text style=\"fill:#000000; fill-opacity:1; font-family:Arial,Helvetica Neue,Helvetica,sans-serif; font-size:66px; text-anchor:middle;\" transform=\"rotate(-90, 89.2861, 736.431)\" x=\"89.2861\" y=\"736.431\">Percentage of Total</text>\n",
       "</g>\n",
       "<polyline clip-path=\"url(#clip3802)\" style=\"stroke:#009af9; stroke-width:4; stroke-opacity:1; fill:none\" points=\"\n",
       "  302.24,86.2547 354.629,413.533 407.019,657.318 459.408,853.169 511.797,994.904 564.186,1101.59 616.576,1132.52 668.965,1220.13 721.354,1249.51 773.744,1292.81 \n",
       "  826.133,1321.67 878.522,1326.82 930.911,1345.89 983.301,1354.65 1035.69,1365.48 1088.08,1371.66 1140.47,1376.3 1192.86,1376.3 1245.25,1383.52 1297.64,1379.39 \n",
       "  1350.03,1384.55 1402.41,1384.55 1454.8,1384.03 1507.19,1385.58 1559.58,1385.58 1664.36,1386.61 1716.75,1385.58 1873.92,1386.61 1926.31,1386.61 2293.03,1386.61 \n",
       "  \n",
       "  \"/>\n",
       "<polyline clip-path=\"url(#clip3802)\" style=\"stroke:#e26f46; stroke-width:4; stroke-opacity:1; fill:none\" points=\"\n",
       "  458.465,2803.99 458.465,-1331.13 \n",
       "  \"/>\n",
       "<path clip-path=\"url(#clip3800)\" d=\"\n",
       "M1505.75 312.204 L2280.76 312.204 L2280.76 130.764 L1505.75 130.764  Z\n",
       "  \" fill=\"#ffffff\" fill-rule=\"evenodd\" fill-opacity=\"1\"/>\n",
       "<polyline clip-path=\"url(#clip3800)\" style=\"stroke:#000000; stroke-width:4; stroke-opacity:1; fill:none\" points=\"\n",
       "  1505.75,312.204 2280.76,312.204 2280.76,130.764 1505.75,130.764 1505.75,312.204 \n",
       "  \"/>\n",
       "<polyline clip-path=\"url(#clip3800)\" style=\"stroke:#009af9; stroke-width:4; stroke-opacity:1; fill:none\" points=\"\n",
       "  1529.75,191.244 1673.75,191.244 \n",
       "  \"/>\n",
       "<g clip-path=\"url(#clip3800)\">\n",
       "<text style=\"fill:#000000; fill-opacity:1; font-family:Arial,Helvetica Neue,Helvetica,sans-serif; font-size:48px; text-anchor:start;\" transform=\"rotate(0, 1697.75, 208.744)\" x=\"1697.75\" y=\"208.744\">patient data</text>\n",
       "</g>\n",
       "<polyline clip-path=\"url(#clip3800)\" style=\"stroke:#e26f46; stroke-width:4; stroke-opacity:1; fill:none\" points=\"\n",
       "  1529.75,251.724 1673.75,251.724 \n",
       "  \"/>\n",
       "<g clip-path=\"url(#clip3800)\">\n",
       "<text style=\"fill:#000000; fill-opacity:1; font-family:Arial,Helvetica Neue,Helvetica,sans-serif; font-size:48px; text-anchor:start;\" transform=\"rotate(0, 1697.75, 269.224)\" x=\"1697.75\" y=\"269.224\">mean days until recovery</text>\n",
       "</g>\n",
       "</svg>\n"
      ]
     },
     "execution_count": 13,
     "metadata": {},
     "output_type": "execute_result"
    }
   ],
   "source": [
    "raw_vec = distr.*N\n",
    "tot_days = 0\n",
    "mean = sum(raw_vec.*recov)/N\n",
    "vline!([mean], label = \"mean days until recovery\")"
   ]
  },
  {
   "cell_type": "markdown",
   "metadata": {},
   "source": [
    "6. What shape does the distribution seem to have? Can you verify that by using one or more log scales?"
   ]
  },
  {
   "cell_type": "markdown",
   "metadata": {},
   "source": [
    "It seems to have an exponential distribution. We can verify this by making the Y scale a log scale:"
   ]
  },
  {
   "cell_type": "code",
   "execution_count": 14,
   "metadata": {},
   "outputs": [
    {
     "data": {
      "image/svg+xml": [
       "<?xml version=\"1.0\" encoding=\"utf-8\"?>\n",
       "<svg xmlns=\"http://www.w3.org/2000/svg\" xmlns:xlink=\"http://www.w3.org/1999/xlink\" width=\"600\" height=\"400\" viewBox=\"0 0 2400 1600\">\n",
       "<defs>\n",
       "  <clipPath id=\"clip4200\">\n",
       "    <rect x=\"0\" y=\"0\" width=\"2400\" height=\"1600\"/>\n",
       "  </clipPath>\n",
       "</defs>\n",
       "<path clip-path=\"url(#clip4200)\" d=\"\n",
       "M0 1600 L2400 1600 L2400 0 L0 0  Z\n",
       "  \" fill=\"#ffffff\" fill-rule=\"evenodd\" fill-opacity=\"1\"/>\n",
       "<defs>\n",
       "  <clipPath id=\"clip4201\">\n",
       "    <rect x=\"480\" y=\"0\" width=\"1681\" height=\"1600\"/>\n",
       "  </clipPath>\n",
       "</defs>\n",
       "<path clip-path=\"url(#clip4200)\" d=\"\n",
       "M279.82 1425.62 L2352.76 1425.62 L2352.76 47.2441 L279.82 47.2441  Z\n",
       "  \" fill=\"#ffffff\" fill-rule=\"evenodd\" fill-opacity=\"1\"/>\n",
       "<defs>\n",
       "  <clipPath id=\"clip4202\">\n",
       "    <rect x=\"279\" y=\"47\" width=\"2074\" height=\"1379\"/>\n",
       "  </clipPath>\n",
       "</defs>\n",
       "<polyline clip-path=\"url(#clip4202)\" style=\"stroke:#000000; stroke-width:2; stroke-opacity:0.1; fill:none\" points=\"\n",
       "  287.025,1425.62 287.025,47.2441 \n",
       "  \"/>\n",
       "<polyline clip-path=\"url(#clip4202)\" style=\"stroke:#000000; stroke-width:2; stroke-opacity:0.1; fill:none\" points=\"\n",
       "  801.656,1425.62 801.656,47.2441 \n",
       "  \"/>\n",
       "<polyline clip-path=\"url(#clip4202)\" style=\"stroke:#000000; stroke-width:2; stroke-opacity:0.1; fill:none\" points=\"\n",
       "  1316.29,1425.62 1316.29,47.2441 \n",
       "  \"/>\n",
       "<polyline clip-path=\"url(#clip4202)\" style=\"stroke:#000000; stroke-width:2; stroke-opacity:0.1; fill:none\" points=\"\n",
       "  1830.92,1425.62 1830.92,47.2441 \n",
       "  \"/>\n",
       "<polyline clip-path=\"url(#clip4202)\" style=\"stroke:#000000; stroke-width:2; stroke-opacity:0.1; fill:none\" points=\"\n",
       "  2345.55,1425.62 2345.55,47.2441 \n",
       "  \"/>\n",
       "<polyline clip-path=\"url(#clip4202)\" style=\"stroke:#000000; stroke-width:2; stroke-opacity:0.1; fill:none\" points=\"\n",
       "  279.82,1386.61 2352.76,1386.61 \n",
       "  \"/>\n",
       "<polyline clip-path=\"url(#clip4202)\" style=\"stroke:#000000; stroke-width:2; stroke-opacity:0.1; fill:none\" points=\"\n",
       "  279.82,1004.39 2352.76,1004.39 \n",
       "  \"/>\n",
       "<polyline clip-path=\"url(#clip4202)\" style=\"stroke:#000000; stroke-width:2; stroke-opacity:0.1; fill:none\" points=\"\n",
       "  279.82,622.164 2352.76,622.164 \n",
       "  \"/>\n",
       "<polyline clip-path=\"url(#clip4202)\" style=\"stroke:#000000; stroke-width:2; stroke-opacity:0.1; fill:none\" points=\"\n",
       "  279.82,239.942 2352.76,239.942 \n",
       "  \"/>\n",
       "<polyline clip-path=\"url(#clip4200)\" style=\"stroke:#000000; stroke-width:4; stroke-opacity:1; fill:none\" points=\"\n",
       "  279.82,1425.62 2352.76,1425.62 \n",
       "  \"/>\n",
       "<polyline clip-path=\"url(#clip4200)\" style=\"stroke:#000000; stroke-width:4; stroke-opacity:1; fill:none\" points=\"\n",
       "  279.82,1425.62 279.82,47.2441 \n",
       "  \"/>\n",
       "<polyline clip-path=\"url(#clip4200)\" style=\"stroke:#000000; stroke-width:4; stroke-opacity:1; fill:none\" points=\"\n",
       "  287.025,1425.62 287.025,1409.08 \n",
       "  \"/>\n",
       "<polyline clip-path=\"url(#clip4200)\" style=\"stroke:#000000; stroke-width:4; stroke-opacity:1; fill:none\" points=\"\n",
       "  801.656,1425.62 801.656,1409.08 \n",
       "  \"/>\n",
       "<polyline clip-path=\"url(#clip4200)\" style=\"stroke:#000000; stroke-width:4; stroke-opacity:1; fill:none\" points=\"\n",
       "  1316.29,1425.62 1316.29,1409.08 \n",
       "  \"/>\n",
       "<polyline clip-path=\"url(#clip4200)\" style=\"stroke:#000000; stroke-width:4; stroke-opacity:1; fill:none\" points=\"\n",
       "  1830.92,1425.62 1830.92,1409.08 \n",
       "  \"/>\n",
       "<polyline clip-path=\"url(#clip4200)\" style=\"stroke:#000000; stroke-width:4; stroke-opacity:1; fill:none\" points=\"\n",
       "  2345.55,1425.62 2345.55,1409.08 \n",
       "  \"/>\n",
       "<polyline clip-path=\"url(#clip4200)\" style=\"stroke:#000000; stroke-width:4; stroke-opacity:1; fill:none\" points=\"\n",
       "  279.82,1386.61 304.695,1386.61 \n",
       "  \"/>\n",
       "<polyline clip-path=\"url(#clip4200)\" style=\"stroke:#000000; stroke-width:4; stroke-opacity:1; fill:none\" points=\"\n",
       "  279.82,1004.39 304.695,1004.39 \n",
       "  \"/>\n",
       "<polyline clip-path=\"url(#clip4200)\" style=\"stroke:#000000; stroke-width:4; stroke-opacity:1; fill:none\" points=\"\n",
       "  279.82,622.164 304.695,622.164 \n",
       "  \"/>\n",
       "<polyline clip-path=\"url(#clip4200)\" style=\"stroke:#000000; stroke-width:4; stroke-opacity:1; fill:none\" points=\"\n",
       "  279.82,239.942 304.695,239.942 \n",
       "  \"/>\n",
       "<g clip-path=\"url(#clip4200)\">\n",
       "<text style=\"fill:#000000; fill-opacity:1; font-family:Arial,Helvetica Neue,Helvetica,sans-serif; font-size:48px; text-anchor:middle;\" transform=\"rotate(0, 287.025, 1479.62)\" x=\"287.025\" y=\"1479.62\">0</text>\n",
       "</g>\n",
       "<g clip-path=\"url(#clip4200)\">\n",
       "<text style=\"fill:#000000; fill-opacity:1; font-family:Arial,Helvetica Neue,Helvetica,sans-serif; font-size:48px; text-anchor:middle;\" transform=\"rotate(0, 801.656, 1479.62)\" x=\"801.656\" y=\"1479.62\">10</text>\n",
       "</g>\n",
       "<g clip-path=\"url(#clip4200)\">\n",
       "<text style=\"fill:#000000; fill-opacity:1; font-family:Arial,Helvetica Neue,Helvetica,sans-serif; font-size:48px; text-anchor:middle;\" transform=\"rotate(0, 1316.29, 1479.62)\" x=\"1316.29\" y=\"1479.62\">20</text>\n",
       "</g>\n",
       "<g clip-path=\"url(#clip4200)\">\n",
       "<text style=\"fill:#000000; fill-opacity:1; font-family:Arial,Helvetica Neue,Helvetica,sans-serif; font-size:48px; text-anchor:middle;\" transform=\"rotate(0, 1830.92, 1479.62)\" x=\"1830.92\" y=\"1479.62\">30</text>\n",
       "</g>\n",
       "<g clip-path=\"url(#clip4200)\">\n",
       "<text style=\"fill:#000000; fill-opacity:1; font-family:Arial,Helvetica Neue,Helvetica,sans-serif; font-size:48px; text-anchor:middle;\" transform=\"rotate(0, 2345.55, 1479.62)\" x=\"2345.55\" y=\"1479.62\">40</text>\n",
       "</g>\n",
       "<g clip-path=\"url(#clip4200)\">\n",
       "<text style=\"fill:#000000; fill-opacity:1; font-family:Arial,Helvetica Neue,Helvetica,sans-serif; font-size:48px; text-anchor:start;\" transform=\"rotate(0, 157.712, 1410.34)\" x=\"157.712\" y=\"1410.34\">10</text>\n",
       "</g>\n",
       "<g clip-path=\"url(#clip4200)\">\n",
       "<text style=\"fill:#000000; fill-opacity:1; font-family:Arial,Helvetica Neue,Helvetica,sans-serif; font-size:38px; text-anchor:start;\" transform=\"rotate(0, 211.236, 1382.93)\" x=\"211.236\" y=\"1382.93\">-</text>\n",
       "</g>\n",
       "<g clip-path=\"url(#clip4200)\">\n",
       "<text style=\"fill:#000000; fill-opacity:1; font-family:Arial,Helvetica Neue,Helvetica,sans-serif; font-size:38px; text-anchor:start;\" transform=\"rotate(0, 234.076, 1382.93)\" x=\"234.076\" y=\"1382.93\">4</text>\n",
       "</g>\n",
       "<g clip-path=\"url(#clip4200)\">\n",
       "<text style=\"fill:#000000; fill-opacity:1; font-family:Arial,Helvetica Neue,Helvetica,sans-serif; font-size:48px; text-anchor:start;\" transform=\"rotate(0, 157.712, 1028.11)\" x=\"157.712\" y=\"1028.11\">10</text>\n",
       "</g>\n",
       "<g clip-path=\"url(#clip4200)\">\n",
       "<text style=\"fill:#000000; fill-opacity:1; font-family:Arial,Helvetica Neue,Helvetica,sans-serif; font-size:38px; text-anchor:start;\" transform=\"rotate(0, 211.236, 1000.7)\" x=\"211.236\" y=\"1000.7\">-</text>\n",
       "</g>\n",
       "<g clip-path=\"url(#clip4200)\">\n",
       "<text style=\"fill:#000000; fill-opacity:1; font-family:Arial,Helvetica Neue,Helvetica,sans-serif; font-size:38px; text-anchor:start;\" transform=\"rotate(0, 234.076, 1000.7)\" x=\"234.076\" y=\"1000.7\">3</text>\n",
       "</g>\n",
       "<g clip-path=\"url(#clip4200)\">\n",
       "<text style=\"fill:#000000; fill-opacity:1; font-family:Arial,Helvetica Neue,Helvetica,sans-serif; font-size:48px; text-anchor:start;\" transform=\"rotate(0, 157.712, 645.892)\" x=\"157.712\" y=\"645.892\">10</text>\n",
       "</g>\n",
       "<g clip-path=\"url(#clip4200)\">\n",
       "<text style=\"fill:#000000; fill-opacity:1; font-family:Arial,Helvetica Neue,Helvetica,sans-serif; font-size:38px; text-anchor:start;\" transform=\"rotate(0, 211.236, 618.481)\" x=\"211.236\" y=\"618.481\">-</text>\n",
       "</g>\n",
       "<g clip-path=\"url(#clip4200)\">\n",
       "<text style=\"fill:#000000; fill-opacity:1; font-family:Arial,Helvetica Neue,Helvetica,sans-serif; font-size:38px; text-anchor:start;\" transform=\"rotate(0, 234.076, 618.481)\" x=\"234.076\" y=\"618.481\">2</text>\n",
       "</g>\n",
       "<g clip-path=\"url(#clip4200)\">\n",
       "<text style=\"fill:#000000; fill-opacity:1; font-family:Arial,Helvetica Neue,Helvetica,sans-serif; font-size:48px; text-anchor:start;\" transform=\"rotate(0, 157.712, 263.67)\" x=\"157.712\" y=\"263.67\">10</text>\n",
       "</g>\n",
       "<g clip-path=\"url(#clip4200)\">\n",
       "<text style=\"fill:#000000; fill-opacity:1; font-family:Arial,Helvetica Neue,Helvetica,sans-serif; font-size:38px; text-anchor:start;\" transform=\"rotate(0, 211.236, 236.259)\" x=\"211.236\" y=\"236.259\">-</text>\n",
       "</g>\n",
       "<g clip-path=\"url(#clip4200)\">\n",
       "<text style=\"fill:#000000; fill-opacity:1; font-family:Arial,Helvetica Neue,Helvetica,sans-serif; font-size:38px; text-anchor:start;\" transform=\"rotate(0, 234.076, 236.259)\" x=\"234.076\" y=\"236.259\">1</text>\n",
       "</g>\n",
       "<g clip-path=\"url(#clip4200)\">\n",
       "<text style=\"fill:#000000; fill-opacity:1; font-family:Arial,Helvetica Neue,Helvetica,sans-serif; font-size:66px; text-anchor:middle;\" transform=\"rotate(0, 1316.29, 1559.48)\" x=\"1316.29\" y=\"1559.48\">Days until Recovery</text>\n",
       "</g>\n",
       "<g clip-path=\"url(#clip4200)\">\n",
       "<text style=\"fill:#000000; fill-opacity:1; font-family:Arial,Helvetica Neue,Helvetica,sans-serif; font-size:66px; text-anchor:middle;\" transform=\"rotate(-90, 89.2861, 736.431)\" x=\"89.2861\" y=\"736.431\">Percentage of Total</text>\n",
       "</g>\n",
       "<polyline clip-path=\"url(#clip4202)\" style=\"stroke:#009af9; stroke-width:4; stroke-opacity:1; fill:none\" points=\"\n",
       "  338.488,86.2547 389.951,134.36 441.414,182.202 492.878,234.071 544.341,285.279 595.804,337.978 647.267,357.006 698.73,427.023 750.193,459.142 801.656,521.849 \n",
       "  853.12,582.488 904.583,596.102 956.046,659.205 1007.51,698.861 1058.97,766.166 1110.44,822.02 1161.9,881.227 1213.36,881.227 1264.82,1063.59 1316.29,937.08 \n",
       "  1367.75,1119.45 1419.21,1119.45 1470.68,1089.18 1522.14,1204.24 1573.6,1204.24 1676.53,1386.61 1727.99,1204.24 1882.38,1386.61 1933.85,1386.61 2294.09,1386.61 \n",
       "  \n",
       "  \"/>\n",
       "<polyline clip-path=\"url(#clip4202)\" style=\"stroke:#e26f46; stroke-width:4; stroke-opacity:1; fill:none\" points=\"\n",
       "  491.951,1.46947e+042 491.951,-67.7956 \n",
       "  \"/>\n",
       "<path clip-path=\"url(#clip4200)\" d=\"\n",
       "M1505.75 312.204 L2280.76 312.204 L2280.76 130.764 L1505.75 130.764  Z\n",
       "  \" fill=\"#ffffff\" fill-rule=\"evenodd\" fill-opacity=\"1\"/>\n",
       "<polyline clip-path=\"url(#clip4200)\" style=\"stroke:#000000; stroke-width:4; stroke-opacity:1; fill:none\" points=\"\n",
       "  1505.75,312.204 2280.76,312.204 2280.76,130.764 1505.75,130.764 1505.75,312.204 \n",
       "  \"/>\n",
       "<polyline clip-path=\"url(#clip4200)\" style=\"stroke:#009af9; stroke-width:4; stroke-opacity:1; fill:none\" points=\"\n",
       "  1529.75,191.244 1673.75,191.244 \n",
       "  \"/>\n",
       "<g clip-path=\"url(#clip4200)\">\n",
       "<text style=\"fill:#000000; fill-opacity:1; font-family:Arial,Helvetica Neue,Helvetica,sans-serif; font-size:48px; text-anchor:start;\" transform=\"rotate(0, 1697.75, 208.744)\" x=\"1697.75\" y=\"208.744\">patient data</text>\n",
       "</g>\n",
       "<polyline clip-path=\"url(#clip4200)\" style=\"stroke:#e26f46; stroke-width:4; stroke-opacity:1; fill:none\" points=\"\n",
       "  1529.75,251.724 1673.75,251.724 \n",
       "  \"/>\n",
       "<g clip-path=\"url(#clip4200)\">\n",
       "<text style=\"fill:#000000; fill-opacity:1; font-family:Arial,Helvetica Neue,Helvetica,sans-serif; font-size:48px; text-anchor:start;\" transform=\"rotate(0, 1697.75, 269.224)\" x=\"1697.75\" y=\"269.224\">mean days until recovery</text>\n",
       "</g>\n",
       "</svg>\n"
      ]
     },
     "execution_count": 14,
     "metadata": {},
     "output_type": "execute_result"
    }
   ],
   "source": [
    "plot!(yscale=:log10)"
   ]
  },
  {
   "cell_type": "markdown",
   "metadata": {},
   "source": [
    "7. Write an interactive visualization that repeats [4] for $p$ varying between $0$ and $1$ and $N$ between $0$ and $100,000$.\n",
    "\n",
    "    As you vary $p$, what do you observe? Does that make sense?\n",
    "\n",
    "    Note that you can make a range for $p$ using something like `0:0.01:1.0`, and you can make a `@manipulate` with additional sliders using a double `for` loop: `for a in 1:10, b in 1:10`."
   ]
  },
  {
   "cell_type": "code",
   "execution_count": 15,
   "metadata": {},
   "outputs": [
    {
     "data": {
      "text/html": [
       "<script>\n",
       "// Immediately-invoked-function-expression to avoid global variables.\n",
       "(function() {\n",
       "    var warning_div = document.getElementById(\"webio-warning-10107583793061367417\");\n",
       "    var hide = function () {\n",
       "        var script = document.getElementById(\"webio-setup-8972898988886312758\");\n",
       "        var parent = script && script.parentElement;\n",
       "        var grandparent = parent && parent.parentElement;\n",
       "        if (grandparent) {\n",
       "            grandparent.style.display = \"none\";\n",
       "        }\n",
       "        warning_div.style.display = \"none\";\n",
       "    };\n",
       "    if (typeof Jupyter !== \"undefined\") {\n",
       "        console.log(\"WebIO detected Jupyter notebook environment.\");\n",
       "        // Jupyter notebook.\n",
       "        var extensions = (\n",
       "            Jupyter\n",
       "            && Jupyter.notebook.config.data\n",
       "            && Jupyter.notebook.config.data.load_extensions\n",
       "        );\n",
       "        if (extensions && extensions[\"webio-jupyter-notebook\"]) {\n",
       "            // Extension already loaded.\n",
       "            console.log(\"Jupyter WebIO nbextension detected; not loading ad-hoc.\");\n",
       "            hide();\n",
       "            return;\n",
       "        }\n",
       "    } else if (window.location.pathname.includes(\"/lab\")) {\n",
       "        // Guessing JupyterLa\n",
       "        console.log(\"Jupyter Lab detected; make sure the @webio/jupyter-lab-provider labextension is installed.\");\n",
       "        hide();\n",
       "        return;\n",
       "    }\n",
       "})();\n",
       "\n",
       "</script>\n",
       "<p\n",
       "    id=\"webio-warning-10107583793061367417\"\n",
       "    class=\"output_text output_stderr\"\n",
       "    style=\"padding: 1em; font-weight: bold;\"\n",
       ">\n",
       "    Unable to load WebIO. Please make sure WebIO works for your Jupyter client.\n",
       "    For troubleshooting, please see <a href=\"https://juliagizmos.github.io/WebIO.jl/latest/providers/ijulia/\">\n",
       "    the WebIO/IJulia documentation</a>.\n",
       "    <!-- TODO: link to installation docs. -->\n",
       "</p>\n"
      ],
      "text/plain": [
       "HTML{String}(\"<script>\\n// Immediately-invoked-function-expression to avoid global variables.\\n(function() {\\n    var warning_div = document.getElementById(\\\"webio-warning-10107583793061367417\\\");\\n    var hide = function () {\\n        var script = document.getElementById(\\\"webio-setup-8972898988886312758\\\");\\n        var parent = script && script.parentElement;\\n        var grandparent = parent && parent.parentElement;\\n        if (grandparent) {\\n            grandparent.style.display = \\\"none\\\";\\n        }\\n        warning_div.style.display = \\\"none\\\";\\n    };\\n    if (typeof Jupyter !== \\\"undefined\\\") {\\n        console.log(\\\"WebIO detected Jupyter notebook environment.\\\");\\n        // Jupyter notebook.\\n        var extensions = (\\n            Jupyter\\n            && Jupyter.notebook.config.data\\n            && Jupyter.notebook.config.data.load_extensions\\n        );\\n        if (extensions && extensions[\\\"webio-jupyter-notebook\\\"]) {\\n            // Extension already loaded.\\n            console.log(\\\"Jupyter WebIO nbextension detected; not loading ad-hoc.\\\");\\n            hide();\\n            return;\\n        }\\n    } else if (window.location.pathname.includes(\\\"/lab\\\")) {\\n        // Guessing JupyterLa\\n        console.log(\\\"Jupyter Lab detected; make sure the @webio/jupyter-lab-provider labextension is installed.\\\");\\n        hide();\\n        return;\\n    }\\n})();\\n\\n</script>\\n<p\\n    id=\\\"webio-warning-10107583793061367417\\\"\\n    class=\\\"output_text output_stderr\\\"\\n    style=\\\"padding: 1em; font-weight: bold;\\\"\\n>\\n    Unable to load WebIO. Please make sure WebIO works for your Jupyter client.\\n    For troubleshooting, please see <a href=\\\"https://juliagizmos.github.io/WebIO.jl/latest/providers/ijulia/\\\">\\n    the WebIO/IJulia documentation</a>.\\n    <!-- TODO: link to installation docs. -->\\n</p>\\n\")"
      ]
     },
     "metadata": {},
     "output_type": "display_data"
    },
    {
     "data": {
      "application/vnd.webio.node+json": {
       "children": [
        {
         "children": [
          {
           "children": [
            {
             "children": [
              {
               "children": [
                {
                 "children": [
                  "a"
                 ],
                 "instanceArgs": {
                  "namespace": "html",
                  "tag": "label"
                 },
                 "nodeType": "DOM",
                 "props": {
                  "className": "interact ",
                  "style": {
                   "padding": "5px 10px 0px 10px"
                  }
                 },
                 "type": "node"
                }
               ],
               "instanceArgs": {
                "namespace": "html",
                "tag": "div"
               },
               "nodeType": "DOM",
               "props": {
                "className": "interact-flex-row-left"
               },
               "type": "node"
              },
              {
               "children": [
                {
                 "children": [],
                 "instanceArgs": {
                  "namespace": "html",
                  "tag": "input"
                 },
                 "nodeType": "DOM",
                 "props": {
                  "attributes": {
                   "data-bind": "numericValue: index, valueUpdate: 'input', event: {change: function (){this.changes(this.changes()+1)}}",
                   "orient": "horizontal",
                   "type": "range"
                  },
                  "className": "slider slider is-fullwidth",
                  "max": 101,
                  "min": 1,
                  "step": 1,
                  "style": {}
                 },
                 "type": "node"
                }
               ],
               "instanceArgs": {
                "namespace": "html",
                "tag": "div"
               },
               "nodeType": "DOM",
               "props": {
                "className": "interact-flex-row-center"
               },
               "type": "node"
              },
              {
               "children": [
                {
                 "children": [],
                 "instanceArgs": {
                  "namespace": "html",
                  "tag": "p"
                 },
                 "nodeType": "DOM",
                 "props": {
                  "attributes": {
                   "data-bind": "text: formatted_val"
                  }
                 },
                 "type": "node"
                }
               ],
               "instanceArgs": {
                "namespace": "html",
                "tag": "div"
               },
               "nodeType": "DOM",
               "props": {
                "className": "interact-flex-row-right"
               },
               "type": "node"
              }
             ],
             "instanceArgs": {
              "namespace": "html",
              "tag": "div"
             },
             "nodeType": "DOM",
             "props": {
              "className": "interact-flex-row interact-widget"
             },
             "type": "node"
            }
           ],
           "instanceArgs": {
            "handlers": {
             "changes": [
              "(function (val){return (val!=this.model[\"changes\"]()) ? (this.valueFromJulia[\"changes\"]=true, this.model[\"changes\"](val)) : undefined})"
             ],
             "index": [
              "(function (val){return (val!=this.model[\"index\"]()) ? (this.valueFromJulia[\"index\"]=true, this.model[\"index\"](val)) : undefined})"
             ]
            },
            "id": "5446725080349824514",
            "imports": {
             "data": [
              {
               "name": "knockout",
               "type": "js",
               "url": "/assetserver/d0eab99e36662d489b02956f8196a72a23d80e5c-knockout.js"
              },
              {
               "name": "knockout_punches",
               "type": "js",
               "url": "/assetserver/cbffcd1f95c27b6d43e8ac2e42b7ec7bc67143b9-knockout_punches.js"
              },
              {
               "name": null,
               "type": "js",
               "url": "/assetserver/14a01397a98df29bded2fea1faa9b4e3577fbc2b-all.js"
              },
              {
               "name": null,
               "type": "css",
               "url": "/assetserver/4431834c57fda0f2fbf2c6b7f56a99d3e4cb7e9e-style.css"
              },
              {
               "name": null,
               "type": "css",
               "url": "/assetserver/70cf1cc6b3fcf96b29e48ec4c99d29b9d7956686-bulma_confined.min.css"
              }
             ],
             "type": "async_block"
            },
            "mount_callbacks": [
             "function () {\n    var handler = (function (ko, koPunches) {\n    ko.punches.enableAll();\n    ko.bindingHandlers.numericValue = {\n        init: function(element, valueAccessor, allBindings, data, context) {\n            var stringified = ko.observable(ko.unwrap(valueAccessor()));\n            stringified.subscribe(function(value) {\n                var val = parseFloat(value);\n                if (!isNaN(val)) {\n                    valueAccessor()(val);\n                }\n            });\n            valueAccessor().subscribe(function(value) {\n                var str = JSON.stringify(value);\n                if ((str == \"0\") && ([\"-0\", \"-0.\"].indexOf(stringified()) >= 0))\n                     return;\n                 if ([\"null\", \"\"].indexOf(str) >= 0)\n                     return;\n                stringified(str);\n            });\n            ko.applyBindingsToNode(\n                element,\n                {\n                    value: stringified,\n                    valueUpdate: allBindings.get('valueUpdate'),\n                },\n                context,\n            );\n        }\n    };\n    var json_data = {\"formatted_vals\":[\"0.0\",\"0.01\",\"0.02\",\"0.03\",\"0.04\",\"0.05\",\"0.06\",\"0.07\",\"0.08\",\"0.09\",\"0.1\",\"0.11\",\"0.12\",\"0.13\",\"0.14\",\"0.15\",\"0.16\",\"0.17\",\"0.18\",\"0.19\",\"0.2\",\"0.21\",\"0.22\",\"0.23\",\"0.24\",\"0.25\",\"0.26\",\"0.27\",\"0.28\",\"0.29\",\"0.3\",\"0.31\",\"0.32\",\"0.33\",\"0.34\",\"0.35\",\"0.36\",\"0.37\",\"0.38\",\"0.39\",\"0.4\",\"0.41\",\"0.42\",\"0.43\",\"0.44\",\"0.45\",\"0.46\",\"0.47\",\"0.48\",\"0.49\",\"0.5\",\"0.51\",\"0.52\",\"0.53\",\"0.54\",\"0.55\",\"0.56\",\"0.57\",\"0.58\",\"0.59\",\"0.6\",\"0.61\",\"0.62\",\"0.63\",\"0.64\",\"0.65\",\"0.66\",\"0.67\",\"0.68\",\"0.69\",\"0.7\",\"0.71\",\"0.72\",\"0.73\",\"0.74\",\"0.75\",\"0.76\",\"0.77\",\"0.78\",\"0.79\",\"0.8\",\"0.81\",\"0.82\",\"0.83\",\"0.84\",\"0.85\",\"0.86\",\"0.87\",\"0.88\",\"0.89\",\"0.9\",\"0.91\",\"0.92\",\"0.93\",\"0.94\",\"0.95\",\"0.96\",\"0.97\",\"0.98\",\"0.99\",\"1.0\"],\"changes\":WebIO.getval({\"name\":\"changes\",\"scope\":\"5446725080349824514\",\"id\":\"ob_03\",\"type\":\"observable\"}),\"index\":WebIO.getval({\"name\":\"index\",\"scope\":\"5446725080349824514\",\"id\":\"ob_02\",\"type\":\"observable\"})};\n    var self = this;\n    function AppViewModel() {\n        for (var key in json_data) {\n            var el = json_data[key];\n            this[key] = Array.isArray(el) ? ko.observableArray(el) : ko.observable(el);\n        }\n        \n        [this[\"formatted_val\"]=ko.computed(    function(){\n        return this.formatted_vals()[parseInt(this.index())-(1)];\n    }\n,this)]\n        [this[\"changes\"].subscribe((function (val){!(this.valueFromJulia[\"changes\"]) ? (WebIO.setval({\"name\":\"changes\",\"scope\":\"5446725080349824514\",\"id\":\"ob_03\",\"type\":\"observable\"},val)) : undefined; return this.valueFromJulia[\"changes\"]=false}),self),this[\"index\"].subscribe((function (val){!(this.valueFromJulia[\"index\"]) ? (WebIO.setval({\"name\":\"index\",\"scope\":\"5446725080349824514\",\"id\":\"ob_02\",\"type\":\"observable\"},val)) : undefined; return this.valueFromJulia[\"index\"]=false}),self)]\n        \n    }\n    self.model = new AppViewModel();\n    self.valueFromJulia = {};\n    for (var key in json_data) {\n        self.valueFromJulia[key] = false;\n    }\n    ko.applyBindings(self.model, self.dom);\n}\n);\n    (WebIO.importBlock({\"data\":[{\"name\":\"knockout\",\"type\":\"js\",\"url\":\"/assetserver/d0eab99e36662d489b02956f8196a72a23d80e5c-knockout.js\"},{\"name\":\"knockout_punches\",\"type\":\"js\",\"url\":\"/assetserver/cbffcd1f95c27b6d43e8ac2e42b7ec7bc67143b9-knockout_punches.js\"}],\"type\":\"async_block\"})).then((imports) => handler.apply(this, imports));\n}\n"
            ],
            "observables": {
             "changes": {
              "id": "ob_03",
              "sync": false,
              "value": 0
             },
             "index": {
              "id": "ob_02",
              "sync": true,
              "value": 51
             }
            },
            "systemjs_options": null
           },
           "nodeType": "Scope",
           "props": {},
           "type": "node"
          }
         ],
         "instanceArgs": {
          "namespace": "html",
          "tag": "div"
         },
         "nodeType": "DOM",
         "props": {
          "className": "field interact-widget"
         },
         "type": "node"
        },
        {
         "children": [
          {
           "children": [
            {
             "children": [
              {
               "children": [
                {
                 "children": [
                  "b"
                 ],
                 "instanceArgs": {
                  "namespace": "html",
                  "tag": "label"
                 },
                 "nodeType": "DOM",
                 "props": {
                  "className": "interact ",
                  "style": {
                   "padding": "5px 10px 0px 10px"
                  }
                 },
                 "type": "node"
                }
               ],
               "instanceArgs": {
                "namespace": "html",
                "tag": "div"
               },
               "nodeType": "DOM",
               "props": {
                "className": "interact-flex-row-left"
               },
               "type": "node"
              },
              {
               "children": [
                {
                 "children": [],
                 "instanceArgs": {
                  "namespace": "html",
                  "tag": "input"
                 },
                 "nodeType": "DOM",
                 "props": {
                  "attributes": {
                   "data-bind": "numericValue: index, valueUpdate: 'input', event: {change: function (){this.changes(this.changes()+1)}}",
                   "orient": "horizontal",
                   "type": "range"
                  },
                  "className": "slider slider is-fullwidth",
                  "max": 101,
                  "min": 1,
                  "step": 1,
                  "style": {}
                 },
                 "type": "node"
                }
               ],
               "instanceArgs": {
                "namespace": "html",
                "tag": "div"
               },
               "nodeType": "DOM",
               "props": {
                "className": "interact-flex-row-center"
               },
               "type": "node"
              },
              {
               "children": [
                {
                 "children": [],
                 "instanceArgs": {
                  "namespace": "html",
                  "tag": "p"
                 },
                 "nodeType": "DOM",
                 "props": {
                  "attributes": {
                   "data-bind": "text: formatted_val"
                  }
                 },
                 "type": "node"
                }
               ],
               "instanceArgs": {
                "namespace": "html",
                "tag": "div"
               },
               "nodeType": "DOM",
               "props": {
                "className": "interact-flex-row-right"
               },
               "type": "node"
              }
             ],
             "instanceArgs": {
              "namespace": "html",
              "tag": "div"
             },
             "nodeType": "DOM",
             "props": {
              "className": "interact-flex-row interact-widget"
             },
             "type": "node"
            }
           ],
           "instanceArgs": {
            "handlers": {
             "changes": [
              "(function (val){return (val!=this.model[\"changes\"]()) ? (this.valueFromJulia[\"changes\"]=true, this.model[\"changes\"](val)) : undefined})"
             ],
             "index": [
              "(function (val){return (val!=this.model[\"index\"]()) ? (this.valueFromJulia[\"index\"]=true, this.model[\"index\"](val)) : undefined})"
             ]
            },
            "id": "1403566640770380839",
            "imports": {
             "data": [
              {
               "name": "knockout",
               "type": "js",
               "url": "/assetserver/d0eab99e36662d489b02956f8196a72a23d80e5c-knockout.js"
              },
              {
               "name": "knockout_punches",
               "type": "js",
               "url": "/assetserver/cbffcd1f95c27b6d43e8ac2e42b7ec7bc67143b9-knockout_punches.js"
              },
              {
               "name": null,
               "type": "js",
               "url": "/assetserver/14a01397a98df29bded2fea1faa9b4e3577fbc2b-all.js"
              },
              {
               "name": null,
               "type": "css",
               "url": "/assetserver/4431834c57fda0f2fbf2c6b7f56a99d3e4cb7e9e-style.css"
              },
              {
               "name": null,
               "type": "css",
               "url": "/assetserver/70cf1cc6b3fcf96b29e48ec4c99d29b9d7956686-bulma_confined.min.css"
              }
             ],
             "type": "async_block"
            },
            "mount_callbacks": [
             "function () {\n    var handler = (function (ko, koPunches) {\n    ko.punches.enableAll();\n    ko.bindingHandlers.numericValue = {\n        init: function(element, valueAccessor, allBindings, data, context) {\n            var stringified = ko.observable(ko.unwrap(valueAccessor()));\n            stringified.subscribe(function(value) {\n                var val = parseFloat(value);\n                if (!isNaN(val)) {\n                    valueAccessor()(val);\n                }\n            });\n            valueAccessor().subscribe(function(value) {\n                var str = JSON.stringify(value);\n                if ((str == \"0\") && ([\"-0\", \"-0.\"].indexOf(stringified()) >= 0))\n                     return;\n                 if ([\"null\", \"\"].indexOf(str) >= 0)\n                     return;\n                stringified(str);\n            });\n            ko.applyBindingsToNode(\n                element,\n                {\n                    value: stringified,\n                    valueUpdate: allBindings.get('valueUpdate'),\n                },\n                context,\n            );\n        }\n    };\n    var json_data = {\"formatted_vals\":[\"0\",\"1000\",\"2000\",\"3000\",\"4000\",\"5000\",\"6000\",\"7000\",\"8000\",\"9000\",\"10000\",\"11000\",\"12000\",\"13000\",\"14000\",\"15000\",\"16000\",\"17000\",\"18000\",\"19000\",\"20000\",\"21000\",\"22000\",\"23000\",\"24000\",\"25000\",\"26000\",\"27000\",\"28000\",\"29000\",\"30000\",\"31000\",\"32000\",\"33000\",\"34000\",\"35000\",\"36000\",\"37000\",\"38000\",\"39000\",\"40000\",\"41000\",\"42000\",\"43000\",\"44000\",\"45000\",\"46000\",\"47000\",\"48000\",\"49000\",\"50000\",\"51000\",\"52000\",\"53000\",\"54000\",\"55000\",\"56000\",\"57000\",\"58000\",\"59000\",\"60000\",\"61000\",\"62000\",\"63000\",\"64000\",\"65000\",\"66000\",\"67000\",\"68000\",\"69000\",\"70000\",\"71000\",\"72000\",\"73000\",\"74000\",\"75000\",\"76000\",\"77000\",\"78000\",\"79000\",\"80000\",\"81000\",\"82000\",\"83000\",\"84000\",\"85000\",\"86000\",\"87000\",\"88000\",\"89000\",\"90000\",\"91000\",\"92000\",\"93000\",\"94000\",\"95000\",\"96000\",\"97000\",\"98000\",\"99000\",\"100000\"],\"changes\":WebIO.getval({\"name\":\"changes\",\"scope\":\"1403566640770380839\",\"id\":\"ob_06\",\"type\":\"observable\"}),\"index\":WebIO.getval({\"name\":\"index\",\"scope\":\"1403566640770380839\",\"id\":\"ob_05\",\"type\":\"observable\"})};\n    var self = this;\n    function AppViewModel() {\n        for (var key in json_data) {\n            var el = json_data[key];\n            this[key] = Array.isArray(el) ? ko.observableArray(el) : ko.observable(el);\n        }\n        \n        [this[\"formatted_val\"]=ko.computed(    function(){\n        return this.formatted_vals()[parseInt(this.index())-(1)];\n    }\n,this)]\n        [this[\"changes\"].subscribe((function (val){!(this.valueFromJulia[\"changes\"]) ? (WebIO.setval({\"name\":\"changes\",\"scope\":\"1403566640770380839\",\"id\":\"ob_06\",\"type\":\"observable\"},val)) : undefined; return this.valueFromJulia[\"changes\"]=false}),self),this[\"index\"].subscribe((function (val){!(this.valueFromJulia[\"index\"]) ? (WebIO.setval({\"name\":\"index\",\"scope\":\"1403566640770380839\",\"id\":\"ob_05\",\"type\":\"observable\"},val)) : undefined; return this.valueFromJulia[\"index\"]=false}),self)]\n        \n    }\n    self.model = new AppViewModel();\n    self.valueFromJulia = {};\n    for (var key in json_data) {\n        self.valueFromJulia[key] = false;\n    }\n    ko.applyBindings(self.model, self.dom);\n}\n);\n    (WebIO.importBlock({\"data\":[{\"name\":\"knockout\",\"type\":\"js\",\"url\":\"/assetserver/d0eab99e36662d489b02956f8196a72a23d80e5c-knockout.js\"},{\"name\":\"knockout_punches\",\"type\":\"js\",\"url\":\"/assetserver/cbffcd1f95c27b6d43e8ac2e42b7ec7bc67143b9-knockout_punches.js\"}],\"type\":\"async_block\"})).then((imports) => handler.apply(this, imports));\n}\n"
            ],
            "observables": {
             "changes": {
              "id": "ob_06",
              "sync": false,
              "value": 0
             },
             "index": {
              "id": "ob_05",
              "sync": true,
              "value": 51
             }
            },
            "systemjs_options": null
           },
           "nodeType": "Scope",
           "props": {},
           "type": "node"
          }
         ],
         "instanceArgs": {
          "namespace": "html",
          "tag": "div"
         },
         "nodeType": "DOM",
         "props": {
          "className": "field interact-widget"
         },
         "type": "node"
        },
        {
         "children": [
          {
           "children": [],
           "instanceArgs": {
            "id": "ob_12",
            "name": "obs-node"
           },
           "nodeType": "ObservableNode",
           "props": {},
           "type": "node"
          }
         ],
         "instanceArgs": {
          "handlers": {},
          "id": "1979887153826154579",
          "imports": {
           "data": [],
           "type": "async_block"
          },
          "mount_callbacks": [],
          "observables": {
           "obs-node": {
            "id": "ob_12",
            "sync": false,
            "value": {
             "children": [
              {
               "children": [],
               "instanceArgs": {
                "namespace": "html",
                "tag": "div"
               },
               "nodeType": "DOM",
               "props": {
                "setInnerHtml": "<?xml version=\"1.0\" encoding=\"utf-8\"?>\n<svg xmlns=\"http://www.w3.org/2000/svg\" xmlns:xlink=\"http://www.w3.org/1999/xlink\" width=\"600\" height=\"400\" viewBox=\"0 0 2400 1600\">\n<defs>\n  <clipPath id=\"clip5000\">\n    <rect x=\"0\" y=\"0\" width=\"2400\" height=\"1600\"/>\n  </clipPath>\n</defs>\n<path clip-path=\"url(#clip5000)\" d=\"\nM0 1600 L2400 1600 L2400 0 L0 0  Z\n  \" fill=\"#ffffff\" fill-rule=\"evenodd\" fill-opacity=\"1\"/>\n<defs>\n  <clipPath id=\"clip5001\">\n    <rect x=\"480\" y=\"0\" width=\"1681\" height=\"1600\"/>\n  </clipPath>\n</defs>\n<path clip-path=\"url(#clip5000)\" d=\"\nM215.754 1425.62 L2352.76 1425.62 L2352.76 47.2441 L215.754 47.2441  Z\n  \" fill=\"#ffffff\" fill-rule=\"evenodd\" fill-opacity=\"1\"/>\n<defs>\n  <clipPath id=\"clip5002\">\n    <rect x=\"215\" y=\"47\" width=\"2138\" height=\"1379\"/>\n  </clipPath>\n</defs>\n<polyline clip-path=\"url(#clip5002)\" style=\"stroke:#000000; stroke-width:2; stroke-opacity:0.1; fill:none\" points=\"\n  454.121,1425.62 454.121,47.2441 \n  \"/>\n<polyline clip-path=\"url(#clip5002)\" style=\"stroke:#000000; stroke-width:2; stroke-opacity:0.1; fill:none\" points=\"\n  750.597,1425.62 750.597,47.2441 \n  \"/>\n<polyline clip-path=\"url(#clip5002)\" style=\"stroke:#000000; stroke-width:2; stroke-opacity:0.1; fill:none\" points=\"\n  1047.07,1425.62 1047.07,47.2441 \n  \"/>\n<polyline clip-path=\"url(#clip5002)\" style=\"stroke:#000000; stroke-width:2; stroke-opacity:0.1; fill:none\" points=\"\n  1343.55,1425.62 1343.55,47.2441 \n  \"/>\n<polyline clip-path=\"url(#clip5002)\" style=\"stroke:#000000; stroke-width:2; stroke-opacity:0.1; fill:none\" points=\"\n  1640.03,1425.62 1640.03,47.2441 \n  \"/>\n<polyline clip-path=\"url(#clip5002)\" style=\"stroke:#000000; stroke-width:2; stroke-opacity:0.1; fill:none\" points=\"\n  1936.5,1425.62 1936.5,47.2441 \n  \"/>\n<polyline clip-path=\"url(#clip5002)\" style=\"stroke:#000000; stroke-width:2; stroke-opacity:0.1; fill:none\" points=\"\n  2232.98,1425.62 2232.98,47.2441 \n  \"/>\n<polyline clip-path=\"url(#clip5002)\" style=\"stroke:#000000; stroke-width:2; stroke-opacity:0.1; fill:none\" points=\"\n  215.754,1386.66 2352.76,1386.66 \n  \"/>\n<polyline clip-path=\"url(#clip5002)\" style=\"stroke:#000000; stroke-width:2; stroke-opacity:0.1; fill:none\" points=\"\n  215.754,1125.52 2352.76,1125.52 \n  \"/>\n<polyline clip-path=\"url(#clip5002)\" style=\"stroke:#000000; stroke-width:2; stroke-opacity:0.1; fill:none\" points=\"\n  215.754,864.388 2352.76,864.388 \n  \"/>\n<polyline clip-path=\"url(#clip5002)\" style=\"stroke:#000000; stroke-width:2; stroke-opacity:0.1; fill:none\" points=\"\n  215.754,603.252 2352.76,603.252 \n  \"/>\n<polyline clip-path=\"url(#clip5002)\" style=\"stroke:#000000; stroke-width:2; stroke-opacity:0.1; fill:none\" points=\"\n  215.754,342.116 2352.76,342.116 \n  \"/>\n<polyline clip-path=\"url(#clip5002)\" style=\"stroke:#000000; stroke-width:2; stroke-opacity:0.1; fill:none\" points=\"\n  215.754,80.9797 2352.76,80.9797 \n  \"/>\n<polyline clip-path=\"url(#clip5000)\" style=\"stroke:#000000; stroke-width:4; stroke-opacity:1; fill:none\" points=\"\n  215.754,1425.62 2352.76,1425.62 \n  \"/>\n<polyline clip-path=\"url(#clip5000)\" style=\"stroke:#000000; stroke-width:4; stroke-opacity:1; fill:none\" points=\"\n  215.754,1425.62 215.754,47.2441 \n  \"/>\n<polyline clip-path=\"url(#clip5000)\" style=\"stroke:#000000; stroke-width:4; stroke-opacity:1; fill:none\" points=\"\n  454.121,1425.62 454.121,1409.08 \n  \"/>\n<polyline clip-path=\"url(#clip5000)\" style=\"stroke:#000000; stroke-width:4; stroke-opacity:1; fill:none\" points=\"\n  750.597,1425.62 750.597,1409.08 \n  \"/>\n<polyline clip-path=\"url(#clip5000)\" style=\"stroke:#000000; stroke-width:4; stroke-opacity:1; fill:none\" points=\"\n  1047.07,1425.62 1047.07,1409.08 \n  \"/>\n<polyline clip-path=\"url(#clip5000)\" style=\"stroke:#000000; stroke-width:4; stroke-opacity:1; fill:none\" points=\"\n  1343.55,1425.62 1343.55,1409.08 \n  \"/>\n<polyline clip-path=\"url(#clip5000)\" style=\"stroke:#000000; stroke-width:4; stroke-opacity:1; fill:none\" points=\"\n  1640.03,1425.62 1640.03,1409.08 \n  \"/>\n<polyline clip-path=\"url(#clip5000)\" style=\"stroke:#000000; stroke-width:4; stroke-opacity:1; fill:none\" points=\"\n  1936.5,1425.62 1936.5,1409.08 \n  \"/>\n<polyline clip-path=\"url(#clip5000)\" style=\"stroke:#000000; stroke-width:4; stroke-opacity:1; fill:none\" points=\"\n  2232.98,1425.62 2232.98,1409.08 \n  \"/>\n<polyline clip-path=\"url(#clip5000)\" style=\"stroke:#000000; stroke-width:4; stroke-opacity:1; fill:none\" points=\"\n  215.754,1386.66 241.398,1386.66 \n  \"/>\n<polyline clip-path=\"url(#clip5000)\" style=\"stroke:#000000; stroke-width:4; stroke-opacity:1; fill:none\" points=\"\n  215.754,1125.52 241.398,1125.52 \n  \"/>\n<polyline clip-path=\"url(#clip5000)\" style=\"stroke:#000000; stroke-width:4; stroke-opacity:1; fill:none\" points=\"\n  215.754,864.388 241.398,864.388 \n  \"/>\n<polyline clip-path=\"url(#clip5000)\" style=\"stroke:#000000; stroke-width:4; stroke-opacity:1; fill:none\" points=\"\n  215.754,603.252 241.398,603.252 \n  \"/>\n<polyline clip-path=\"url(#clip5000)\" style=\"stroke:#000000; stroke-width:4; stroke-opacity:1; fill:none\" points=\"\n  215.754,342.116 241.398,342.116 \n  \"/>\n<polyline clip-path=\"url(#clip5000)\" style=\"stroke:#000000; stroke-width:4; stroke-opacity:1; fill:none\" points=\"\n  215.754,80.9797 241.398,80.9797 \n  \"/>\n<g clip-path=\"url(#clip5000)\">\n<text style=\"fill:#000000; fill-opacity:1; font-family:Arial,Helvetica Neue,Helvetica,sans-serif; font-size:48px; text-anchor:middle;\" transform=\"rotate(0, 454.121, 1479.62)\" x=\"454.121\" y=\"1479.62\">2.5</text>\n</g>\n<g clip-path=\"url(#clip5000)\">\n<text style=\"fill:#000000; fill-opacity:1; font-family:Arial,Helvetica Neue,Helvetica,sans-serif; font-size:48px; text-anchor:middle;\" transform=\"rotate(0, 750.597, 1479.62)\" x=\"750.597\" y=\"1479.62\">5.0</text>\n</g>\n<g clip-path=\"url(#clip5000)\">\n<text style=\"fill:#000000; fill-opacity:1; font-family:Arial,Helvetica Neue,Helvetica,sans-serif; font-size:48px; text-anchor:middle;\" transform=\"rotate(0, 1047.07, 1479.62)\" x=\"1047.07\" y=\"1479.62\">7.5</text>\n</g>\n<g clip-path=\"url(#clip5000)\">\n<text style=\"fill:#000000; fill-opacity:1; font-family:Arial,Helvetica Neue,Helvetica,sans-serif; font-size:48px; text-anchor:middle;\" transform=\"rotate(0, 1343.55, 1479.62)\" x=\"1343.55\" y=\"1479.62\">10.0</text>\n</g>\n<g clip-path=\"url(#clip5000)\">\n<text style=\"fill:#000000; fill-opacity:1; font-family:Arial,Helvetica Neue,Helvetica,sans-serif; font-size:48px; text-anchor:middle;\" transform=\"rotate(0, 1640.03, 1479.62)\" x=\"1640.03\" y=\"1479.62\">12.5</text>\n</g>\n<g clip-path=\"url(#clip5000)\">\n<text style=\"fill:#000000; fill-opacity:1; font-family:Arial,Helvetica Neue,Helvetica,sans-serif; font-size:48px; text-anchor:middle;\" transform=\"rotate(0, 1936.5, 1479.62)\" x=\"1936.5\" y=\"1479.62\">15.0</text>\n</g>\n<g clip-path=\"url(#clip5000)\">\n<text style=\"fill:#000000; fill-opacity:1; font-family:Arial,Helvetica Neue,Helvetica,sans-serif; font-size:48px; text-anchor:middle;\" transform=\"rotate(0, 2232.98, 1479.62)\" x=\"2232.98\" y=\"1479.62\">17.5</text>\n</g>\n<g clip-path=\"url(#clip5000)\">\n<text style=\"fill:#000000; fill-opacity:1; font-family:Arial,Helvetica Neue,Helvetica,sans-serif; font-size:48px; text-anchor:end;\" transform=\"rotate(0, 191.754, 1404.16)\" x=\"191.754\" y=\"1404.16\">0.0</text>\n</g>\n<g clip-path=\"url(#clip5000)\">\n<text style=\"fill:#000000; fill-opacity:1; font-family:Arial,Helvetica Neue,Helvetica,sans-serif; font-size:48px; text-anchor:end;\" transform=\"rotate(0, 191.754, 1143.02)\" x=\"191.754\" y=\"1143.02\">0.1</text>\n</g>\n<g clip-path=\"url(#clip5000)\">\n<text style=\"fill:#000000; fill-opacity:1; font-family:Arial,Helvetica Neue,Helvetica,sans-serif; font-size:48px; text-anchor:end;\" transform=\"rotate(0, 191.754, 881.888)\" x=\"191.754\" y=\"881.888\">0.2</text>\n</g>\n<g clip-path=\"url(#clip5000)\">\n<text style=\"fill:#000000; fill-opacity:1; font-family:Arial,Helvetica Neue,Helvetica,sans-serif; font-size:48px; text-anchor:end;\" transform=\"rotate(0, 191.754, 620.752)\" x=\"191.754\" y=\"620.752\">0.3</text>\n</g>\n<g clip-path=\"url(#clip5000)\">\n<text style=\"fill:#000000; fill-opacity:1; font-family:Arial,Helvetica Neue,Helvetica,sans-serif; font-size:48px; text-anchor:end;\" transform=\"rotate(0, 191.754, 359.616)\" x=\"191.754\" y=\"359.616\">0.4</text>\n</g>\n<g clip-path=\"url(#clip5000)\">\n<text style=\"fill:#000000; fill-opacity:1; font-family:Arial,Helvetica Neue,Helvetica,sans-serif; font-size:48px; text-anchor:end;\" transform=\"rotate(0, 191.754, 98.4797)\" x=\"191.754\" y=\"98.4797\">0.5</text>\n</g>\n<g clip-path=\"url(#clip5000)\">\n<text style=\"fill:#000000; fill-opacity:1; font-family:Arial,Helvetica Neue,Helvetica,sans-serif; font-size:66px; text-anchor:middle;\" transform=\"rotate(0, 1284.25, 1559.48)\" x=\"1284.25\" y=\"1559.48\">Days until Recovery</text>\n</g>\n<g clip-path=\"url(#clip5000)\">\n<text style=\"fill:#000000; fill-opacity:1; font-family:Arial,Helvetica Neue,Helvetica,sans-serif; font-size:66px; text-anchor:middle;\" transform=\"rotate(-90, 89.2861, 736.431)\" x=\"89.2861\" y=\"736.431\">Percentage of Total</text>\n</g>\n<polyline clip-path=\"url(#clip5002)\" style=\"stroke:#009af9; stroke-width:4; stroke-opacity:1; fill:none\" points=\"\n  276.235,86.2547 394.826,736.431 513.416,1057.63 632.007,1215.62 750.597,1304.45 869.188,1346.5 987.779,1366.34 1106.37,1377.52 1224.96,1382.27 1343.55,1384.21 \n  1462.14,1385.51 1580.73,1386.24 1699.32,1386.4 1936.5,1386.56 2292.27,1386.61 \n  \"/>\n<path clip-path=\"url(#clip5000)\" d=\"\nM1789.21 251.724 L2280.76 251.724 L2280.76 130.764 L1789.21 130.764  Z\n  \" fill=\"#ffffff\" fill-rule=\"evenodd\" fill-opacity=\"1\"/>\n<polyline clip-path=\"url(#clip5000)\" style=\"stroke:#000000; stroke-width:4; stroke-opacity:1; fill:none\" points=\"\n  1789.21,251.724 2280.76,251.724 2280.76,130.764 1789.21,130.764 1789.21,251.724 \n  \"/>\n<polyline clip-path=\"url(#clip5000)\" style=\"stroke:#009af9; stroke-width:4; stroke-opacity:1; fill:none\" points=\"\n  1813.21,191.244 1957.21,191.244 \n  \"/>\n<g clip-path=\"url(#clip5000)\">\n<text style=\"fill:#000000; fill-opacity:1; font-family:Arial,Helvetica Neue,Helvetica,sans-serif; font-size:48px; text-anchor:start;\" transform=\"rotate(0, 1981.21, 208.744)\" x=\"1981.21\" y=\"208.744\">patient data</text>\n</g>\n</svg>\n"
               },
               "type": "node"
              }
             ],
             "instanceArgs": {
              "namespace": "html",
              "tag": "div"
             },
             "nodeType": "DOM",
             "props": {
              "className": "interact-flex-row interact-widget"
             },
             "type": "node"
            }
           }
          },
          "systemjs_options": null
         },
         "nodeType": "Scope",
         "props": {},
         "type": "node"
        }
       ],
       "instanceArgs": {
        "namespace": "html",
        "tag": "div"
       },
       "nodeType": "DOM",
       "props": {},
       "type": "node"
      },
      "text/html": [
       "<div\n",
       "    class=\"webio-mountpoint\"\n",
       "    data-webio-mountpoint=\"12679987603331644951\"\n",
       ">\n",
       "    <script>\n",
       "    if (window.require && require.defined && require.defined(\"nbextensions/webio-jupyter-notebook\")) {\n",
       "        console.log(\"Jupyter WebIO extension detected, not mounting.\");\n",
       "    } else if (window.WebIO) {\n",
       "        WebIO.mount(\n",
       "            document.querySelector('[data-webio-mountpoint=\"12679987603331644951\"]'),\n",
       "            {\"props\":{},\"nodeType\":\"DOM\",\"type\":\"node\",\"instanceArgs\":{\"namespace\":\"html\",\"tag\":\"div\"},\"children\":[{\"props\":{\"className\":\"field interact-widget\"},\"nodeType\":\"DOM\",\"type\":\"node\",\"instanceArgs\":{\"namespace\":\"html\",\"tag\":\"div\"},\"children\":[{\"props\":{},\"nodeType\":\"Scope\",\"type\":\"node\",\"instanceArgs\":{\"imports\":{\"data\":[{\"name\":\"knockout\",\"type\":\"js\",\"url\":\"\\/assetserver\\/d0eab99e36662d489b02956f8196a72a23d80e5c-knockout.js\"},{\"name\":\"knockout_punches\",\"type\":\"js\",\"url\":\"\\/assetserver\\/cbffcd1f95c27b6d43e8ac2e42b7ec7bc67143b9-knockout_punches.js\"},{\"name\":null,\"type\":\"js\",\"url\":\"\\/assetserver\\/14a01397a98df29bded2fea1faa9b4e3577fbc2b-all.js\"},{\"name\":null,\"type\":\"css\",\"url\":\"\\/assetserver\\/4431834c57fda0f2fbf2c6b7f56a99d3e4cb7e9e-style.css\"},{\"name\":null,\"type\":\"css\",\"url\":\"\\/assetserver\\/70cf1cc6b3fcf96b29e48ec4c99d29b9d7956686-bulma_confined.min.css\"}],\"type\":\"async_block\"},\"id\":\"5446725080349824514\",\"handlers\":{\"changes\":[\"(function (val){return (val!=this.model[\\\"changes\\\"]()) ? (this.valueFromJulia[\\\"changes\\\"]=true, this.model[\\\"changes\\\"](val)) : undefined})\"],\"index\":[\"(function (val){return (val!=this.model[\\\"index\\\"]()) ? (this.valueFromJulia[\\\"index\\\"]=true, this.model[\\\"index\\\"](val)) : undefined})\"]},\"systemjs_options\":null,\"mount_callbacks\":[\"function () {\\n    var handler = (function (ko, koPunches) {\\n    ko.punches.enableAll();\\n    ko.bindingHandlers.numericValue = {\\n        init: function(element, valueAccessor, allBindings, data, context) {\\n            var stringified = ko.observable(ko.unwrap(valueAccessor()));\\n            stringified.subscribe(function(value) {\\n                var val = parseFloat(value);\\n                if (!isNaN(val)) {\\n                    valueAccessor()(val);\\n                }\\n            });\\n            valueAccessor().subscribe(function(value) {\\n                var str = JSON.stringify(value);\\n                if ((str == \\\"0\\\") && ([\\\"-0\\\", \\\"-0.\\\"].indexOf(stringified()) >= 0))\\n                     return;\\n                 if ([\\\"null\\\", \\\"\\\"].indexOf(str) >= 0)\\n                     return;\\n                stringified(str);\\n            });\\n            ko.applyBindingsToNode(\\n                element,\\n                {\\n                    value: stringified,\\n                    valueUpdate: allBindings.get('valueUpdate'),\\n                },\\n                context,\\n            );\\n        }\\n    };\\n    var json_data = {\\\"formatted_vals\\\":[\\\"0.0\\\",\\\"0.01\\\",\\\"0.02\\\",\\\"0.03\\\",\\\"0.04\\\",\\\"0.05\\\",\\\"0.06\\\",\\\"0.07\\\",\\\"0.08\\\",\\\"0.09\\\",\\\"0.1\\\",\\\"0.11\\\",\\\"0.12\\\",\\\"0.13\\\",\\\"0.14\\\",\\\"0.15\\\",\\\"0.16\\\",\\\"0.17\\\",\\\"0.18\\\",\\\"0.19\\\",\\\"0.2\\\",\\\"0.21\\\",\\\"0.22\\\",\\\"0.23\\\",\\\"0.24\\\",\\\"0.25\\\",\\\"0.26\\\",\\\"0.27\\\",\\\"0.28\\\",\\\"0.29\\\",\\\"0.3\\\",\\\"0.31\\\",\\\"0.32\\\",\\\"0.33\\\",\\\"0.34\\\",\\\"0.35\\\",\\\"0.36\\\",\\\"0.37\\\",\\\"0.38\\\",\\\"0.39\\\",\\\"0.4\\\",\\\"0.41\\\",\\\"0.42\\\",\\\"0.43\\\",\\\"0.44\\\",\\\"0.45\\\",\\\"0.46\\\",\\\"0.47\\\",\\\"0.48\\\",\\\"0.49\\\",\\\"0.5\\\",\\\"0.51\\\",\\\"0.52\\\",\\\"0.53\\\",\\\"0.54\\\",\\\"0.55\\\",\\\"0.56\\\",\\\"0.57\\\",\\\"0.58\\\",\\\"0.59\\\",\\\"0.6\\\",\\\"0.61\\\",\\\"0.62\\\",\\\"0.63\\\",\\\"0.64\\\",\\\"0.65\\\",\\\"0.66\\\",\\\"0.67\\\",\\\"0.68\\\",\\\"0.69\\\",\\\"0.7\\\",\\\"0.71\\\",\\\"0.72\\\",\\\"0.73\\\",\\\"0.74\\\",\\\"0.75\\\",\\\"0.76\\\",\\\"0.77\\\",\\\"0.78\\\",\\\"0.79\\\",\\\"0.8\\\",\\\"0.81\\\",\\\"0.82\\\",\\\"0.83\\\",\\\"0.84\\\",\\\"0.85\\\",\\\"0.86\\\",\\\"0.87\\\",\\\"0.88\\\",\\\"0.89\\\",\\\"0.9\\\",\\\"0.91\\\",\\\"0.92\\\",\\\"0.93\\\",\\\"0.94\\\",\\\"0.95\\\",\\\"0.96\\\",\\\"0.97\\\",\\\"0.98\\\",\\\"0.99\\\",\\\"1.0\\\"],\\\"changes\\\":WebIO.getval({\\\"name\\\":\\\"changes\\\",\\\"scope\\\":\\\"5446725080349824514\\\",\\\"id\\\":\\\"ob_03\\\",\\\"type\\\":\\\"observable\\\"}),\\\"index\\\":WebIO.getval({\\\"name\\\":\\\"index\\\",\\\"scope\\\":\\\"5446725080349824514\\\",\\\"id\\\":\\\"ob_02\\\",\\\"type\\\":\\\"observable\\\"})};\\n    var self = this;\\n    function AppViewModel() {\\n        for (var key in json_data) {\\n            var el = json_data[key];\\n            this[key] = Array.isArray(el) ? ko.observableArray(el) : ko.observable(el);\\n        }\\n        \\n        [this[\\\"formatted_val\\\"]=ko.computed(    function(){\\n        return this.formatted_vals()[parseInt(this.index())-(1)];\\n    }\\n,this)]\\n        [this[\\\"changes\\\"].subscribe((function (val){!(this.valueFromJulia[\\\"changes\\\"]) ? (WebIO.setval({\\\"name\\\":\\\"changes\\\",\\\"scope\\\":\\\"5446725080349824514\\\",\\\"id\\\":\\\"ob_03\\\",\\\"type\\\":\\\"observable\\\"},val)) : undefined; return this.valueFromJulia[\\\"changes\\\"]=false}),self),this[\\\"index\\\"].subscribe((function (val){!(this.valueFromJulia[\\\"index\\\"]) ? (WebIO.setval({\\\"name\\\":\\\"index\\\",\\\"scope\\\":\\\"5446725080349824514\\\",\\\"id\\\":\\\"ob_02\\\",\\\"type\\\":\\\"observable\\\"},val)) : undefined; return this.valueFromJulia[\\\"index\\\"]=false}),self)]\\n        \\n    }\\n    self.model = new AppViewModel();\\n    self.valueFromJulia = {};\\n    for (var key in json_data) {\\n        self.valueFromJulia[key] = false;\\n    }\\n    ko.applyBindings(self.model, self.dom);\\n}\\n);\\n    (WebIO.importBlock({\\\"data\\\":[{\\\"name\\\":\\\"knockout\\\",\\\"type\\\":\\\"js\\\",\\\"url\\\":\\\"\\/assetserver\\/d0eab99e36662d489b02956f8196a72a23d80e5c-knockout.js\\\"},{\\\"name\\\":\\\"knockout_punches\\\",\\\"type\\\":\\\"js\\\",\\\"url\\\":\\\"\\/assetserver\\/cbffcd1f95c27b6d43e8ac2e42b7ec7bc67143b9-knockout_punches.js\\\"}],\\\"type\\\":\\\"async_block\\\"})).then((imports) => handler.apply(this, imports));\\n}\\n\"],\"observables\":{\"changes\":{\"sync\":false,\"id\":\"ob_03\",\"value\":0},\"index\":{\"sync\":true,\"id\":\"ob_02\",\"value\":51}}},\"children\":[{\"props\":{\"className\":\"interact-flex-row interact-widget\"},\"nodeType\":\"DOM\",\"type\":\"node\",\"instanceArgs\":{\"namespace\":\"html\",\"tag\":\"div\"},\"children\":[{\"props\":{\"className\":\"interact-flex-row-left\"},\"nodeType\":\"DOM\",\"type\":\"node\",\"instanceArgs\":{\"namespace\":\"html\",\"tag\":\"div\"},\"children\":[{\"props\":{\"className\":\"interact \",\"style\":{\"padding\":\"5px 10px 0px 10px\"}},\"nodeType\":\"DOM\",\"type\":\"node\",\"instanceArgs\":{\"namespace\":\"html\",\"tag\":\"label\"},\"children\":[\"a\"]}]},{\"props\":{\"className\":\"interact-flex-row-center\"},\"nodeType\":\"DOM\",\"type\":\"node\",\"instanceArgs\":{\"namespace\":\"html\",\"tag\":\"div\"},\"children\":[{\"props\":{\"max\":101,\"min\":1,\"attributes\":{\"type\":\"range\",\"data-bind\":\"numericValue: index, valueUpdate: 'input', event: {change: function (){this.changes(this.changes()+1)}}\",\"orient\":\"horizontal\"},\"step\":1,\"className\":\"slider slider is-fullwidth\",\"style\":{}},\"nodeType\":\"DOM\",\"type\":\"node\",\"instanceArgs\":{\"namespace\":\"html\",\"tag\":\"input\"},\"children\":[]}]},{\"props\":{\"className\":\"interact-flex-row-right\"},\"nodeType\":\"DOM\",\"type\":\"node\",\"instanceArgs\":{\"namespace\":\"html\",\"tag\":\"div\"},\"children\":[{\"props\":{\"attributes\":{\"data-bind\":\"text: formatted_val\"}},\"nodeType\":\"DOM\",\"type\":\"node\",\"instanceArgs\":{\"namespace\":\"html\",\"tag\":\"p\"},\"children\":[]}]}]}]}]},{\"props\":{\"className\":\"field interact-widget\"},\"nodeType\":\"DOM\",\"type\":\"node\",\"instanceArgs\":{\"namespace\":\"html\",\"tag\":\"div\"},\"children\":[{\"props\":{},\"nodeType\":\"Scope\",\"type\":\"node\",\"instanceArgs\":{\"imports\":{\"data\":[{\"name\":\"knockout\",\"type\":\"js\",\"url\":\"\\/assetserver\\/d0eab99e36662d489b02956f8196a72a23d80e5c-knockout.js\"},{\"name\":\"knockout_punches\",\"type\":\"js\",\"url\":\"\\/assetserver\\/cbffcd1f95c27b6d43e8ac2e42b7ec7bc67143b9-knockout_punches.js\"},{\"name\":null,\"type\":\"js\",\"url\":\"\\/assetserver\\/14a01397a98df29bded2fea1faa9b4e3577fbc2b-all.js\"},{\"name\":null,\"type\":\"css\",\"url\":\"\\/assetserver\\/4431834c57fda0f2fbf2c6b7f56a99d3e4cb7e9e-style.css\"},{\"name\":null,\"type\":\"css\",\"url\":\"\\/assetserver\\/70cf1cc6b3fcf96b29e48ec4c99d29b9d7956686-bulma_confined.min.css\"}],\"type\":\"async_block\"},\"id\":\"1403566640770380839\",\"handlers\":{\"changes\":[\"(function (val){return (val!=this.model[\\\"changes\\\"]()) ? (this.valueFromJulia[\\\"changes\\\"]=true, this.model[\\\"changes\\\"](val)) : undefined})\"],\"index\":[\"(function (val){return (val!=this.model[\\\"index\\\"]()) ? (this.valueFromJulia[\\\"index\\\"]=true, this.model[\\\"index\\\"](val)) : undefined})\"]},\"systemjs_options\":null,\"mount_callbacks\":[\"function () {\\n    var handler = (function (ko, koPunches) {\\n    ko.punches.enableAll();\\n    ko.bindingHandlers.numericValue = {\\n        init: function(element, valueAccessor, allBindings, data, context) {\\n            var stringified = ko.observable(ko.unwrap(valueAccessor()));\\n            stringified.subscribe(function(value) {\\n                var val = parseFloat(value);\\n                if (!isNaN(val)) {\\n                    valueAccessor()(val);\\n                }\\n            });\\n            valueAccessor().subscribe(function(value) {\\n                var str = JSON.stringify(value);\\n                if ((str == \\\"0\\\") && ([\\\"-0\\\", \\\"-0.\\\"].indexOf(stringified()) >= 0))\\n                     return;\\n                 if ([\\\"null\\\", \\\"\\\"].indexOf(str) >= 0)\\n                     return;\\n                stringified(str);\\n            });\\n            ko.applyBindingsToNode(\\n                element,\\n                {\\n                    value: stringified,\\n                    valueUpdate: allBindings.get('valueUpdate'),\\n                },\\n                context,\\n            );\\n        }\\n    };\\n    var json_data = {\\\"formatted_vals\\\":[\\\"0\\\",\\\"1000\\\",\\\"2000\\\",\\\"3000\\\",\\\"4000\\\",\\\"5000\\\",\\\"6000\\\",\\\"7000\\\",\\\"8000\\\",\\\"9000\\\",\\\"10000\\\",\\\"11000\\\",\\\"12000\\\",\\\"13000\\\",\\\"14000\\\",\\\"15000\\\",\\\"16000\\\",\\\"17000\\\",\\\"18000\\\",\\\"19000\\\",\\\"20000\\\",\\\"21000\\\",\\\"22000\\\",\\\"23000\\\",\\\"24000\\\",\\\"25000\\\",\\\"26000\\\",\\\"27000\\\",\\\"28000\\\",\\\"29000\\\",\\\"30000\\\",\\\"31000\\\",\\\"32000\\\",\\\"33000\\\",\\\"34000\\\",\\\"35000\\\",\\\"36000\\\",\\\"37000\\\",\\\"38000\\\",\\\"39000\\\",\\\"40000\\\",\\\"41000\\\",\\\"42000\\\",\\\"43000\\\",\\\"44000\\\",\\\"45000\\\",\\\"46000\\\",\\\"47000\\\",\\\"48000\\\",\\\"49000\\\",\\\"50000\\\",\\\"51000\\\",\\\"52000\\\",\\\"53000\\\",\\\"54000\\\",\\\"55000\\\",\\\"56000\\\",\\\"57000\\\",\\\"58000\\\",\\\"59000\\\",\\\"60000\\\",\\\"61000\\\",\\\"62000\\\",\\\"63000\\\",\\\"64000\\\",\\\"65000\\\",\\\"66000\\\",\\\"67000\\\",\\\"68000\\\",\\\"69000\\\",\\\"70000\\\",\\\"71000\\\",\\\"72000\\\",\\\"73000\\\",\\\"74000\\\",\\\"75000\\\",\\\"76000\\\",\\\"77000\\\",\\\"78000\\\",\\\"79000\\\",\\\"80000\\\",\\\"81000\\\",\\\"82000\\\",\\\"83000\\\",\\\"84000\\\",\\\"85000\\\",\\\"86000\\\",\\\"87000\\\",\\\"88000\\\",\\\"89000\\\",\\\"90000\\\",\\\"91000\\\",\\\"92000\\\",\\\"93000\\\",\\\"94000\\\",\\\"95000\\\",\\\"96000\\\",\\\"97000\\\",\\\"98000\\\",\\\"99000\\\",\\\"100000\\\"],\\\"changes\\\":WebIO.getval({\\\"name\\\":\\\"changes\\\",\\\"scope\\\":\\\"1403566640770380839\\\",\\\"id\\\":\\\"ob_06\\\",\\\"type\\\":\\\"observable\\\"}),\\\"index\\\":WebIO.getval({\\\"name\\\":\\\"index\\\",\\\"scope\\\":\\\"1403566640770380839\\\",\\\"id\\\":\\\"ob_05\\\",\\\"type\\\":\\\"observable\\\"})};\\n    var self = this;\\n    function AppViewModel() {\\n        for (var key in json_data) {\\n            var el = json_data[key];\\n            this[key] = Array.isArray(el) ? ko.observableArray(el) : ko.observable(el);\\n        }\\n        \\n        [this[\\\"formatted_val\\\"]=ko.computed(    function(){\\n        return this.formatted_vals()[parseInt(this.index())-(1)];\\n    }\\n,this)]\\n        [this[\\\"changes\\\"].subscribe((function (val){!(this.valueFromJulia[\\\"changes\\\"]) ? (WebIO.setval({\\\"name\\\":\\\"changes\\\",\\\"scope\\\":\\\"1403566640770380839\\\",\\\"id\\\":\\\"ob_06\\\",\\\"type\\\":\\\"observable\\\"},val)) : undefined; return this.valueFromJulia[\\\"changes\\\"]=false}),self),this[\\\"index\\\"].subscribe((function (val){!(this.valueFromJulia[\\\"index\\\"]) ? (WebIO.setval({\\\"name\\\":\\\"index\\\",\\\"scope\\\":\\\"1403566640770380839\\\",\\\"id\\\":\\\"ob_05\\\",\\\"type\\\":\\\"observable\\\"},val)) : undefined; return this.valueFromJulia[\\\"index\\\"]=false}),self)]\\n        \\n    }\\n    self.model = new AppViewModel();\\n    self.valueFromJulia = {};\\n    for (var key in json_data) {\\n        self.valueFromJulia[key] = false;\\n    }\\n    ko.applyBindings(self.model, self.dom);\\n}\\n);\\n    (WebIO.importBlock({\\\"data\\\":[{\\\"name\\\":\\\"knockout\\\",\\\"type\\\":\\\"js\\\",\\\"url\\\":\\\"\\/assetserver\\/d0eab99e36662d489b02956f8196a72a23d80e5c-knockout.js\\\"},{\\\"name\\\":\\\"knockout_punches\\\",\\\"type\\\":\\\"js\\\",\\\"url\\\":\\\"\\/assetserver\\/cbffcd1f95c27b6d43e8ac2e42b7ec7bc67143b9-knockout_punches.js\\\"}],\\\"type\\\":\\\"async_block\\\"})).then((imports) => handler.apply(this, imports));\\n}\\n\"],\"observables\":{\"changes\":{\"sync\":false,\"id\":\"ob_06\",\"value\":0},\"index\":{\"sync\":true,\"id\":\"ob_05\",\"value\":51}}},\"children\":[{\"props\":{\"className\":\"interact-flex-row interact-widget\"},\"nodeType\":\"DOM\",\"type\":\"node\",\"instanceArgs\":{\"namespace\":\"html\",\"tag\":\"div\"},\"children\":[{\"props\":{\"className\":\"interact-flex-row-left\"},\"nodeType\":\"DOM\",\"type\":\"node\",\"instanceArgs\":{\"namespace\":\"html\",\"tag\":\"div\"},\"children\":[{\"props\":{\"className\":\"interact \",\"style\":{\"padding\":\"5px 10px 0px 10px\"}},\"nodeType\":\"DOM\",\"type\":\"node\",\"instanceArgs\":{\"namespace\":\"html\",\"tag\":\"label\"},\"children\":[\"b\"]}]},{\"props\":{\"className\":\"interact-flex-row-center\"},\"nodeType\":\"DOM\",\"type\":\"node\",\"instanceArgs\":{\"namespace\":\"html\",\"tag\":\"div\"},\"children\":[{\"props\":{\"max\":101,\"min\":1,\"attributes\":{\"type\":\"range\",\"data-bind\":\"numericValue: index, valueUpdate: 'input', event: {change: function (){this.changes(this.changes()+1)}}\",\"orient\":\"horizontal\"},\"step\":1,\"className\":\"slider slider is-fullwidth\",\"style\":{}},\"nodeType\":\"DOM\",\"type\":\"node\",\"instanceArgs\":{\"namespace\":\"html\",\"tag\":\"input\"},\"children\":[]}]},{\"props\":{\"className\":\"interact-flex-row-right\"},\"nodeType\":\"DOM\",\"type\":\"node\",\"instanceArgs\":{\"namespace\":\"html\",\"tag\":\"div\"},\"children\":[{\"props\":{\"attributes\":{\"data-bind\":\"text: formatted_val\"}},\"nodeType\":\"DOM\",\"type\":\"node\",\"instanceArgs\":{\"namespace\":\"html\",\"tag\":\"p\"},\"children\":[]}]}]}]}]},{\"props\":{},\"nodeType\":\"Scope\",\"type\":\"node\",\"instanceArgs\":{\"imports\":{\"data\":[],\"type\":\"async_block\"},\"id\":\"14744214040097543396\",\"handlers\":{},\"systemjs_options\":null,\"mount_callbacks\":[],\"observables\":{\"obs-node\":{\"sync\":false,\"id\":\"ob_10\",\"value\":{\"props\":{\"className\":\"interact-flex-row interact-widget\"},\"nodeType\":\"DOM\",\"type\":\"node\",\"instanceArgs\":{\"namespace\":\"html\",\"tag\":\"div\"},\"children\":[{\"props\":{\"setInnerHtml\":\"<?xml version=\\\"1.0\\\" encoding=\\\"utf-8\\\"?>\\n<svg xmlns=\\\"http:\\/\\/www.w3.org\\/2000\\/svg\\\" xmlns:xlink=\\\"http:\\/\\/www.w3.org\\/1999\\/xlink\\\" width=\\\"600\\\" height=\\\"400\\\" viewBox=\\\"0 0 2400 1600\\\">\\n<defs>\\n  <clipPath id=\\\"clip4600\\\">\\n    <rect x=\\\"0\\\" y=\\\"0\\\" width=\\\"2400\\\" height=\\\"1600\\\"\\/>\\n  <\\/clipPath>\\n<\\/defs>\\n<path clip-path=\\\"url(#clip4600)\\\" d=\\\"\\nM0 1600 L2400 1600 L2400 0 L0 0  Z\\n  \\\" fill=\\\"#ffffff\\\" fill-rule=\\\"evenodd\\\" fill-opacity=\\\"1\\\"\\/>\\n<defs>\\n  <clipPath id=\\\"clip4601\\\">\\n    <rect x=\\\"480\\\" y=\\\"0\\\" width=\\\"1681\\\" height=\\\"1600\\\"\\/>\\n  <\\/clipPath>\\n<\\/defs>\\n<path clip-path=\\\"url(#clip4600)\\\" d=\\\"\\nM215.754 1425.62 L2352.76 1425.62 L2352.76 47.2441 L215.754 47.2441  Z\\n  \\\" fill=\\\"#ffffff\\\" fill-rule=\\\"evenodd\\\" fill-opacity=\\\"1\\\"\\/>\\n<defs>\\n  <clipPath id=\\\"clip4602\\\">\\n    <rect x=\\\"215\\\" y=\\\"47\\\" width=\\\"2138\\\" height=\\\"1379\\\"\\/>\\n  <\\/clipPath>\\n<\\/defs>\\n<polyline clip-path=\\\"url(#clip4602)\\\" style=\\\"stroke:#000000; stroke-width:2; stroke-opacity:0.1; fill:none\\\" points=\\\"\\n  454.121,1425.62 454.121,47.2441 \\n  \\\"\\/>\\n<polyline clip-path=\\\"url(#clip4602)\\\" style=\\\"stroke:#000000; stroke-width:2; stroke-opacity:0.1; fill:none\\\" points=\\\"\\n  750.597,1425.62 750.597,47.2441 \\n  \\\"\\/>\\n<polyline clip-path=\\\"url(#clip4602)\\\" style=\\\"stroke:#000000; stroke-width:2; stroke-opacity:0.1; fill:none\\\" points=\\\"\\n  1047.07,1425.62 1047.07,47.2441 \\n  \\\"\\/>\\n<polyline clip-path=\\\"url(#clip4602)\\\" style=\\\"stroke:#000000; stroke-width:2; stroke-opacity:0.1; fill:none\\\" points=\\\"\\n  1343.55,1425.62 1343.55,47.2441 \\n  \\\"\\/>\\n<polyline clip-path=\\\"url(#clip4602)\\\" style=\\\"stroke:#000000; stroke-width:2; stroke-opacity:0.1; fill:none\\\" points=\\\"\\n  1640.03,1425.62 1640.03,47.2441 \\n  \\\"\\/>\\n<polyline clip-path=\\\"url(#clip4602)\\\" style=\\\"stroke:#000000; stroke-width:2; stroke-opacity:0.1; fill:none\\\" points=\\\"\\n  1936.5,1425.62 1936.5,47.2441 \\n  \\\"\\/>\\n<polyline clip-path=\\\"url(#clip4602)\\\" style=\\\"stroke:#000000; stroke-width:2; stroke-opacity:0.1; fill:none\\\" points=\\\"\\n  2232.98,1425.62 2232.98,47.2441 \\n  \\\"\\/>\\n<polyline clip-path=\\\"url(#clip4602)\\\" style=\\\"stroke:#000000; stroke-width:2; stroke-opacity:0.1; fill:none\\\" points=\\\"\\n  215.754,1386.66 2352.76,1386.66 \\n  \\\"\\/>\\n<polyline clip-path=\\\"url(#clip4602)\\\" style=\\\"stroke:#000000; stroke-width:2; stroke-opacity:0.1; fill:none\\\" points=\\\"\\n  215.754,1125.52 2352.76,1125.52 \\n  \\\"\\/>\\n<polyline clip-path=\\\"url(#clip4602)\\\" style=\\\"stroke:#000000; stroke-width:2; stroke-opacity:0.1; fill:none\\\" points=\\\"\\n  215.754,864.388 2352.76,864.388 \\n  \\\"\\/>\\n<polyline clip-path=\\\"url(#clip4602)\\\" style=\\\"stroke:#000000; stroke-width:2; stroke-opacity:0.1; fill:none\\\" points=\\\"\\n  215.754,603.252 2352.76,603.252 \\n  \\\"\\/>\\n<polyline clip-path=\\\"url(#clip4602)\\\" style=\\\"stroke:#000000; stroke-width:2; stroke-opacity:0.1; fill:none\\\" points=\\\"\\n  215.754,342.116 2352.76,342.116 \\n  \\\"\\/>\\n<polyline clip-path=\\\"url(#clip4602)\\\" style=\\\"stroke:#000000; stroke-width:2; stroke-opacity:0.1; fill:none\\\" points=\\\"\\n  215.754,80.9797 2352.76,80.9797 \\n  \\\"\\/>\\n<polyline clip-path=\\\"url(#clip4600)\\\" style=\\\"stroke:#000000; stroke-width:4; stroke-opacity:1; fill:none\\\" points=\\\"\\n  215.754,1425.62 2352.76,1425.62 \\n  \\\"\\/>\\n<polyline clip-path=\\\"url(#clip4600)\\\" style=\\\"stroke:#000000; stroke-width:4; stroke-opacity:1; fill:none\\\" points=\\\"\\n  215.754,1425.62 215.754,47.2441 \\n  \\\"\\/>\\n<polyline clip-path=\\\"url(#clip4600)\\\" style=\\\"stroke:#000000; stroke-width:4; stroke-opacity:1; fill:none\\\" points=\\\"\\n  454.121,1425.62 454.121,1409.08 \\n  \\\"\\/>\\n<polyline clip-path=\\\"url(#clip4600)\\\" style=\\\"stroke:#000000; stroke-width:4; stroke-opacity:1; fill:none\\\" points=\\\"\\n  750.597,1425.62 750.597,1409.08 \\n  \\\"\\/>\\n<polyline clip-path=\\\"url(#clip4600)\\\" style=\\\"stroke:#000000; stroke-width:4; stroke-opacity:1; fill:none\\\" points=\\\"\\n  1047.07,1425.62 1047.07,1409.08 \\n  \\\"\\/>\\n<polyline clip-path=\\\"url(#clip4600)\\\" style=\\\"stroke:#000000; stroke-width:4; stroke-opacity:1; fill:none\\\" points=\\\"\\n  1343.55,1425.62 1343.55,1409.08 \\n  \\\"\\/>\\n<polyline clip-path=\\\"url(#clip4600)\\\" style=\\\"stroke:#000000; stroke-width:4; stroke-opacity:1; fill:none\\\" points=\\\"\\n  1640.03,1425.62 1640.03,1409.08 \\n  \\\"\\/>\\n<polyline clip-path=\\\"url(#clip4600)\\\" style=\\\"stroke:#000000; stroke-width:4; stroke-opacity:1; fill:none\\\" points=\\\"\\n  1936.5,1425.62 1936.5,1409.08 \\n  \\\"\\/>\\n<polyline clip-path=\\\"url(#clip4600)\\\" style=\\\"stroke:#000000; stroke-width:4; stroke-opacity:1; fill:none\\\" points=\\\"\\n  2232.98,1425.62 2232.98,1409.08 \\n  \\\"\\/>\\n<polyline clip-path=\\\"url(#clip4600)\\\" style=\\\"stroke:#000000; stroke-width:4; stroke-opacity:1; fill:none\\\" points=\\\"\\n  215.754,1386.66 241.398,1386.66 \\n  \\\"\\/>\\n<polyline clip-path=\\\"url(#clip4600)\\\" style=\\\"stroke:#000000; stroke-width:4; stroke-opacity:1; fill:none\\\" points=\\\"\\n  215.754,1125.52 241.398,1125.52 \\n  \\\"\\/>\\n<polyline clip-path=\\\"url(#clip4600)\\\" style=\\\"stroke:#000000; stroke-width:4; stroke-opacity:1; fill:none\\\" points=\\\"\\n  215.754,864.388 241.398,864.388 \\n  \\\"\\/>\\n<polyline clip-path=\\\"url(#clip4600)\\\" style=\\\"stroke:#000000; stroke-width:4; stroke-opacity:1; fill:none\\\" points=\\\"\\n  215.754,603.252 241.398,603.252 \\n  \\\"\\/>\\n<polyline clip-path=\\\"url(#clip4600)\\\" style=\\\"stroke:#000000; stroke-width:4; stroke-opacity:1; fill:none\\\" points=\\\"\\n  215.754,342.116 241.398,342.116 \\n  \\\"\\/>\\n<polyline clip-path=\\\"url(#clip4600)\\\" style=\\\"stroke:#000000; stroke-width:4; stroke-opacity:1; fill:none\\\" points=\\\"\\n  215.754,80.9797 241.398,80.9797 \\n  \\\"\\/>\\n<g clip-path=\\\"url(#clip4600)\\\">\\n<text style=\\\"fill:#000000; fill-opacity:1; font-family:Arial,Helvetica Neue,Helvetica,sans-serif; font-size:48px; text-anchor:middle;\\\" transform=\\\"rotate(0, 454.121, 1479.62)\\\" x=\\\"454.121\\\" y=\\\"1479.62\\\">2.5<\\/text>\\n<\\/g>\\n<g clip-path=\\\"url(#clip4600)\\\">\\n<text style=\\\"fill:#000000; fill-opacity:1; font-family:Arial,Helvetica Neue,Helvetica,sans-serif; font-size:48px; text-anchor:middle;\\\" transform=\\\"rotate(0, 750.597, 1479.62)\\\" x=\\\"750.597\\\" y=\\\"1479.62\\\">5.0<\\/text>\\n<\\/g>\\n<g clip-path=\\\"url(#clip4600)\\\">\\n<text style=\\\"fill:#000000; fill-opacity:1; font-family:Arial,Helvetica Neue,Helvetica,sans-serif; font-size:48px; text-anchor:middle;\\\" transform=\\\"rotate(0, 1047.07, 1479.62)\\\" x=\\\"1047.07\\\" y=\\\"1479.62\\\">7.5<\\/text>\\n<\\/g>\\n<g clip-path=\\\"url(#clip4600)\\\">\\n<text style=\\\"fill:#000000; fill-opacity:1; font-family:Arial,Helvetica Neue,Helvetica,sans-serif; font-size:48px; text-anchor:middle;\\\" transform=\\\"rotate(0, 1343.55, 1479.62)\\\" x=\\\"1343.55\\\" y=\\\"1479.62\\\">10.0<\\/text>\\n<\\/g>\\n<g clip-path=\\\"url(#clip4600)\\\">\\n<text style=\\\"fill:#000000; fill-opacity:1; font-family:Arial,Helvetica Neue,Helvetica,sans-serif; font-size:48px; text-anchor:middle;\\\" transform=\\\"rotate(0, 1640.03, 1479.62)\\\" x=\\\"1640.03\\\" y=\\\"1479.62\\\">12.5<\\/text>\\n<\\/g>\\n<g clip-path=\\\"url(#clip4600)\\\">\\n<text style=\\\"fill:#000000; fill-opacity:1; font-family:Arial,Helvetica Neue,Helvetica,sans-serif; font-size:48px; text-anchor:middle;\\\" transform=\\\"rotate(0, 1936.5, 1479.62)\\\" x=\\\"1936.5\\\" y=\\\"1479.62\\\">15.0<\\/text>\\n<\\/g>\\n<g clip-path=\\\"url(#clip4600)\\\">\\n<text style=\\\"fill:#000000; fill-opacity:1; font-family:Arial,Helvetica Neue,Helvetica,sans-serif; font-size:48px; text-anchor:middle;\\\" transform=\\\"rotate(0, 2232.98, 1479.62)\\\" x=\\\"2232.98\\\" y=\\\"1479.62\\\">17.5<\\/text>\\n<\\/g>\\n<g clip-path=\\\"url(#clip4600)\\\">\\n<text style=\\\"fill:#000000; fill-opacity:1; font-family:Arial,Helvetica Neue,Helvetica,sans-serif; font-size:48px; text-anchor:end;\\\" transform=\\\"rotate(0, 191.754, 1404.16)\\\" x=\\\"191.754\\\" y=\\\"1404.16\\\">0.0<\\/text>\\n<\\/g>\\n<g clip-path=\\\"url(#clip4600)\\\">\\n<text style=\\\"fill:#000000; fill-opacity:1; font-family:Arial,Helvetica Neue,Helvetica,sans-serif; font-size:48px; text-anchor:end;\\\" transform=\\\"rotate(0, 191.754, 1143.02)\\\" x=\\\"191.754\\\" y=\\\"1143.02\\\">0.1<\\/text>\\n<\\/g>\\n<g clip-path=\\\"url(#clip4600)\\\">\\n<text style=\\\"fill:#000000; fill-opacity:1; font-family:Arial,Helvetica Neue,Helvetica,sans-serif; font-size:48px; text-anchor:end;\\\" transform=\\\"rotate(0, 191.754, 881.888)\\\" x=\\\"191.754\\\" y=\\\"881.888\\\">0.2<\\/text>\\n<\\/g>\\n<g clip-path=\\\"url(#clip4600)\\\">\\n<text style=\\\"fill:#000000; fill-opacity:1; font-family:Arial,Helvetica Neue,Helvetica,sans-serif; font-size:48px; text-anchor:end;\\\" transform=\\\"rotate(0, 191.754, 620.752)\\\" x=\\\"191.754\\\" y=\\\"620.752\\\">0.3<\\/text>\\n<\\/g>\\n<g clip-path=\\\"url(#clip4600)\\\">\\n<text style=\\\"fill:#000000; fill-opacity:1; font-family:Arial,Helvetica Neue,Helvetica,sans-serif; font-size:48px; text-anchor:end;\\\" transform=\\\"rotate(0, 191.754, 359.616)\\\" x=\\\"191.754\\\" y=\\\"359.616\\\">0.4<\\/text>\\n<\\/g>\\n<g clip-path=\\\"url(#clip4600)\\\">\\n<text style=\\\"fill:#000000; fill-opacity:1; font-family:Arial,Helvetica Neue,Helvetica,sans-serif; font-size:48px; text-anchor:end;\\\" transform=\\\"rotate(0, 191.754, 98.4797)\\\" x=\\\"191.754\\\" y=\\\"98.4797\\\">0.5<\\/text>\\n<\\/g>\\n<g clip-path=\\\"url(#clip4600)\\\">\\n<text style=\\\"fill:#000000; fill-opacity:1; font-family:Arial,Helvetica Neue,Helvetica,sans-serif; font-size:66px; text-anchor:middle;\\\" transform=\\\"rotate(0, 1284.25, 1559.48)\\\" x=\\\"1284.25\\\" y=\\\"1559.48\\\">Days until Recovery<\\/text>\\n<\\/g>\\n<g clip-path=\\\"url(#clip4600)\\\">\\n<text style=\\\"fill:#000000; fill-opacity:1; font-family:Arial,Helvetica Neue,Helvetica,sans-serif; font-size:66px; text-anchor:middle;\\\" transform=\\\"rotate(-90, 89.2861, 736.431)\\\" x=\\\"89.2861\\\" y=\\\"736.431\\\">Percentage of Total<\\/text>\\n<\\/g>\\n<polyline clip-path=\\\"url(#clip4602)\\\" style=\\\"stroke:#009af9; stroke-width:4; stroke-opacity:1; fill:none\\\" points=\\\"\\n  276.235,86.2547 394.826,736.431 513.416,1057.63 632.007,1215.62 750.597,1304.45 869.188,1346.5 987.779,1366.34 1106.37,1377.52 1224.96,1382.27 1343.55,1384.21 \\n  1462.14,1385.51 1580.73,1386.24 1699.32,1386.4 1936.5,1386.56 2292.27,1386.61 \\n  \\\"\\/>\\n<path clip-path=\\\"url(#clip4600)\\\" d=\\\"\\nM1789.21 251.724 L2280.76 251.724 L2280.76 130.764 L1789.21 130.764  Z\\n  \\\" fill=\\\"#ffffff\\\" fill-rule=\\\"evenodd\\\" fill-opacity=\\\"1\\\"\\/>\\n<polyline clip-path=\\\"url(#clip4600)\\\" style=\\\"stroke:#000000; stroke-width:4; stroke-opacity:1; fill:none\\\" points=\\\"\\n  1789.21,251.724 2280.76,251.724 2280.76,130.764 1789.21,130.764 1789.21,251.724 \\n  \\\"\\/>\\n<polyline clip-path=\\\"url(#clip4600)\\\" style=\\\"stroke:#009af9; stroke-width:4; stroke-opacity:1; fill:none\\\" points=\\\"\\n  1813.21,191.244 1957.21,191.244 \\n  \\\"\\/>\\n<g clip-path=\\\"url(#clip4600)\\\">\\n<text style=\\\"fill:#000000; fill-opacity:1; font-family:Arial,Helvetica Neue,Helvetica,sans-serif; font-size:48px; text-anchor:start;\\\" transform=\\\"rotate(0, 1981.21, 208.744)\\\" x=\\\"1981.21\\\" y=\\\"208.744\\\">patient data<\\/text>\\n<\\/g>\\n<\\/svg>\\n\"},\"nodeType\":\"DOM\",\"type\":\"node\",\"instanceArgs\":{\"namespace\":\"html\",\"tag\":\"div\"},\"children\":[]}]}}}},\"children\":[{\"props\":{},\"nodeType\":\"ObservableNode\",\"type\":\"node\",\"instanceArgs\":{\"id\":\"ob_10\",\"name\":\"obs-node\"},\"children\":[]}]}]},\n",
       "            window,\n",
       "        );\n",
       "    } else {\n",
       "        document\n",
       "            .querySelector('[data-webio-mountpoint=\"12679987603331644951\"]')\n",
       "            .innerHTML = (\n",
       "                '<div style=\"padding: 1em; background-color: #f8d6da; border: 1px solid #f5c6cb\">' +\n",
       "                '<p><strong>WebIO not detected.</strong></p>' +\n",
       "                '<p>Please read ' +\n",
       "                '<a href=\"https://juliagizmos.github.io/WebIO.jl/latest/troubleshooting/not-detected/\" target=\"_blank\">the troubleshooting guide</a> ' +\n",
       "                'for more information on how to resolve this issue.</p>' +\n",
       "                '<p><a href=\"https://juliagizmos.github.io/WebIO.jl/latest/troubleshooting/not-detected/\" target=\"_blank\">https://juliagizmos.github.io/WebIO.jl/latest/troubleshooting/not-detected/</a></p>' +\n",
       "                '</div>'\n",
       "            );\n",
       "    }\n",
       "    </script>\n",
       "</div>\n"
      ],
      "text/plain": [
       "Node{WebIO.DOM}(WebIO.DOM(:html, :div), Any[Node{WebIO.DOM}(WebIO.DOM(:html, :div), Any[Scope(Node{WebIO.DOM}(WebIO.DOM(:html, :div), Any[Node{WebIO.DOM}(WebIO.DOM(:html, :div), Any[Node{WebIO.DOM}(WebIO.DOM(:html, :label), Any[\"a\"], Dict{Symbol,Any}(:className => \"interact \",:style => Dict{Any,Any}(:padding => \"5px 10px 0px 10px\")))], Dict{Symbol,Any}(:className => \"interact-flex-row-left\")), Node{WebIO.DOM}(WebIO.DOM(:html, :div), Any[Node{WebIO.DOM}(WebIO.DOM(:html, :input), Any[], Dict{Symbol,Any}(:max => 101,:min => 1,:attributes => Dict{Any,Any}(:type => \"range\",Symbol(\"data-bind\") => \"numericValue: index, valueUpdate: 'input', event: {change: function (){this.changes(this.changes()+1)}}\",\"orient\" => \"horizontal\"),:step => 1,:className => \"slider slider is-fullwidth\",:style => Dict{Any,Any}()))], Dict{Symbol,Any}(:className => \"interact-flex-row-center\")), Node{WebIO.DOM}(WebIO.DOM(:html, :div), Any[Node{WebIO.DOM}(WebIO.DOM(:html, :p), Any[], Dict{Symbol,Any}(:attributes => Dict(\"data-bind\" => \"text: formatted_val\")))], Dict{Symbol,Any}(:className => \"interact-flex-row-right\"))], Dict{Symbol,Any}(:className => \"interact-flex-row interact-widget\")), Dict{String,Tuple{Observables.AbstractObservable,Union{Nothing, Bool}}}(\"changes\" => (Observable{Int64} with 1 listeners. Value:\n",
       "0, nothing),\"index\" => (Observable{Any} with 2 listeners. Value:\n",
       "51, nothing)), Set(String[]), nothing, Asset[Asset(\"js\", \"knockout\", \"C:\\\\Users\\\\2000d\\\\.julia\\\\packages\\\\Knockout\\\\IP1uR\\\\src\\\\..\\\\assets\\\\knockout.js\"), Asset(\"js\", \"knockout_punches\", \"C:\\\\Users\\\\2000d\\\\.julia\\\\packages\\\\Knockout\\\\IP1uR\\\\src\\\\..\\\\assets\\\\knockout_punches.js\"), Asset(\"js\", nothing, \"C:\\\\Users\\\\2000d\\\\.julia\\\\packages\\\\InteractBase\\\\9mFwe\\\\src\\\\..\\\\assets\\\\all.js\"), Asset(\"css\", nothing, \"C:\\\\Users\\\\2000d\\\\.julia\\\\packages\\\\InteractBase\\\\9mFwe\\\\src\\\\..\\\\assets\\\\style.css\"), Asset(\"css\", nothing, \"C:\\\\Users\\\\2000d\\\\.julia\\\\packages\\\\Interact\\\\SbgIk\\\\src\\\\..\\\\assets\\\\bulma_confined.min.css\")], Dict{Any,Any}(\"changes\" => Any[WebIO.JSString(\"(function (val){return (val!=this.model[\\\"changes\\\"]()) ? (this.valueFromJulia[\\\"changes\\\"]=true, this.model[\\\"changes\\\"](val)) : undefined})\")],\"index\" => Any[WebIO.JSString(\"(function (val){return (val!=this.model[\\\"index\\\"]()) ? (this.valueFromJulia[\\\"index\\\"]=true, this.model[\\\"index\\\"](val)) : undefined})\")]), WebIO.ConnectionPool(Channel{Any}(sz_max:32,sz_curr:0), Set(AbstractConnection[]), Base.GenericCondition{Base.AlwaysLockedST}(Base.InvasiveLinkedList{Task}(Task (runnable) @0x000000003d83e850, Task (runnable) @0x000000003d83e850), Base.AlwaysLockedST(1))), WebIO.JSString[WebIO.JSString(\"function () {\\n    var handler = (function (ko, koPunches) {\\n    ko.punches.enableAll();\\n    ko.bindingHandlers.numericValue = {\\n        init: function(element, valueAccessor, allBindings, data, context) {\\n            var stringified = ko.observable(ko.unwrap(valueAccessor()));\\n            stringified.subscribe(function(value) {\\n                var val = parseFloat(value);\\n                if (!isNaN(val)) {\\n                    valueAccessor()(val);\\n                }\\n            });\\n            valueAccessor().subscribe(function(value) {\\n                var str = JSON.stringify(value);\\n                if ((str == \\\"0\\\") && ([\\\"-0\\\", \\\"-0.\\\"].indexOf(stringified()) >= 0))\\n                     return;\\n                 if ([\\\"null\\\", \\\"\\\"].indexOf(str) >= 0)\\n                     return;\\n                stringified(str);\\n            });\\n            ko.applyBindingsToNode(\\n                element,\\n                {\\n                    value: stringified,\\n                    valueUpdate: allBindings.get('valueUpdate'),\\n                },\\n                context,\\n            );\\n        }\\n    };\\n    var json_data = {\\\"formatted_vals\\\":[\\\"0.0\\\",\\\"0.01\\\",\\\"0.02\\\",\\\"0.03\\\",\\\"0.04\\\",\\\"0.05\\\",\\\"0.06\\\",\\\"0.07\\\",\\\"0.08\\\",\\\"0.09\\\",\\\"0.1\\\",\\\"0.11\\\",\\\"0.12\\\",\\\"0.13\\\",\\\"0.14\\\",\\\"0.15\\\",\\\"0.16\\\",\\\"0.17\\\",\\\"0.18\\\",\\\"0.19\\\",\\\"0.2\\\",\\\"0.21\\\",\\\"0.22\\\",\\\"0.23\\\",\\\"0.24\\\",\\\"0.25\\\",\\\"0.26\\\",\\\"0.27\\\",\\\"0.28\\\",\\\"0.29\\\",\\\"0.3\\\",\\\"0.31\\\",\\\"0.32\\\",\\\"0.33\\\",\\\"0.34\\\",\\\"0.35\\\",\\\"0.36\\\",\\\"0.37\\\",\\\"0.38\\\",\\\"0.39\\\",\\\"0.4\\\",\\\"0.41\\\",\\\"0.42\\\",\\\"0.43\\\",\\\"0.44\\\",\\\"0.45\\\",\\\"0.46\\\",\\\"0.47\\\",\\\"0.48\\\",\\\"0.49\\\",\\\"0.5\\\",\\\"0.51\\\",\\\"0.52\\\",\\\"0.53\\\",\\\"0.54\\\",\\\"0.55\\\",\\\"0.56\\\",\\\"0.57\\\",\\\"0.58\\\",\\\"0.59\\\",\\\"0.6\\\",\\\"0.61\\\",\\\"0.62\\\",\\\"0.63\\\",\\\"0.64\\\",\\\"0.65\\\",\\\"0.66\\\",\\\"0.67\\\",\\\"0.68\\\",\\\"0.69\\\",\\\"0.7\\\",\\\"0.71\\\",\\\"0.72\\\",\\\"0.73\\\",\\\"0.74\\\",\\\"0.75\\\",\\\"0.76\\\",\\\"0.77\\\",\\\"0.78\\\",\\\"0.79\\\",\\\"0.8\\\",\\\"0.81\\\",\\\"0.82\\\",\\\"0.83\\\",\\\"0.84\\\",\\\"0.85\\\",\\\"0.86\\\",\\\"0.87\\\",\\\"0.88\\\",\\\"0.89\\\",\\\"0.9\\\",\\\"0.91\\\",\\\"0.92\\\",\\\"0.93\\\",\\\"0.94\\\",\\\"0.95\\\",\\\"0.96\\\",\\\"0.97\\\",\\\"0.98\\\",\\\"0.99\\\",\\\"1.0\\\"],\\\"changes\\\":WebIO.getval({\\\"name\\\":\\\"changes\\\",\\\"scope\\\":\\\"5446725080349824514\\\",\\\"id\\\":\\\"ob_03\\\",\\\"type\\\":\\\"observable\\\"}),\\\"index\\\":WebIO.getval({\\\"name\\\":\\\"index\\\",\\\"scope\\\":\\\"5446725080349824514\\\",\\\"id\\\":\\\"ob_02\\\",\\\"type\\\":\\\"observable\\\"})};\\n    var self = this;\\n    function AppViewModel() {\\n        for (var key in json_data) {\\n            var el = json_data[key];\\n            this[key] = Array.isArray(el) ? ko.observableArray(el) : ko.observable(el);\\n        }\\n        \\n        [this[\\\"formatted_val\\\"]=ko.computed(    function(){\\n        return this.formatted_vals()[parseInt(this.index())-(1)];\\n    }\\n,this)]\\n        [this[\\\"changes\\\"].subscribe((function (val){!(this.valueFromJulia[\\\"changes\\\"]) ? (WebIO.setval({\\\"name\\\":\\\"changes\\\",\\\"scope\\\":\\\"5446725080349824514\\\",\\\"id\\\":\\\"ob_03\\\",\\\"type\\\":\\\"observable\\\"},val)) : undefined; return this.valueFromJulia[\\\"changes\\\"]=false}),self),this[\\\"index\\\"].subscribe((function (val){!(this.valueFromJulia[\\\"index\\\"]) ? (WebIO.setval({\\\"name\\\":\\\"index\\\",\\\"scope\\\":\\\"5446725080349824514\\\",\\\"id\\\":\\\"ob_02\\\",\\\"type\\\":\\\"observable\\\"},val)) : undefined; return this.valueFromJulia[\\\"index\\\"]=false}),self)]\\n        \\n    }\\n    self.model = new AppViewModel();\\n    self.valueFromJulia = {};\\n    for (var key in json_data) {\\n        self.valueFromJulia[key] = false;\\n    }\\n    ko.applyBindings(self.model, self.dom);\\n}\\n);\\n    (WebIO.importBlock({\\\"data\\\":[{\\\"name\\\":\\\"knockout\\\",\\\"type\\\":\\\"js\\\",\\\"url\\\":\\\"/assetserver/d0eab99e36662d489b02956f8196a72a23d80e5c-knockout.js\\\"},{\\\"name\\\":\\\"knockout_punches\\\",\\\"type\\\":\\\"js\\\",\\\"url\\\":\\\"/assetserver/cbffcd1f95c27b6d43e8ac2e42b7ec7bc67143b9-knockout_punches.js\\\"}],\\\"type\\\":\\\"async_block\\\"})).then((imports) => handler.apply(this, imports));\\n}\\n\")])], Dict{Symbol,Any}(:className => \"field interact-widget\")), Node{WebIO.DOM}(WebIO.DOM(:html, :div), Any[Scope(Node{WebIO.DOM}(WebIO.DOM(:html, :div), Any[Node{WebIO.DOM}(WebIO.DOM(:html, :div), Any[Node{WebIO.DOM}(WebIO.DOM(:html, :label), Any[\"b\"], Dict{Symbol,Any}(:className => \"interact \",:style => Dict{Any,Any}(:padding => \"5px 10px 0px 10px\")))], Dict{Symbol,Any}(:className => \"interact-flex-row-left\")), Node{WebIO.DOM}(WebIO.DOM(:html, :div), Any[Node{WebIO.DOM}(WebIO.DOM(:html, :input), Any[], Dict{Symbol,Any}(:max => 101,:min => 1,:attributes => Dict{Any,Any}(:type => \"range\",Symbol(\"data-bind\") => \"numericValue: index, valueUpdate: 'input', event: {change: function (){this.changes(this.changes()+1)}}\",\"orient\" => \"horizontal\"),:step => 1,:className => \"slider slider is-fullwidth\",:style => Dict{Any,Any}()))], Dict{Symbol,Any}(:className => \"interact-flex-row-center\")), Node{WebIO.DOM}(WebIO.DOM(:html, :div), Any[Node{WebIO.DOM}(WebIO.DOM(:html, :p), Any[], Dict{Symbol,Any}(:attributes => Dict(\"data-bind\" => \"text: formatted_val\")))], Dict{Symbol,Any}(:className => \"interact-flex-row-right\"))], Dict{Symbol,Any}(:className => \"interact-flex-row interact-widget\")), Dict{String,Tuple{Observables.AbstractObservable,Union{Nothing, Bool}}}(\"changes\" => (Observable{Int64} with 1 listeners. Value:\n",
       "0, nothing),\"index\" => (Observable{Any} with 2 listeners. Value:\n",
       "51, nothing)), Set(String[]), nothing, Asset[Asset(\"js\", \"knockout\", \"C:\\\\Users\\\\2000d\\\\.julia\\\\packages\\\\Knockout\\\\IP1uR\\\\src\\\\..\\\\assets\\\\knockout.js\"), Asset(\"js\", \"knockout_punches\", \"C:\\\\Users\\\\2000d\\\\.julia\\\\packages\\\\Knockout\\\\IP1uR\\\\src\\\\..\\\\assets\\\\knockout_punches.js\"), Asset(\"js\", nothing, \"C:\\\\Users\\\\2000d\\\\.julia\\\\packages\\\\InteractBase\\\\9mFwe\\\\src\\\\..\\\\assets\\\\all.js\"), Asset(\"css\", nothing, \"C:\\\\Users\\\\2000d\\\\.julia\\\\packages\\\\InteractBase\\\\9mFwe\\\\src\\\\..\\\\assets\\\\style.css\"), Asset(\"css\", nothing, \"C:\\\\Users\\\\2000d\\\\.julia\\\\packages\\\\Interact\\\\SbgIk\\\\src\\\\..\\\\assets\\\\bulma_confined.min.css\")], Dict{Any,Any}(\"changes\" => Any[WebIO.JSString(\"(function (val){return (val!=this.model[\\\"changes\\\"]()) ? (this.valueFromJulia[\\\"changes\\\"]=true, this.model[\\\"changes\\\"](val)) : undefined})\")],\"index\" => Any[WebIO.JSString(\"(function (val){return (val!=this.model[\\\"index\\\"]()) ? (this.valueFromJulia[\\\"index\\\"]=true, this.model[\\\"index\\\"](val)) : undefined})\")]), WebIO.ConnectionPool(Channel{Any}(sz_max:32,sz_curr:0), Set(AbstractConnection[]), Base.GenericCondition{Base.AlwaysLockedST}(Base.InvasiveLinkedList{Task}(Task (runnable) @0x000000003b72d430, Task (runnable) @0x000000003b72d430), Base.AlwaysLockedST(1))), WebIO.JSString[WebIO.JSString(\"function () {\\n    var handler = (function (ko, koPunches) {\\n    ko.punches.enableAll();\\n    ko.bindingHandlers.numericValue = {\\n        init: function(element, valueAccessor, allBindings, data, context) {\\n            var stringified = ko.observable(ko.unwrap(valueAccessor()));\\n            stringified.subscribe(function(value) {\\n                var val = parseFloat(value);\\n                if (!isNaN(val)) {\\n                    valueAccessor()(val);\\n                }\\n            });\\n            valueAccessor().subscribe(function(value) {\\n                var str = JSON.stringify(value);\\n                if ((str == \\\"0\\\") && ([\\\"-0\\\", \\\"-0.\\\"].indexOf(stringified()) >= 0))\\n                     return;\\n                 if ([\\\"null\\\", \\\"\\\"].indexOf(str) >= 0)\\n                     return;\\n                stringified(str);\\n            });\\n            ko.applyBindingsToNode(\\n                element,\\n                {\\n                    value: stringified,\\n                    valueUpdate: allBindings.get('valueUpdate'),\\n                },\\n                context,\\n            );\\n        }\\n    };\\n    var json_data = {\\\"formatted_vals\\\":[\\\"0\\\",\\\"1000\\\",\\\"2000\\\",\\\"3000\\\",\\\"4000\\\",\\\"5000\\\",\\\"6000\\\",\\\"7000\\\",\\\"8000\\\",\\\"9000\\\",\\\"10000\\\",\\\"11000\\\",\\\"12000\\\",\\\"13000\\\",\\\"14000\\\",\\\"15000\\\",\\\"16000\\\",\\\"17000\\\",\\\"18000\\\",\\\"19000\\\",\\\"20000\\\",\\\"21000\\\",\\\"22000\\\",\\\"23000\\\",\\\"24000\\\",\\\"25000\\\",\\\"26000\\\",\\\"27000\\\",\\\"28000\\\",\\\"29000\\\",\\\"30000\\\",\\\"31000\\\",\\\"32000\\\",\\\"33000\\\",\\\"34000\\\",\\\"35000\\\",\\\"36000\\\",\\\"37000\\\",\\\"38000\\\",\\\"39000\\\",\\\"40000\\\",\\\"41000\\\",\\\"42000\\\",\\\"43000\\\",\\\"44000\\\",\\\"45000\\\",\\\"46000\\\",\\\"47000\\\",\\\"48000\\\",\\\"49000\\\",\\\"50000\\\",\\\"51000\\\",\\\"52000\\\",\\\"53000\\\",\\\"54000\\\",\\\"55000\\\",\\\"56000\\\",\\\"57000\\\",\\\"58000\\\",\\\"59000\\\",\\\"60000\\\",\\\"61000\\\",\\\"62000\\\",\\\"63000\\\",\\\"64000\\\",\\\"65000\\\",\\\"66000\\\",\\\"67000\\\",\\\"68000\\\",\\\"69000\\\",\\\"70000\\\",\\\"71000\\\",\\\"72000\\\",\\\"73000\\\",\\\"74000\\\",\\\"75000\\\",\\\"76000\\\",\\\"77000\\\",\\\"78000\\\",\\\"79000\\\",\\\"80000\\\",\\\"81000\\\",\\\"82000\\\",\\\"83000\\\",\\\"84000\\\",\\\"85000\\\",\\\"86000\\\",\\\"87000\\\",\\\"88000\\\",\\\"89000\\\",\\\"90000\\\",\\\"91000\\\",\\\"92000\\\",\\\"93000\\\",\\\"94000\\\",\\\"95000\\\",\\\"96000\\\",\\\"97000\\\",\\\"98000\\\",\\\"99000\\\",\\\"100000\\\"],\\\"changes\\\":WebIO.getval({\\\"name\\\":\\\"changes\\\",\\\"scope\\\":\\\"1403566640770380839\\\",\\\"id\\\":\\\"ob_06\\\",\\\"type\\\":\\\"observable\\\"}),\\\"index\\\":WebIO.getval({\\\"name\\\":\\\"index\\\",\\\"scope\\\":\\\"1403566640770380839\\\",\\\"id\\\":\\\"ob_05\\\",\\\"type\\\":\\\"observable\\\"})};\\n    var self = this;\\n    function AppViewModel() {\\n        for (var key in json_data) {\\n            var el = json_data[key];\\n            this[key] = Array.isArray(el) ? ko.observableArray(el) : ko.observable(el);\\n        }\\n        \\n        [this[\\\"formatted_val\\\"]=ko.computed(    function(){\\n        return this.formatted_vals()[parseInt(this.index())-(1)];\\n    }\\n,this)]\\n        [this[\\\"changes\\\"].subscribe((function (val){!(this.valueFromJulia[\\\"changes\\\"]) ? (WebIO.setval({\\\"name\\\":\\\"changes\\\",\\\"scope\\\":\\\"1403566640770380839\\\",\\\"id\\\":\\\"ob_06\\\",\\\"type\\\":\\\"observable\\\"},val)) : undefined; return this.valueFromJulia[\\\"changes\\\"]=false}),self),this[\\\"index\\\"].subscribe((function (val){!(this.valueFromJulia[\\\"index\\\"]) ? (WebIO.setval({\\\"name\\\":\\\"index\\\",\\\"scope\\\":\\\"1403566640770380839\\\",\\\"id\\\":\\\"ob_05\\\",\\\"type\\\":\\\"observable\\\"},val)) : undefined; return this.valueFromJulia[\\\"index\\\"]=false}),self)]\\n        \\n    }\\n    self.model = new AppViewModel();\\n    self.valueFromJulia = {};\\n    for (var key in json_data) {\\n        self.valueFromJulia[key] = false;\\n    }\\n    ko.applyBindings(self.model, self.dom);\\n}\\n);\\n    (WebIO.importBlock({\\\"data\\\":[{\\\"name\\\":\\\"knockout\\\",\\\"type\\\":\\\"js\\\",\\\"url\\\":\\\"/assetserver/d0eab99e36662d489b02956f8196a72a23d80e5c-knockout.js\\\"},{\\\"name\\\":\\\"knockout_punches\\\",\\\"type\\\":\\\"js\\\",\\\"url\\\":\\\"/assetserver/cbffcd1f95c27b6d43e8ac2e42b7ec7bc67143b9-knockout_punches.js\\\"}],\\\"type\\\":\\\"async_block\\\"})).then((imports) => handler.apply(this, imports));\\n}\\n\")])], Dict{Symbol,Any}(:className => \"field interact-widget\")), Observable{Any} with 0 listeners. Value:\n",
       "Node{WebIO.DOM}(WebIO.DOM(:html, :div), Any[Plot{Plots.GRBackend() n=1}], Dict{Symbol,Any}(:className => \"interact-flex-row interact-widget\"))], Dict{Symbol,Any}())"
      ]
     },
     "execution_count": 15,
     "metadata": {
      "application/vnd.webio.node+json": {
       "kernelId": "d17ddbf2-e313-451e-951a-0d25a4b0c678"
      }
     },
     "output_type": "execute_result"
    }
   ],
   "source": [
    "using Interact\n",
    "@manipulate for a in 0:0.01:1.0, b in 0:1000:100000\n",
    "    N = b\n",
    "    p = a\n",
    "    recov,distr = experiment(p,N)\n",
    "    plot(recov,distr, label = \"patient data\" )\n",
    "    xlabel!(\"Days until Recovery\")\n",
    "    ylabel!(\"Percentage of Total\")\n",
    "end"
   ]
  },
  {
   "cell_type": "markdown",
   "metadata": {},
   "source": [
    "8. Fix $N = 10,000$ and calculate the *mean* time $\\langle \\tau(p) \\rangle$ to recover. Plot this as a function of $p$.\n",
    "Can you find the relationship between the two quantities?"
   ]
  },
  {
   "cell_type": "code",
   "execution_count": 16,
   "metadata": {},
   "outputs": [
    {
     "data": {
      "image/svg+xml": [
       "<?xml version=\"1.0\" encoding=\"utf-8\"?>\n",
       "<svg xmlns=\"http://www.w3.org/2000/svg\" xmlns:xlink=\"http://www.w3.org/1999/xlink\" width=\"600\" height=\"400\" viewBox=\"0 0 2400 1600\">\n",
       "<defs>\n",
       "  <clipPath id=\"clip5400\">\n",
       "    <rect x=\"0\" y=\"0\" width=\"2400\" height=\"1600\"/>\n",
       "  </clipPath>\n",
       "</defs>\n",
       "<path clip-path=\"url(#clip5400)\" d=\"\n",
       "M0 1600 L2400 1600 L2400 0 L0 0  Z\n",
       "  \" fill=\"#ffffff\" fill-rule=\"evenodd\" fill-opacity=\"1\"/>\n",
       "<defs>\n",
       "  <clipPath id=\"clip5401\">\n",
       "    <rect x=\"480\" y=\"0\" width=\"1681\" height=\"1600\"/>\n",
       "  </clipPath>\n",
       "</defs>\n",
       "<path clip-path=\"url(#clip5400)\" d=\"\n",
       "M229.135 1425.62 L2352.76 1425.62 L2352.76 47.2441 L229.135 47.2441  Z\n",
       "  \" fill=\"#ffffff\" fill-rule=\"evenodd\" fill-opacity=\"1\"/>\n",
       "<defs>\n",
       "  <clipPath id=\"clip5402\">\n",
       "    <rect x=\"229\" y=\"47\" width=\"2125\" height=\"1379\"/>\n",
       "  </clipPath>\n",
       "</defs>\n",
       "<polyline clip-path=\"url(#clip5402)\" style=\"stroke:#000000; stroke-width:2; stroke-opacity:0.1; fill:none\" points=\"\n",
       "  268.795,1425.62 268.795,47.2441 \n",
       "  \"/>\n",
       "<polyline clip-path=\"url(#clip5402)\" style=\"stroke:#000000; stroke-width:2; stroke-opacity:0.1; fill:none\" points=\"\n",
       "  779.87,1425.62 779.87,47.2441 \n",
       "  \"/>\n",
       "<polyline clip-path=\"url(#clip5402)\" style=\"stroke:#000000; stroke-width:2; stroke-opacity:0.1; fill:none\" points=\"\n",
       "  1290.95,1425.62 1290.95,47.2441 \n",
       "  \"/>\n",
       "<polyline clip-path=\"url(#clip5402)\" style=\"stroke:#000000; stroke-width:2; stroke-opacity:0.1; fill:none\" points=\"\n",
       "  1802.02,1425.62 1802.02,47.2441 \n",
       "  \"/>\n",
       "<polyline clip-path=\"url(#clip5402)\" style=\"stroke:#000000; stroke-width:2; stroke-opacity:0.1; fill:none\" points=\"\n",
       "  2313.1,1425.62 2313.1,47.2441 \n",
       "  \"/>\n",
       "<polyline clip-path=\"url(#clip5402)\" style=\"stroke:#000000; stroke-width:2; stroke-opacity:0.1; fill:none\" points=\"\n",
       "  229.135,1399.95 2352.76,1399.95 \n",
       "  \"/>\n",
       "<polyline clip-path=\"url(#clip5402)\" style=\"stroke:#000000; stroke-width:2; stroke-opacity:0.1; fill:none\" points=\"\n",
       "  229.135,1069.52 2352.76,1069.52 \n",
       "  \"/>\n",
       "<polyline clip-path=\"url(#clip5402)\" style=\"stroke:#000000; stroke-width:2; stroke-opacity:0.1; fill:none\" points=\"\n",
       "  229.135,739.087 2352.76,739.087 \n",
       "  \"/>\n",
       "<polyline clip-path=\"url(#clip5402)\" style=\"stroke:#000000; stroke-width:2; stroke-opacity:0.1; fill:none\" points=\"\n",
       "  229.135,408.656 2352.76,408.656 \n",
       "  \"/>\n",
       "<polyline clip-path=\"url(#clip5402)\" style=\"stroke:#000000; stroke-width:2; stroke-opacity:0.1; fill:none\" points=\"\n",
       "  229.135,78.2252 2352.76,78.2252 \n",
       "  \"/>\n",
       "<polyline clip-path=\"url(#clip5400)\" style=\"stroke:#000000; stroke-width:4; stroke-opacity:1; fill:none\" points=\"\n",
       "  229.135,1425.62 2352.76,1425.62 \n",
       "  \"/>\n",
       "<polyline clip-path=\"url(#clip5400)\" style=\"stroke:#000000; stroke-width:4; stroke-opacity:1; fill:none\" points=\"\n",
       "  229.135,1425.62 229.135,47.2441 \n",
       "  \"/>\n",
       "<polyline clip-path=\"url(#clip5400)\" style=\"stroke:#000000; stroke-width:4; stroke-opacity:1; fill:none\" points=\"\n",
       "  268.795,1425.62 268.795,1409.08 \n",
       "  \"/>\n",
       "<polyline clip-path=\"url(#clip5400)\" style=\"stroke:#000000; stroke-width:4; stroke-opacity:1; fill:none\" points=\"\n",
       "  779.87,1425.62 779.87,1409.08 \n",
       "  \"/>\n",
       "<polyline clip-path=\"url(#clip5400)\" style=\"stroke:#000000; stroke-width:4; stroke-opacity:1; fill:none\" points=\"\n",
       "  1290.95,1425.62 1290.95,1409.08 \n",
       "  \"/>\n",
       "<polyline clip-path=\"url(#clip5400)\" style=\"stroke:#000000; stroke-width:4; stroke-opacity:1; fill:none\" points=\"\n",
       "  1802.02,1425.62 1802.02,1409.08 \n",
       "  \"/>\n",
       "<polyline clip-path=\"url(#clip5400)\" style=\"stroke:#000000; stroke-width:4; stroke-opacity:1; fill:none\" points=\"\n",
       "  2313.1,1425.62 2313.1,1409.08 \n",
       "  \"/>\n",
       "<polyline clip-path=\"url(#clip5400)\" style=\"stroke:#000000; stroke-width:4; stroke-opacity:1; fill:none\" points=\"\n",
       "  229.135,1399.95 254.619,1399.95 \n",
       "  \"/>\n",
       "<polyline clip-path=\"url(#clip5400)\" style=\"stroke:#000000; stroke-width:4; stroke-opacity:1; fill:none\" points=\"\n",
       "  229.135,1069.52 254.619,1069.52 \n",
       "  \"/>\n",
       "<polyline clip-path=\"url(#clip5400)\" style=\"stroke:#000000; stroke-width:4; stroke-opacity:1; fill:none\" points=\"\n",
       "  229.135,739.087 254.619,739.087 \n",
       "  \"/>\n",
       "<polyline clip-path=\"url(#clip5400)\" style=\"stroke:#000000; stroke-width:4; stroke-opacity:1; fill:none\" points=\"\n",
       "  229.135,408.656 254.619,408.656 \n",
       "  \"/>\n",
       "<polyline clip-path=\"url(#clip5400)\" style=\"stroke:#000000; stroke-width:4; stroke-opacity:1; fill:none\" points=\"\n",
       "  229.135,78.2252 254.619,78.2252 \n",
       "  \"/>\n",
       "<g clip-path=\"url(#clip5400)\">\n",
       "<text style=\"fill:#000000; fill-opacity:1; font-family:Arial,Helvetica Neue,Helvetica,sans-serif; font-size:48px; text-anchor:middle;\" transform=\"rotate(0, 268.795, 1479.62)\" x=\"268.795\" y=\"1479.62\">0.00</text>\n",
       "</g>\n",
       "<g clip-path=\"url(#clip5400)\">\n",
       "<text style=\"fill:#000000; fill-opacity:1; font-family:Arial,Helvetica Neue,Helvetica,sans-serif; font-size:48px; text-anchor:middle;\" transform=\"rotate(0, 779.87, 1479.62)\" x=\"779.87\" y=\"1479.62\">0.25</text>\n",
       "</g>\n",
       "<g clip-path=\"url(#clip5400)\">\n",
       "<text style=\"fill:#000000; fill-opacity:1; font-family:Arial,Helvetica Neue,Helvetica,sans-serif; font-size:48px; text-anchor:middle;\" transform=\"rotate(0, 1290.95, 1479.62)\" x=\"1290.95\" y=\"1479.62\">0.50</text>\n",
       "</g>\n",
       "<g clip-path=\"url(#clip5400)\">\n",
       "<text style=\"fill:#000000; fill-opacity:1; font-family:Arial,Helvetica Neue,Helvetica,sans-serif; font-size:48px; text-anchor:middle;\" transform=\"rotate(0, 1802.02, 1479.62)\" x=\"1802.02\" y=\"1479.62\">0.75</text>\n",
       "</g>\n",
       "<g clip-path=\"url(#clip5400)\">\n",
       "<text style=\"fill:#000000; fill-opacity:1; font-family:Arial,Helvetica Neue,Helvetica,sans-serif; font-size:48px; text-anchor:middle;\" transform=\"rotate(0, 2313.1, 1479.62)\" x=\"2313.1\" y=\"1479.62\">1.00</text>\n",
       "</g>\n",
       "<g clip-path=\"url(#clip5400)\">\n",
       "<text style=\"fill:#000000; fill-opacity:1; font-family:Arial,Helvetica Neue,Helvetica,sans-serif; font-size:48px; text-anchor:end;\" transform=\"rotate(0, 205.135, 1417.45)\" x=\"205.135\" y=\"1417.45\">0</text>\n",
       "</g>\n",
       "<g clip-path=\"url(#clip5400)\">\n",
       "<text style=\"fill:#000000; fill-opacity:1; font-family:Arial,Helvetica Neue,Helvetica,sans-serif; font-size:48px; text-anchor:end;\" transform=\"rotate(0, 205.135, 1087.02)\" x=\"205.135\" y=\"1087.02\">25</text>\n",
       "</g>\n",
       "<g clip-path=\"url(#clip5400)\">\n",
       "<text style=\"fill:#000000; fill-opacity:1; font-family:Arial,Helvetica Neue,Helvetica,sans-serif; font-size:48px; text-anchor:end;\" transform=\"rotate(0, 205.135, 756.587)\" x=\"205.135\" y=\"756.587\">50</text>\n",
       "</g>\n",
       "<g clip-path=\"url(#clip5400)\">\n",
       "<text style=\"fill:#000000; fill-opacity:1; font-family:Arial,Helvetica Neue,Helvetica,sans-serif; font-size:48px; text-anchor:end;\" transform=\"rotate(0, 205.135, 426.156)\" x=\"205.135\" y=\"426.156\">75</text>\n",
       "</g>\n",
       "<g clip-path=\"url(#clip5400)\">\n",
       "<text style=\"fill:#000000; fill-opacity:1; font-family:Arial,Helvetica Neue,Helvetica,sans-serif; font-size:48px; text-anchor:end;\" transform=\"rotate(0, 205.135, 95.7252)\" x=\"205.135\" y=\"95.7252\">100</text>\n",
       "</g>\n",
       "<g clip-path=\"url(#clip5400)\">\n",
       "<text style=\"fill:#000000; fill-opacity:1; font-family:Arial,Helvetica Neue,Helvetica,sans-serif; font-size:66px; text-anchor:middle;\" transform=\"rotate(0, 1290.95, 1559.48)\" x=\"1290.95\" y=\"1559.48\">% chance of being cured each day</text>\n",
       "</g>\n",
       "<g clip-path=\"url(#clip5400)\">\n",
       "<text style=\"fill:#000000; fill-opacity:1; font-family:Arial,Helvetica Neue,Helvetica,sans-serif; font-size:66px; text-anchor:middle;\" transform=\"rotate(-90, 89.2861, 736.431)\" x=\"89.2861\" y=\"736.431\">Mean Days Until Recovery</text>\n",
       "</g>\n",
       "<polyline clip-path=\"url(#clip5402)\" style=\"stroke:#009af9; stroke-width:4; stroke-opacity:1; fill:none\" points=\"\n",
       "  289.238,86.2547 309.681,730.588 330.124,951.318 350.567,1068.83 371.01,1137.69 391.453,1177.29 411.896,1212.74 432.339,1236.41 452.782,1251.49 473.225,1267.73 \n",
       "  493.668,1279.32 514.111,1288.81 534.554,1297.49 554.997,1306.66 575.44,1312.82 595.883,1317.15 616.326,1321.83 636.769,1327.25 657.212,1330.73 677.655,1334.58 \n",
       "  698.098,1337.12 718.541,1339.15 738.984,1342.99 759.427,1345.23 779.87,1346.71 800.313,1349.52 820.756,1351.11 841.199,1352.38 861.642,1354.16 882.085,1355.49 \n",
       "  902.528,1357.54 922.971,1358.63 943.414,1359.99 963.857,1361.39 984.3,1362.16 1004.74,1363.23 1025.19,1364.34 1045.63,1365.27 1066.07,1366.14 1086.52,1367.15 \n",
       "  1106.96,1367.39 1127.4,1368.91 1147.84,1369.21 1168.29,1369.86 1188.73,1370.64 1209.17,1371.19 1229.62,1371.44 1250.06,1372.11 1270.5,1373.18 1290.95,1373.54 \n",
       "  1311.39,1374.23 1331.83,1374.71 1352.27,1374.88 1372.72,1375.67 1393.16,1375.78 1413.6,1376.5 1434.05,1376.7 1454.49,1377.24 1474.93,1377.49 1495.38,1377.83 \n",
       "  1515.82,1378.12 1536.26,1378.49 1556.7,1379.02 1577.15,1379.24 1597.59,1379.36 1618.03,1380.17 1638.48,1380.31 1658.92,1380.34 1679.36,1380.84 1699.81,1381.03 \n",
       "  1720.25,1381.23 1740.69,1381.66 1761.13,1381.85 1781.58,1382.11 1802.02,1382.19 1822.46,1382.41 1842.91,1382.74 1863.35,1382.9 1883.79,1383.2 1904.24,1383.32 \n",
       "  1924.68,1383.48 1945.12,1383.76 1965.57,1384.05 1986.01,1384.19 2006.45,1384.39 2026.89,1384.57 2047.34,1384.7 2067.78,1384.91 2088.22,1385.09 2108.67,1385.19 \n",
       "  2129.11,1385.4 2149.55,1385.54 2170,1385.79 2190.44,1385.87 2210.88,1386.01 2231.32,1386.17 2251.77,1386.32 2272.21,1386.47 2292.65,1386.61 \n",
       "  \"/>\n",
       "</svg>\n"
      ]
     },
     "execution_count": 16,
     "metadata": {},
     "output_type": "execute_result"
    }
   ],
   "source": [
    "N = 10000\n",
    "p_range = collect(0.01:0.01:0.99)\n",
    "mean_time = []\n",
    "for p in p_range\n",
    "    days,num_patients = experiment_raw(p,N)\n",
    "    mean = sum(days.*num_patients)/N\n",
    "    push!(mean_time,mean)\n",
    "end\n",
    "plot(p_range,mean_time, legend=:none)\n",
    "xlabel!(\"% chance of being cured each day\")\n",
    "ylabel!(\"Mean Days Until Recovery\")"
   ]
  },
  {
   "cell_type": "markdown",
   "metadata": {},
   "source": [
    "### Exercise 3: More efficient geometric distributions\n",
    "\n",
    "Let's use the notation $P_n := \\mathbb{P}(\\tau = n)$ for the probability to recover on the $n$th step.\n",
    "\n",
    "Probability theory tells us that in the limit of an infinite number of trials, we have the exact results $P_1 = p$, that $P_2 = p (1-p)$, and in general $P_n = p (1 - p)^{n-1}$.\n",
    "\n",
    "1. Fix $p = 0.25$. Make a vector of the values $P_n$ for $n=1, \\dots, 50$. You must use a loop or similar construction; do *not* do this by hand!"
   ]
  },
  {
   "cell_type": "code",
   "execution_count": 17,
   "metadata": {},
   "outputs": [],
   "source": [
    "p = 0.25\n",
    "Pₙ = [p*(1-p)^(n-1) for n in 1:50];"
   ]
  },
  {
   "cell_type": "markdown",
   "metadata": {},
   "source": [
    "2. Plot $P_n$ as a function of $n$. Compare it to the result from the previous exercise (i.e. plot them both on the same graph)."
   ]
  },
  {
   "cell_type": "code",
   "execution_count": 18,
   "metadata": {},
   "outputs": [
    {
     "data": {
      "image/svg+xml": [
       "<?xml version=\"1.0\" encoding=\"utf-8\"?>\n",
       "<svg xmlns=\"http://www.w3.org/2000/svg\" xmlns:xlink=\"http://www.w3.org/1999/xlink\" width=\"600\" height=\"400\" viewBox=\"0 0 2400 1600\">\n",
       "<defs>\n",
       "  <clipPath id=\"clip5800\">\n",
       "    <rect x=\"0\" y=\"0\" width=\"2400\" height=\"1600\"/>\n",
       "  </clipPath>\n",
       "</defs>\n",
       "<path clip-path=\"url(#clip5800)\" d=\"\n",
       "M0 1600 L2400 1600 L2400 0 L0 0  Z\n",
       "  \" fill=\"#ffffff\" fill-rule=\"evenodd\" fill-opacity=\"1\"/>\n",
       "<defs>\n",
       "  <clipPath id=\"clip5801\">\n",
       "    <rect x=\"480\" y=\"0\" width=\"1681\" height=\"1600\"/>\n",
       "  </clipPath>\n",
       "</defs>\n",
       "<path clip-path=\"url(#clip5800)\" d=\"\n",
       "M180.66 1487.47 L2352.76 1487.47 L2352.76 47.2441 L180.66 47.2441  Z\n",
       "  \" fill=\"#ffffff\" fill-rule=\"evenodd\" fill-opacity=\"1\"/>\n",
       "<defs>\n",
       "  <clipPath id=\"clip5802\">\n",
       "    <rect x=\"180\" y=\"47\" width=\"2173\" height=\"1441\"/>\n",
       "  </clipPath>\n",
       "</defs>\n",
       "<polyline clip-path=\"url(#clip5802)\" style=\"stroke:#000000; stroke-width:2; stroke-opacity:0.1; fill:none\" points=\"\n",
       "  221.436,1487.47 221.436,47.2441 \n",
       "  \"/>\n",
       "<polyline clip-path=\"url(#clip5802)\" style=\"stroke:#000000; stroke-width:2; stroke-opacity:0.1; fill:none\" points=\"\n",
       "  635.405,1487.47 635.405,47.2441 \n",
       "  \"/>\n",
       "<polyline clip-path=\"url(#clip5802)\" style=\"stroke:#000000; stroke-width:2; stroke-opacity:0.1; fill:none\" points=\"\n",
       "  1049.37,1487.47 1049.37,47.2441 \n",
       "  \"/>\n",
       "<polyline clip-path=\"url(#clip5802)\" style=\"stroke:#000000; stroke-width:2; stroke-opacity:0.1; fill:none\" points=\"\n",
       "  1463.34,1487.47 1463.34,47.2441 \n",
       "  \"/>\n",
       "<polyline clip-path=\"url(#clip5802)\" style=\"stroke:#000000; stroke-width:2; stroke-opacity:0.1; fill:none\" points=\"\n",
       "  1877.31,1487.47 1877.31,47.2441 \n",
       "  \"/>\n",
       "<polyline clip-path=\"url(#clip5802)\" style=\"stroke:#000000; stroke-width:2; stroke-opacity:0.1; fill:none\" points=\"\n",
       "  2291.28,1487.47 2291.28,47.2441 \n",
       "  \"/>\n",
       "<polyline clip-path=\"url(#clip5802)\" style=\"stroke:#000000; stroke-width:2; stroke-opacity:0.1; fill:none\" points=\"\n",
       "  180.66,1446.71 2352.76,1446.71 \n",
       "  \"/>\n",
       "<polyline clip-path=\"url(#clip5802)\" style=\"stroke:#000000; stroke-width:2; stroke-opacity:0.1; fill:none\" points=\"\n",
       "  180.66,1174.97 2352.76,1174.97 \n",
       "  \"/>\n",
       "<polyline clip-path=\"url(#clip5802)\" style=\"stroke:#000000; stroke-width:2; stroke-opacity:0.1; fill:none\" points=\"\n",
       "  180.66,903.231 2352.76,903.231 \n",
       "  \"/>\n",
       "<polyline clip-path=\"url(#clip5802)\" style=\"stroke:#000000; stroke-width:2; stroke-opacity:0.1; fill:none\" points=\"\n",
       "  180.66,631.489 2352.76,631.489 \n",
       "  \"/>\n",
       "<polyline clip-path=\"url(#clip5802)\" style=\"stroke:#000000; stroke-width:2; stroke-opacity:0.1; fill:none\" points=\"\n",
       "  180.66,359.747 2352.76,359.747 \n",
       "  \"/>\n",
       "<polyline clip-path=\"url(#clip5802)\" style=\"stroke:#000000; stroke-width:2; stroke-opacity:0.1; fill:none\" points=\"\n",
       "  180.66,88.0053 2352.76,88.0053 \n",
       "  \"/>\n",
       "<polyline clip-path=\"url(#clip5800)\" style=\"stroke:#000000; stroke-width:4; stroke-opacity:1; fill:none\" points=\"\n",
       "  180.66,1487.47 2352.76,1487.47 \n",
       "  \"/>\n",
       "<polyline clip-path=\"url(#clip5800)\" style=\"stroke:#000000; stroke-width:4; stroke-opacity:1; fill:none\" points=\"\n",
       "  180.66,1487.47 180.66,47.2441 \n",
       "  \"/>\n",
       "<polyline clip-path=\"url(#clip5800)\" style=\"stroke:#000000; stroke-width:4; stroke-opacity:1; fill:none\" points=\"\n",
       "  221.436,1487.47 221.436,1470.19 \n",
       "  \"/>\n",
       "<polyline clip-path=\"url(#clip5800)\" style=\"stroke:#000000; stroke-width:4; stroke-opacity:1; fill:none\" points=\"\n",
       "  635.405,1487.47 635.405,1470.19 \n",
       "  \"/>\n",
       "<polyline clip-path=\"url(#clip5800)\" style=\"stroke:#000000; stroke-width:4; stroke-opacity:1; fill:none\" points=\"\n",
       "  1049.37,1487.47 1049.37,1470.19 \n",
       "  \"/>\n",
       "<polyline clip-path=\"url(#clip5800)\" style=\"stroke:#000000; stroke-width:4; stroke-opacity:1; fill:none\" points=\"\n",
       "  1463.34,1487.47 1463.34,1470.19 \n",
       "  \"/>\n",
       "<polyline clip-path=\"url(#clip5800)\" style=\"stroke:#000000; stroke-width:4; stroke-opacity:1; fill:none\" points=\"\n",
       "  1877.31,1487.47 1877.31,1470.19 \n",
       "  \"/>\n",
       "<polyline clip-path=\"url(#clip5800)\" style=\"stroke:#000000; stroke-width:4; stroke-opacity:1; fill:none\" points=\"\n",
       "  2291.28,1487.47 2291.28,1470.19 \n",
       "  \"/>\n",
       "<polyline clip-path=\"url(#clip5800)\" style=\"stroke:#000000; stroke-width:4; stroke-opacity:1; fill:none\" points=\"\n",
       "  180.66,1446.71 206.725,1446.71 \n",
       "  \"/>\n",
       "<polyline clip-path=\"url(#clip5800)\" style=\"stroke:#000000; stroke-width:4; stroke-opacity:1; fill:none\" points=\"\n",
       "  180.66,1174.97 206.725,1174.97 \n",
       "  \"/>\n",
       "<polyline clip-path=\"url(#clip5800)\" style=\"stroke:#000000; stroke-width:4; stroke-opacity:1; fill:none\" points=\"\n",
       "  180.66,903.231 206.725,903.231 \n",
       "  \"/>\n",
       "<polyline clip-path=\"url(#clip5800)\" style=\"stroke:#000000; stroke-width:4; stroke-opacity:1; fill:none\" points=\"\n",
       "  180.66,631.489 206.725,631.489 \n",
       "  \"/>\n",
       "<polyline clip-path=\"url(#clip5800)\" style=\"stroke:#000000; stroke-width:4; stroke-opacity:1; fill:none\" points=\"\n",
       "  180.66,359.747 206.725,359.747 \n",
       "  \"/>\n",
       "<polyline clip-path=\"url(#clip5800)\" style=\"stroke:#000000; stroke-width:4; stroke-opacity:1; fill:none\" points=\"\n",
       "  180.66,88.0053 206.725,88.0053 \n",
       "  \"/>\n",
       "<g clip-path=\"url(#clip5800)\">\n",
       "<text style=\"fill:#000000; fill-opacity:1; font-family:Arial,Helvetica Neue,Helvetica,sans-serif; font-size:48px; text-anchor:middle;\" transform=\"rotate(0, 221.436, 1541.47)\" x=\"221.436\" y=\"1541.47\">0</text>\n",
       "</g>\n",
       "<g clip-path=\"url(#clip5800)\">\n",
       "<text style=\"fill:#000000; fill-opacity:1; font-family:Arial,Helvetica Neue,Helvetica,sans-serif; font-size:48px; text-anchor:middle;\" transform=\"rotate(0, 635.405, 1541.47)\" x=\"635.405\" y=\"1541.47\">10</text>\n",
       "</g>\n",
       "<g clip-path=\"url(#clip5800)\">\n",
       "<text style=\"fill:#000000; fill-opacity:1; font-family:Arial,Helvetica Neue,Helvetica,sans-serif; font-size:48px; text-anchor:middle;\" transform=\"rotate(0, 1049.37, 1541.47)\" x=\"1049.37\" y=\"1541.47\">20</text>\n",
       "</g>\n",
       "<g clip-path=\"url(#clip5800)\">\n",
       "<text style=\"fill:#000000; fill-opacity:1; font-family:Arial,Helvetica Neue,Helvetica,sans-serif; font-size:48px; text-anchor:middle;\" transform=\"rotate(0, 1463.34, 1541.47)\" x=\"1463.34\" y=\"1541.47\">30</text>\n",
       "</g>\n",
       "<g clip-path=\"url(#clip5800)\">\n",
       "<text style=\"fill:#000000; fill-opacity:1; font-family:Arial,Helvetica Neue,Helvetica,sans-serif; font-size:48px; text-anchor:middle;\" transform=\"rotate(0, 1877.31, 1541.47)\" x=\"1877.31\" y=\"1541.47\">40</text>\n",
       "</g>\n",
       "<g clip-path=\"url(#clip5800)\">\n",
       "<text style=\"fill:#000000; fill-opacity:1; font-family:Arial,Helvetica Neue,Helvetica,sans-serif; font-size:48px; text-anchor:middle;\" transform=\"rotate(0, 2291.28, 1541.47)\" x=\"2291.28\" y=\"1541.47\">50</text>\n",
       "</g>\n",
       "<g clip-path=\"url(#clip5800)\">\n",
       "<text style=\"fill:#000000; fill-opacity:1; font-family:Arial,Helvetica Neue,Helvetica,sans-serif; font-size:48px; text-anchor:end;\" transform=\"rotate(0, 156.66, 1464.21)\" x=\"156.66\" y=\"1464.21\">0.00</text>\n",
       "</g>\n",
       "<g clip-path=\"url(#clip5800)\">\n",
       "<text style=\"fill:#000000; fill-opacity:1; font-family:Arial,Helvetica Neue,Helvetica,sans-serif; font-size:48px; text-anchor:end;\" transform=\"rotate(0, 156.66, 1192.47)\" x=\"156.66\" y=\"1192.47\">0.05</text>\n",
       "</g>\n",
       "<g clip-path=\"url(#clip5800)\">\n",
       "<text style=\"fill:#000000; fill-opacity:1; font-family:Arial,Helvetica Neue,Helvetica,sans-serif; font-size:48px; text-anchor:end;\" transform=\"rotate(0, 156.66, 920.731)\" x=\"156.66\" y=\"920.731\">0.10</text>\n",
       "</g>\n",
       "<g clip-path=\"url(#clip5800)\">\n",
       "<text style=\"fill:#000000; fill-opacity:1; font-family:Arial,Helvetica Neue,Helvetica,sans-serif; font-size:48px; text-anchor:end;\" transform=\"rotate(0, 156.66, 648.989)\" x=\"156.66\" y=\"648.989\">0.15</text>\n",
       "</g>\n",
       "<g clip-path=\"url(#clip5800)\">\n",
       "<text style=\"fill:#000000; fill-opacity:1; font-family:Arial,Helvetica Neue,Helvetica,sans-serif; font-size:48px; text-anchor:end;\" transform=\"rotate(0, 156.66, 377.247)\" x=\"156.66\" y=\"377.247\">0.20</text>\n",
       "</g>\n",
       "<g clip-path=\"url(#clip5800)\">\n",
       "<text style=\"fill:#000000; fill-opacity:1; font-family:Arial,Helvetica Neue,Helvetica,sans-serif; font-size:48px; text-anchor:end;\" transform=\"rotate(0, 156.66, 105.505)\" x=\"156.66\" y=\"105.505\">0.25</text>\n",
       "</g>\n",
       "<polyline clip-path=\"url(#clip5802)\" style=\"stroke:#009af9; stroke-width:4; stroke-opacity:1; fill:none\" points=\"\n",
       "  262.833,88.0053 304.23,427.683 345.627,682.441 387.024,873.509 428.421,1016.81 469.818,1124.29 511.215,1204.89 552.612,1265.35 594.008,1310.69 635.405,1344.7 \n",
       "  676.802,1370.2 718.199,1389.33 759.596,1403.68 800.993,1414.44 842.39,1422.51 883.787,1428.56 925.184,1433.1 966.581,1436.5 1007.98,1439.05 1049.37,1440.97 \n",
       "  1090.77,1442.41 1132.17,1443.48 1173.57,1444.29 1214.96,1444.9 1256.36,1445.35 1297.76,1445.69 1339.15,1445.95 1380.55,1446.14 1421.95,1446.28 1463.34,1446.39 \n",
       "  1504.74,1446.47 1546.14,1446.53 1587.53,1446.58 1628.93,1446.61 1670.33,1446.64 1711.72,1446.66 1753.12,1446.67 1794.52,1446.68 1835.92,1446.69 1877.31,1446.7 \n",
       "  1918.71,1446.7 1960.11,1446.7 2001.5,1446.71 2042.9,1446.71 2084.3,1446.71 2125.69,1446.71 2167.09,1446.71 2208.49,1446.71 2249.88,1446.71 2291.28,1446.71 \n",
       "  \n",
       "  \"/>\n",
       "<polyline clip-path=\"url(#clip5802)\" style=\"stroke:#e26f46; stroke-width:4; stroke-opacity:1; fill:none\" points=\"\n",
       "  242.135,96.2595 262.833,758.623 283.532,985.531 304.23,1106.33 324.929,1177.11 345.627,1217.83 366.325,1254.27 387.024,1278.6 407.722,1294.1 428.421,1310.79 \n",
       "  449.119,1322.71 469.818,1332.47 490.516,1341.39 511.215,1350.82 531.913,1357.14 552.612,1361.6 573.31,1366.41 594.008,1371.98 614.707,1375.55 635.405,1379.51 \n",
       "  656.104,1382.13 676.802,1384.21 697.501,1388.17 718.199,1390.47 738.898,1391.99 759.596,1394.88 780.294,1396.51 800.993,1397.81 821.691,1399.64 842.39,1401.01 \n",
       "  863.088,1403.11 883.787,1404.24 904.485,1405.64 925.184,1407.08 945.882,1407.87 966.581,1408.97 987.279,1410.11 1007.98,1411.06 1028.68,1411.96 1049.37,1413 \n",
       "  1070.07,1413.24 1090.77,1414.81 1111.47,1415.11 1132.17,1415.78 1152.87,1416.59 1173.57,1417.16 1194.26,1417.41 1214.96,1418.1 1235.66,1419.19 1256.36,1419.57 \n",
       "  1277.06,1420.27 1297.76,1420.77 1318.45,1420.95 1339.15,1421.75 1359.85,1421.87 1380.55,1422.61 1401.25,1422.81 1421.95,1423.38 1442.64,1423.63 1463.34,1423.98 \n",
       "  1484.04,1424.28 1504.74,1424.65 1525.44,1425.2 1546.14,1425.42 1566.84,1425.55 1587.53,1426.38 1608.23,1426.53 1628.93,1426.56 1649.63,1427.08 1670.33,1427.27 \n",
       "  1691.03,1427.47 1711.72,1427.91 1732.42,1428.11 1753.12,1428.37 1773.82,1428.46 1794.52,1428.68 1815.22,1429.02 1835.92,1429.19 1856.61,1429.5 1877.31,1429.63 \n",
       "  1898.01,1429.79 1918.71,1430.08 1939.41,1430.37 1960.11,1430.51 1980.8,1430.72 2001.5,1430.9 2022.2,1431.04 2042.9,1431.26 2063.6,1431.44 2084.3,1431.54 \n",
       "  2105,1431.76 2125.69,1431.9 2146.39,1432.16 2167.09,1432.25 2187.79,1432.39 2208.49,1432.55 2229.19,1432.71 2249.88,1432.86 2270.58,1433 \n",
       "  \"/>\n",
       "<path clip-path=\"url(#clip5800)\" d=\"\n",
       "M1620.79 312.204 L2280.76 312.204 L2280.76 130.764 L1620.79 130.764  Z\n",
       "  \" fill=\"#ffffff\" fill-rule=\"evenodd\" fill-opacity=\"1\"/>\n",
       "<polyline clip-path=\"url(#clip5800)\" style=\"stroke:#000000; stroke-width:4; stroke-opacity:1; fill:none\" points=\"\n",
       "  1620.79,312.204 2280.76,312.204 2280.76,130.764 1620.79,130.764 1620.79,312.204 \n",
       "  \"/>\n",
       "<polyline clip-path=\"url(#clip5800)\" style=\"stroke:#009af9; stroke-width:4; stroke-opacity:1; fill:none\" points=\"\n",
       "  1644.79,191.244 1788.79,191.244 \n",
       "  \"/>\n",
       "<g clip-path=\"url(#clip5800)\">\n",
       "<text style=\"fill:#000000; fill-opacity:1; font-family:Arial,Helvetica Neue,Helvetica,sans-serif; font-size:48px; text-anchor:start;\" transform=\"rotate(0, 1812.79, 208.744)\" x=\"1812.79\" y=\"208.744\">P_n vs p</text>\n",
       "</g>\n",
       "<polyline clip-path=\"url(#clip5800)\" style=\"stroke:#e26f46; stroke-width:4; stroke-opacity:1; fill:none\" points=\"\n",
       "  1644.79,251.724 1788.79,251.724 \n",
       "  \"/>\n",
       "<g clip-path=\"url(#clip5800)\">\n",
       "<text style=\"fill:#000000; fill-opacity:1; font-family:Arial,Helvetica Neue,Helvetica,sans-serif; font-size:48px; text-anchor:start;\" transform=\"rotate(0, 1812.79, 269.224)\" x=\"1812.79\" y=\"269.224\">mean recovery vs p</text>\n",
       "</g>\n",
       "</svg>\n"
      ]
     },
     "execution_count": 18,
     "metadata": {},
     "output_type": "execute_result"
    }
   ],
   "source": [
    "plot(1:50,Pₙ, label = \"P_n vs p\")\n",
    "plot!(p_range.*50,mean_time./400, label= \"mean recovery vs p\")"
   ]
  },
  {
   "cell_type": "markdown",
   "metadata": {},
   "source": [
    "   3. To draw this picture, we need to add up the lengths of the lines from 1 to $n$ for each $n$, i.e. calculate the **cumulative sum**. Write a function `cumulative_sum`, which returns a new vector. (Of course, you should only do this for a finite number of values! Say those that you found in [2]. )\n",
    "   \n",
    "       How could we measure the *error*, i.e. the distance between the two graphs? What do you think determines it? \n",
    "       \n",
    "       If $p$ is *small*, say $p=0.001$, then the algorithm we used in Exercise 2 to sample from geometric distribution will be very slow, since it just sits there calculating a lot of `false`s! (The average amount of time taken is what you hopefully found in [1.8]) \n",
    "       \n",
    "       Let's make a better algorithm. Think of each probability $P_n$ as a \"bin\" of length $P_n$. If we lay those bins next to each other starting from $P_1$ on the left, then $P_2$, etc., there will be an *infinite* number of bins filling up the interval between $0$ and $1$. (In principle there is no upper limit on how many days it will take to recover, although the probability becomes *very* small.) \n",
    "       \n",
    "       Now suppose we take a uniform random number $r$ between $0$ and $1$. That will fall into one of the bins. If it falls into the bin corresponding to $P_n$, then we return $n$ as the recovery time! \n",
    "    "
   ]
  },
  {
   "cell_type": "code",
   "execution_count": 19,
   "metadata": {},
   "outputs": [
    {
     "data": {
      "text/plain": [
       "cumulative_sum (generic function with 1 method)"
      ]
     },
     "execution_count": 19,
     "metadata": {},
     "output_type": "execute_result"
    }
   ],
   "source": [
    "function cumulative_sum(v)\n",
    "    ret = cumsum(v)\n",
    "    return ret\n",
    "end"
   ]
  },
  {
   "cell_type": "markdown",
   "metadata": {},
   "source": [
    "4. Plot the resulting values on a horizontal line. Generate a few random points and plot those. Convince yourself that the probability that a point hits a bin is equal to the length of that bin."
   ]
  },
  {
   "cell_type": "code",
   "execution_count": 20,
   "metadata": {},
   "outputs": [
    {
     "data": {
      "image/svg+xml": [
       "<?xml version=\"1.0\" encoding=\"utf-8\"?>\n",
       "<svg xmlns=\"http://www.w3.org/2000/svg\" xmlns:xlink=\"http://www.w3.org/1999/xlink\" width=\"600\" height=\"400\" viewBox=\"0 0 2400 1600\">\n",
       "<defs>\n",
       "  <clipPath id=\"clip6200\">\n",
       "    <rect x=\"0\" y=\"0\" width=\"2400\" height=\"1600\"/>\n",
       "  </clipPath>\n",
       "</defs>\n",
       "<path clip-path=\"url(#clip6200)\" d=\"\n",
       "M0 1600 L2400 1600 L2400 0 L0 0  Z\n",
       "  \" fill=\"#ffffff\" fill-rule=\"evenodd\" fill-opacity=\"1\"/>\n",
       "<defs>\n",
       "  <clipPath id=\"clip6201\">\n",
       "    <rect x=\"480\" y=\"0\" width=\"1681\" height=\"1600\"/>\n",
       "  </clipPath>\n",
       "</defs>\n",
       "<path clip-path=\"url(#clip6200)\" d=\"\n",
       "M153.898 1487.47 L2352.76 1487.47 L2352.76 47.2441 L153.898 47.2441  Z\n",
       "  \" fill=\"#ffffff\" fill-rule=\"evenodd\" fill-opacity=\"1\"/>\n",
       "<defs>\n",
       "  <clipPath id=\"clip6202\">\n",
       "    <rect x=\"153\" y=\"47\" width=\"2200\" height=\"1441\"/>\n",
       "  </clipPath>\n",
       "</defs>\n",
       "<polyline clip-path=\"url(#clip6202)\" style=\"stroke:#000000; stroke-width:2; stroke-opacity:0.1; fill:none\" points=\"\n",
       "  153.898,1487.47 153.898,47.2441 \n",
       "  \"/>\n",
       "<polyline clip-path=\"url(#clip6202)\" style=\"stroke:#000000; stroke-width:2; stroke-opacity:0.1; fill:none\" points=\"\n",
       "  653.638,1487.47 653.638,47.2441 \n",
       "  \"/>\n",
       "<polyline clip-path=\"url(#clip6202)\" style=\"stroke:#000000; stroke-width:2; stroke-opacity:0.1; fill:none\" points=\"\n",
       "  1153.38,1487.47 1153.38,47.2441 \n",
       "  \"/>\n",
       "<polyline clip-path=\"url(#clip6202)\" style=\"stroke:#000000; stroke-width:2; stroke-opacity:0.1; fill:none\" points=\"\n",
       "  1653.12,1487.47 1653.12,47.2441 \n",
       "  \"/>\n",
       "<polyline clip-path=\"url(#clip6202)\" style=\"stroke:#000000; stroke-width:2; stroke-opacity:0.1; fill:none\" points=\"\n",
       "  2152.86,1487.47 2152.86,47.2441 \n",
       "  \"/>\n",
       "<polyline clip-path=\"url(#clip6202)\" style=\"stroke:#000000; stroke-width:2; stroke-opacity:0.1; fill:none\" points=\"\n",
       "  153.898,1487.47 2352.76,1487.47 \n",
       "  \"/>\n",
       "<polyline clip-path=\"url(#clip6202)\" style=\"stroke:#000000; stroke-width:2; stroke-opacity:0.1; fill:none\" points=\"\n",
       "  153.898,1127.42 2352.76,1127.42 \n",
       "  \"/>\n",
       "<polyline clip-path=\"url(#clip6202)\" style=\"stroke:#000000; stroke-width:2; stroke-opacity:0.1; fill:none\" points=\"\n",
       "  153.898,767.359 2352.76,767.359 \n",
       "  \"/>\n",
       "<polyline clip-path=\"url(#clip6202)\" style=\"stroke:#000000; stroke-width:2; stroke-opacity:0.1; fill:none\" points=\"\n",
       "  153.898,407.302 2352.76,407.302 \n",
       "  \"/>\n",
       "<polyline clip-path=\"url(#clip6202)\" style=\"stroke:#000000; stroke-width:2; stroke-opacity:0.1; fill:none\" points=\"\n",
       "  153.898,47.2441 2352.76,47.2441 \n",
       "  \"/>\n",
       "<polyline clip-path=\"url(#clip6200)\" style=\"stroke:#000000; stroke-width:4; stroke-opacity:1; fill:none\" points=\"\n",
       "  153.898,1487.47 2352.76,1487.47 \n",
       "  \"/>\n",
       "<polyline clip-path=\"url(#clip6200)\" style=\"stroke:#000000; stroke-width:4; stroke-opacity:1; fill:none\" points=\"\n",
       "  153.898,1487.47 153.898,47.2441 \n",
       "  \"/>\n",
       "<polyline clip-path=\"url(#clip6200)\" style=\"stroke:#000000; stroke-width:4; stroke-opacity:1; fill:none\" points=\"\n",
       "  153.898,1487.47 153.898,1470.19 \n",
       "  \"/>\n",
       "<polyline clip-path=\"url(#clip6200)\" style=\"stroke:#000000; stroke-width:4; stroke-opacity:1; fill:none\" points=\"\n",
       "  653.638,1487.47 653.638,1470.19 \n",
       "  \"/>\n",
       "<polyline clip-path=\"url(#clip6200)\" style=\"stroke:#000000; stroke-width:4; stroke-opacity:1; fill:none\" points=\"\n",
       "  1153.38,1487.47 1153.38,1470.19 \n",
       "  \"/>\n",
       "<polyline clip-path=\"url(#clip6200)\" style=\"stroke:#000000; stroke-width:4; stroke-opacity:1; fill:none\" points=\"\n",
       "  1653.12,1487.47 1653.12,1470.19 \n",
       "  \"/>\n",
       "<polyline clip-path=\"url(#clip6200)\" style=\"stroke:#000000; stroke-width:4; stroke-opacity:1; fill:none\" points=\"\n",
       "  2152.86,1487.47 2152.86,1470.19 \n",
       "  \"/>\n",
       "<polyline clip-path=\"url(#clip6200)\" style=\"stroke:#000000; stroke-width:4; stroke-opacity:1; fill:none\" points=\"\n",
       "  153.898,1487.47 180.284,1487.47 \n",
       "  \"/>\n",
       "<polyline clip-path=\"url(#clip6200)\" style=\"stroke:#000000; stroke-width:4; stroke-opacity:1; fill:none\" points=\"\n",
       "  153.898,1127.42 180.284,1127.42 \n",
       "  \"/>\n",
       "<polyline clip-path=\"url(#clip6200)\" style=\"stroke:#000000; stroke-width:4; stroke-opacity:1; fill:none\" points=\"\n",
       "  153.898,767.359 180.284,767.359 \n",
       "  \"/>\n",
       "<polyline clip-path=\"url(#clip6200)\" style=\"stroke:#000000; stroke-width:4; stroke-opacity:1; fill:none\" points=\"\n",
       "  153.898,407.302 180.284,407.302 \n",
       "  \"/>\n",
       "<polyline clip-path=\"url(#clip6200)\" style=\"stroke:#000000; stroke-width:4; stroke-opacity:1; fill:none\" points=\"\n",
       "  153.898,47.2441 180.284,47.2441 \n",
       "  \"/>\n",
       "<g clip-path=\"url(#clip6200)\">\n",
       "<text style=\"fill:#000000; fill-opacity:1; font-family:Arial,Helvetica Neue,Helvetica,sans-serif; font-size:48px; text-anchor:middle;\" transform=\"rotate(0, 153.898, 1541.47)\" x=\"153.898\" y=\"1541.47\">0.00</text>\n",
       "</g>\n",
       "<g clip-path=\"url(#clip6200)\">\n",
       "<text style=\"fill:#000000; fill-opacity:1; font-family:Arial,Helvetica Neue,Helvetica,sans-serif; font-size:48px; text-anchor:middle;\" transform=\"rotate(0, 653.638, 1541.47)\" x=\"653.638\" y=\"1541.47\">0.25</text>\n",
       "</g>\n",
       "<g clip-path=\"url(#clip6200)\">\n",
       "<text style=\"fill:#000000; fill-opacity:1; font-family:Arial,Helvetica Neue,Helvetica,sans-serif; font-size:48px; text-anchor:middle;\" transform=\"rotate(0, 1153.38, 1541.47)\" x=\"1153.38\" y=\"1541.47\">0.50</text>\n",
       "</g>\n",
       "<g clip-path=\"url(#clip6200)\">\n",
       "<text style=\"fill:#000000; fill-opacity:1; font-family:Arial,Helvetica Neue,Helvetica,sans-serif; font-size:48px; text-anchor:middle;\" transform=\"rotate(0, 1653.12, 1541.47)\" x=\"1653.12\" y=\"1541.47\">0.75</text>\n",
       "</g>\n",
       "<g clip-path=\"url(#clip6200)\">\n",
       "<text style=\"fill:#000000; fill-opacity:1; font-family:Arial,Helvetica Neue,Helvetica,sans-serif; font-size:48px; text-anchor:middle;\" transform=\"rotate(0, 2152.86, 1541.47)\" x=\"2152.86\" y=\"1541.47\">1.00</text>\n",
       "</g>\n",
       "<g clip-path=\"url(#clip6200)\">\n",
       "<text style=\"fill:#000000; fill-opacity:1; font-family:Arial,Helvetica Neue,Helvetica,sans-serif; font-size:48px; text-anchor:end;\" transform=\"rotate(0, 129.898, 1504.97)\" x=\"129.898\" y=\"1504.97\">0.0</text>\n",
       "</g>\n",
       "<g clip-path=\"url(#clip6200)\">\n",
       "<text style=\"fill:#000000; fill-opacity:1; font-family:Arial,Helvetica Neue,Helvetica,sans-serif; font-size:48px; text-anchor:end;\" transform=\"rotate(0, 129.898, 1144.92)\" x=\"129.898\" y=\"1144.92\">0.5</text>\n",
       "</g>\n",
       "<g clip-path=\"url(#clip6200)\">\n",
       "<text style=\"fill:#000000; fill-opacity:1; font-family:Arial,Helvetica Neue,Helvetica,sans-serif; font-size:48px; text-anchor:end;\" transform=\"rotate(0, 129.898, 784.859)\" x=\"129.898\" y=\"784.859\">1.0</text>\n",
       "</g>\n",
       "<g clip-path=\"url(#clip6200)\">\n",
       "<text style=\"fill:#000000; fill-opacity:1; font-family:Arial,Helvetica Neue,Helvetica,sans-serif; font-size:48px; text-anchor:end;\" transform=\"rotate(0, 129.898, 424.802)\" x=\"129.898\" y=\"424.802\">1.5</text>\n",
       "</g>\n",
       "<g clip-path=\"url(#clip6200)\">\n",
       "<text style=\"fill:#000000; fill-opacity:1; font-family:Arial,Helvetica Neue,Helvetica,sans-serif; font-size:48px; text-anchor:end;\" transform=\"rotate(0, 129.898, 64.7441)\" x=\"129.898\" y=\"64.7441\">2.0</text>\n",
       "</g>\n",
       "<polyline clip-path=\"url(#clip6202)\" style=\"stroke:#009af9; stroke-width:4; stroke-opacity:1; fill:none\" points=\"\n",
       "  153.898,767.359 653.638,767.359 1028.44,767.359 1309.55,767.359 1520.38,767.359 1678.5,767.359 1797.09,767.359 1886.03,767.359 1952.74,767.359 2002.77,767.359 \n",
       "  2040.29,767.359 2068.43,767.359 2089.54,767.359 2105.37,767.359 2117.24,767.359 2126.15,767.359 2132.82,767.359 2137.83,767.359 2141.59,767.359 2144.41,767.359 \n",
       "  2146.52,767.359 2148.11,767.359 2149.29,767.359 2150.19,767.359 2150.85,767.359 2151.36,767.359 2151.73,767.359 2152.01,767.359 2152.23,767.359 2152.38,767.359 \n",
       "  2152.5,767.359 2152.59,767.359 2152.66,767.359 2152.71,767.359 2152.75,767.359 2152.78,767.359 2152.8,767.359 2152.81,767.359 2152.82,767.359 2152.83,767.359 \n",
       "  2152.84,767.359 2152.84,767.359 2152.85,767.359 2152.85,767.359 2152.85,767.359 2152.85,767.359 2152.86,767.359 2152.86,767.359 2152.86,767.359 2152.86,767.359 \n",
       "  2152.86,767.359 \n",
       "  \"/>\n",
       "<path clip-path=\"url(#clip6202)\" d=\"M153.898 783.359 L142.586 778.671 L137.898 767.359 L142.586 756.047 L153.898 751.359 L165.21 756.047 L169.898 767.359 L165.21 778.671 Z\" fill=\"#009af9\" fill-rule=\"evenodd\" fill-opacity=\"1\" stroke=\"#000000\" stroke-opacity=\"1\" stroke-width=\"3.2\"/>\n",
       "<path clip-path=\"url(#clip6202)\" d=\"M653.638 783.359 L642.326 778.671 L637.638 767.359 L642.326 756.047 L653.638 751.359 L664.95 756.047 L669.638 767.359 L664.95 778.671 Z\" fill=\"#009af9\" fill-rule=\"evenodd\" fill-opacity=\"1\" stroke=\"#000000\" stroke-opacity=\"1\" stroke-width=\"3.2\"/>\n",
       "<path clip-path=\"url(#clip6202)\" d=\"M1028.44 783.359 L1017.13 778.671 L1012.44 767.359 L1017.13 756.047 L1028.44 751.359 L1039.76 756.047 L1044.44 767.359 L1039.76 778.671 Z\" fill=\"#009af9\" fill-rule=\"evenodd\" fill-opacity=\"1\" stroke=\"#000000\" stroke-opacity=\"1\" stroke-width=\"3.2\"/>\n",
       "<path clip-path=\"url(#clip6202)\" d=\"M1309.55 783.359 L1298.24 778.671 L1293.55 767.359 L1298.24 756.047 L1309.55 751.359 L1320.86 756.047 L1325.55 767.359 L1320.86 778.671 Z\" fill=\"#009af9\" fill-rule=\"evenodd\" fill-opacity=\"1\" stroke=\"#000000\" stroke-opacity=\"1\" stroke-width=\"3.2\"/>\n",
       "<path clip-path=\"url(#clip6202)\" d=\"M1520.38 783.359 L1509.06 778.671 L1504.38 767.359 L1509.06 756.047 L1520.38 751.359 L1531.69 756.047 L1536.38 767.359 L1531.69 778.671 Z\" fill=\"#009af9\" fill-rule=\"evenodd\" fill-opacity=\"1\" stroke=\"#000000\" stroke-opacity=\"1\" stroke-width=\"3.2\"/>\n",
       "<path clip-path=\"url(#clip6202)\" d=\"M1678.5 783.359 L1667.18 778.671 L1662.5 767.359 L1667.18 756.047 L1678.5 751.359 L1689.81 756.047 L1694.5 767.359 L1689.81 778.671 Z\" fill=\"#009af9\" fill-rule=\"evenodd\" fill-opacity=\"1\" stroke=\"#000000\" stroke-opacity=\"1\" stroke-width=\"3.2\"/>\n",
       "<path clip-path=\"url(#clip6202)\" d=\"M1797.09 783.359 L1785.78 778.671 L1781.09 767.359 L1785.78 756.047 L1797.09 751.359 L1808.4 756.047 L1813.09 767.359 L1808.4 778.671 Z\" fill=\"#009af9\" fill-rule=\"evenodd\" fill-opacity=\"1\" stroke=\"#000000\" stroke-opacity=\"1\" stroke-width=\"3.2\"/>\n",
       "<path clip-path=\"url(#clip6202)\" d=\"M1886.03 783.359 L1874.72 778.671 L1870.03 767.359 L1874.72 756.047 L1886.03 751.359 L1897.34 756.047 L1902.03 767.359 L1897.34 778.671 Z\" fill=\"#009af9\" fill-rule=\"evenodd\" fill-opacity=\"1\" stroke=\"#000000\" stroke-opacity=\"1\" stroke-width=\"3.2\"/>\n",
       "<path clip-path=\"url(#clip6202)\" d=\"M1952.74 783.359 L1941.43 778.671 L1936.74 767.359 L1941.43 756.047 L1952.74 751.359 L1964.05 756.047 L1968.74 767.359 L1964.05 778.671 Z\" fill=\"#009af9\" fill-rule=\"evenodd\" fill-opacity=\"1\" stroke=\"#000000\" stroke-opacity=\"1\" stroke-width=\"3.2\"/>\n",
       "<path clip-path=\"url(#clip6202)\" d=\"M2002.77 783.359 L1991.46 778.671 L1986.77 767.359 L1991.46 756.047 L2002.77 751.359 L2014.08 756.047 L2018.77 767.359 L2014.08 778.671 Z\" fill=\"#009af9\" fill-rule=\"evenodd\" fill-opacity=\"1\" stroke=\"#000000\" stroke-opacity=\"1\" stroke-width=\"3.2\"/>\n",
       "<path clip-path=\"url(#clip6202)\" d=\"M2040.29 783.359 L2028.98 778.671 L2024.29 767.359 L2028.98 756.047 L2040.29 751.359 L2051.6 756.047 L2056.29 767.359 L2051.6 778.671 Z\" fill=\"#009af9\" fill-rule=\"evenodd\" fill-opacity=\"1\" stroke=\"#000000\" stroke-opacity=\"1\" stroke-width=\"3.2\"/>\n",
       "<path clip-path=\"url(#clip6202)\" d=\"M2068.43 783.359 L2057.12 778.671 L2052.43 767.359 L2057.12 756.047 L2068.43 751.359 L2079.75 756.047 L2084.43 767.359 L2079.75 778.671 Z\" fill=\"#009af9\" fill-rule=\"evenodd\" fill-opacity=\"1\" stroke=\"#000000\" stroke-opacity=\"1\" stroke-width=\"3.2\"/>\n",
       "<path clip-path=\"url(#clip6202)\" d=\"M2089.54 783.359 L2078.23 778.671 L2073.54 767.359 L2078.23 756.047 L2089.54 751.359 L2100.85 756.047 L2105.54 767.359 L2100.85 778.671 Z\" fill=\"#009af9\" fill-rule=\"evenodd\" fill-opacity=\"1\" stroke=\"#000000\" stroke-opacity=\"1\" stroke-width=\"3.2\"/>\n",
       "<path clip-path=\"url(#clip6202)\" d=\"M2105.37 783.359 L2094.06 778.671 L2089.37 767.359 L2094.06 756.047 L2105.37 751.359 L2116.68 756.047 L2121.37 767.359 L2116.68 778.671 Z\" fill=\"#009af9\" fill-rule=\"evenodd\" fill-opacity=\"1\" stroke=\"#000000\" stroke-opacity=\"1\" stroke-width=\"3.2\"/>\n",
       "<path clip-path=\"url(#clip6202)\" d=\"M2117.24 783.359 L2105.93 778.671 L2101.24 767.359 L2105.93 756.047 L2117.24 751.359 L2128.55 756.047 L2133.24 767.359 L2128.55 778.671 Z\" fill=\"#009af9\" fill-rule=\"evenodd\" fill-opacity=\"1\" stroke=\"#000000\" stroke-opacity=\"1\" stroke-width=\"3.2\"/>\n",
       "<path clip-path=\"url(#clip6202)\" d=\"M2126.15 783.359 L2114.83 778.671 L2110.15 767.359 L2114.83 756.047 L2126.15 751.359 L2137.46 756.047 L2142.15 767.359 L2137.46 778.671 Z\" fill=\"#009af9\" fill-rule=\"evenodd\" fill-opacity=\"1\" stroke=\"#000000\" stroke-opacity=\"1\" stroke-width=\"3.2\"/>\n",
       "<path clip-path=\"url(#clip6202)\" d=\"M2132.82 783.359 L2121.51 778.671 L2116.82 767.359 L2121.51 756.047 L2132.82 751.359 L2144.14 756.047 L2148.82 767.359 L2144.14 778.671 Z\" fill=\"#009af9\" fill-rule=\"evenodd\" fill-opacity=\"1\" stroke=\"#000000\" stroke-opacity=\"1\" stroke-width=\"3.2\"/>\n",
       "<path clip-path=\"url(#clip6202)\" d=\"M2137.83 783.359 L2126.52 778.671 L2121.83 767.359 L2126.52 756.047 L2137.83 751.359 L2149.15 756.047 L2153.83 767.359 L2149.15 778.671 Z\" fill=\"#009af9\" fill-rule=\"evenodd\" fill-opacity=\"1\" stroke=\"#000000\" stroke-opacity=\"1\" stroke-width=\"3.2\"/>\n",
       "<path clip-path=\"url(#clip6202)\" d=\"M2141.59 783.359 L2130.28 778.671 L2125.59 767.359 L2130.28 756.047 L2141.59 751.359 L2152.9 756.047 L2157.59 767.359 L2152.9 778.671 Z\" fill=\"#009af9\" fill-rule=\"evenodd\" fill-opacity=\"1\" stroke=\"#000000\" stroke-opacity=\"1\" stroke-width=\"3.2\"/>\n",
       "<path clip-path=\"url(#clip6202)\" d=\"M2144.41 783.359 L2133.1 778.671 L2128.41 767.359 L2133.1 756.047 L2144.41 751.359 L2155.72 756.047 L2160.41 767.359 L2155.72 778.671 Z\" fill=\"#009af9\" fill-rule=\"evenodd\" fill-opacity=\"1\" stroke=\"#000000\" stroke-opacity=\"1\" stroke-width=\"3.2\"/>\n",
       "<path clip-path=\"url(#clip6202)\" d=\"M2146.52 783.359 L2135.21 778.671 L2130.52 767.359 L2135.21 756.047 L2146.52 751.359 L2157.83 756.047 L2162.52 767.359 L2157.83 778.671 Z\" fill=\"#009af9\" fill-rule=\"evenodd\" fill-opacity=\"1\" stroke=\"#000000\" stroke-opacity=\"1\" stroke-width=\"3.2\"/>\n",
       "<path clip-path=\"url(#clip6202)\" d=\"M2148.11 783.359 L2136.79 778.671 L2132.11 767.359 L2136.79 756.047 L2148.11 751.359 L2159.42 756.047 L2164.11 767.359 L2159.42 778.671 Z\" fill=\"#009af9\" fill-rule=\"evenodd\" fill-opacity=\"1\" stroke=\"#000000\" stroke-opacity=\"1\" stroke-width=\"3.2\"/>\n",
       "<path clip-path=\"url(#clip6202)\" d=\"M2149.29 783.359 L2137.98 778.671 L2133.29 767.359 L2137.98 756.047 L2149.29 751.359 L2160.61 756.047 L2165.29 767.359 L2160.61 778.671 Z\" fill=\"#009af9\" fill-rule=\"evenodd\" fill-opacity=\"1\" stroke=\"#000000\" stroke-opacity=\"1\" stroke-width=\"3.2\"/>\n",
       "<path clip-path=\"url(#clip6202)\" d=\"M2150.19 783.359 L2138.87 778.671 L2134.19 767.359 L2138.87 756.047 L2150.19 751.359 L2161.5 756.047 L2166.19 767.359 L2161.5 778.671 Z\" fill=\"#009af9\" fill-rule=\"evenodd\" fill-opacity=\"1\" stroke=\"#000000\" stroke-opacity=\"1\" stroke-width=\"3.2\"/>\n",
       "<path clip-path=\"url(#clip6202)\" d=\"M2150.85 783.359 L2139.54 778.671 L2134.85 767.359 L2139.54 756.047 L2150.85 751.359 L2162.17 756.047 L2166.85 767.359 L2162.17 778.671 Z\" fill=\"#009af9\" fill-rule=\"evenodd\" fill-opacity=\"1\" stroke=\"#000000\" stroke-opacity=\"1\" stroke-width=\"3.2\"/>\n",
       "<path clip-path=\"url(#clip6202)\" d=\"M2151.36 783.359 L2140.04 778.671 L2135.36 767.359 L2140.04 756.047 L2151.36 751.359 L2162.67 756.047 L2167.36 767.359 L2162.67 778.671 Z\" fill=\"#009af9\" fill-rule=\"evenodd\" fill-opacity=\"1\" stroke=\"#000000\" stroke-opacity=\"1\" stroke-width=\"3.2\"/>\n",
       "<path clip-path=\"url(#clip6202)\" d=\"M2151.73 783.359 L2140.42 778.671 L2135.73 767.359 L2140.42 756.047 L2151.73 751.359 L2163.04 756.047 L2167.73 767.359 L2163.04 778.671 Z\" fill=\"#009af9\" fill-rule=\"evenodd\" fill-opacity=\"1\" stroke=\"#000000\" stroke-opacity=\"1\" stroke-width=\"3.2\"/>\n",
       "<path clip-path=\"url(#clip6202)\" d=\"M2152.01 783.359 L2140.7 778.671 L2136.01 767.359 L2140.7 756.047 L2152.01 751.359 L2163.33 756.047 L2168.01 767.359 L2163.33 778.671 Z\" fill=\"#009af9\" fill-rule=\"evenodd\" fill-opacity=\"1\" stroke=\"#000000\" stroke-opacity=\"1\" stroke-width=\"3.2\"/>\n",
       "<path clip-path=\"url(#clip6202)\" d=\"M2152.23 783.359 L2140.91 778.671 L2136.23 767.359 L2140.91 756.047 L2152.23 751.359 L2163.54 756.047 L2168.23 767.359 L2163.54 778.671 Z\" fill=\"#009af9\" fill-rule=\"evenodd\" fill-opacity=\"1\" stroke=\"#000000\" stroke-opacity=\"1\" stroke-width=\"3.2\"/>\n",
       "<path clip-path=\"url(#clip6202)\" d=\"M2152.38 783.359 L2141.07 778.671 L2136.38 767.359 L2141.07 756.047 L2152.38 751.359 L2163.7 756.047 L2168.38 767.359 L2163.7 778.671 Z\" fill=\"#009af9\" fill-rule=\"evenodd\" fill-opacity=\"1\" stroke=\"#000000\" stroke-opacity=\"1\" stroke-width=\"3.2\"/>\n",
       "<path clip-path=\"url(#clip6202)\" d=\"M2152.5 783.359 L2141.19 778.671 L2136.5 767.359 L2141.19 756.047 L2152.5 751.359 L2163.81 756.047 L2168.5 767.359 L2163.81 778.671 Z\" fill=\"#009af9\" fill-rule=\"evenodd\" fill-opacity=\"1\" stroke=\"#000000\" stroke-opacity=\"1\" stroke-width=\"3.2\"/>\n",
       "<path clip-path=\"url(#clip6202)\" d=\"M2152.59 783.359 L2141.28 778.671 L2136.59 767.359 L2141.28 756.047 L2152.59 751.359 L2163.9 756.047 L2168.59 767.359 L2163.9 778.671 Z\" fill=\"#009af9\" fill-rule=\"evenodd\" fill-opacity=\"1\" stroke=\"#000000\" stroke-opacity=\"1\" stroke-width=\"3.2\"/>\n",
       "<path clip-path=\"url(#clip6202)\" d=\"M2152.66 783.359 L2141.35 778.671 L2136.66 767.359 L2141.35 756.047 L2152.66 751.359 L2163.97 756.047 L2168.66 767.359 L2163.97 778.671 Z\" fill=\"#009af9\" fill-rule=\"evenodd\" fill-opacity=\"1\" stroke=\"#000000\" stroke-opacity=\"1\" stroke-width=\"3.2\"/>\n",
       "<path clip-path=\"url(#clip6202)\" d=\"M2152.71 783.359 L2141.4 778.671 L2136.71 767.359 L2141.4 756.047 L2152.71 751.359 L2164.02 756.047 L2168.71 767.359 L2164.02 778.671 Z\" fill=\"#009af9\" fill-rule=\"evenodd\" fill-opacity=\"1\" stroke=\"#000000\" stroke-opacity=\"1\" stroke-width=\"3.2\"/>\n",
       "<path clip-path=\"url(#clip6202)\" d=\"M2152.75 783.359 L2141.43 778.671 L2136.75 767.359 L2141.43 756.047 L2152.75 751.359 L2164.06 756.047 L2168.75 767.359 L2164.06 778.671 Z\" fill=\"#009af9\" fill-rule=\"evenodd\" fill-opacity=\"1\" stroke=\"#000000\" stroke-opacity=\"1\" stroke-width=\"3.2\"/>\n",
       "<path clip-path=\"url(#clip6202)\" d=\"M2152.78 783.359 L2141.46 778.671 L2136.78 767.359 L2141.46 756.047 L2152.78 751.359 L2164.09 756.047 L2168.78 767.359 L2164.09 778.671 Z\" fill=\"#009af9\" fill-rule=\"evenodd\" fill-opacity=\"1\" stroke=\"#000000\" stroke-opacity=\"1\" stroke-width=\"3.2\"/>\n",
       "<path clip-path=\"url(#clip6202)\" d=\"M2152.8 783.359 L2141.48 778.671 L2136.8 767.359 L2141.48 756.047 L2152.8 751.359 L2164.11 756.047 L2168.8 767.359 L2164.11 778.671 Z\" fill=\"#009af9\" fill-rule=\"evenodd\" fill-opacity=\"1\" stroke=\"#000000\" stroke-opacity=\"1\" stroke-width=\"3.2\"/>\n",
       "<path clip-path=\"url(#clip6202)\" d=\"M2152.81 783.359 L2141.5 778.671 L2136.81 767.359 L2141.5 756.047 L2152.81 751.359 L2164.12 756.047 L2168.81 767.359 L2164.12 778.671 Z\" fill=\"#009af9\" fill-rule=\"evenodd\" fill-opacity=\"1\" stroke=\"#000000\" stroke-opacity=\"1\" stroke-width=\"3.2\"/>\n",
       "<path clip-path=\"url(#clip6202)\" d=\"M2152.82 783.359 L2141.51 778.671 L2136.82 767.359 L2141.51 756.047 L2152.82 751.359 L2164.14 756.047 L2168.82 767.359 L2164.14 778.671 Z\" fill=\"#009af9\" fill-rule=\"evenodd\" fill-opacity=\"1\" stroke=\"#000000\" stroke-opacity=\"1\" stroke-width=\"3.2\"/>\n",
       "<path clip-path=\"url(#clip6202)\" d=\"M2152.83 783.359 L2141.52 778.671 L2136.83 767.359 L2141.52 756.047 L2152.83 751.359 L2164.14 756.047 L2168.83 767.359 L2164.14 778.671 Z\" fill=\"#009af9\" fill-rule=\"evenodd\" fill-opacity=\"1\" stroke=\"#000000\" stroke-opacity=\"1\" stroke-width=\"3.2\"/>\n",
       "<path clip-path=\"url(#clip6202)\" d=\"M2152.84 783.359 L2141.53 778.671 L2136.84 767.359 L2141.53 756.047 L2152.84 751.359 L2164.15 756.047 L2168.84 767.359 L2164.15 778.671 Z\" fill=\"#009af9\" fill-rule=\"evenodd\" fill-opacity=\"1\" stroke=\"#000000\" stroke-opacity=\"1\" stroke-width=\"3.2\"/>\n",
       "<path clip-path=\"url(#clip6202)\" d=\"M2152.84 783.359 L2141.53 778.671 L2136.84 767.359 L2141.53 756.047 L2152.84 751.359 L2164.16 756.047 L2168.84 767.359 L2164.16 778.671 Z\" fill=\"#009af9\" fill-rule=\"evenodd\" fill-opacity=\"1\" stroke=\"#000000\" stroke-opacity=\"1\" stroke-width=\"3.2\"/>\n",
       "<path clip-path=\"url(#clip6202)\" d=\"M2152.85 783.359 L2141.54 778.671 L2136.85 767.359 L2141.54 756.047 L2152.85 751.359 L2164.16 756.047 L2168.85 767.359 L2164.16 778.671 Z\" fill=\"#009af9\" fill-rule=\"evenodd\" fill-opacity=\"1\" stroke=\"#000000\" stroke-opacity=\"1\" stroke-width=\"3.2\"/>\n",
       "<path clip-path=\"url(#clip6202)\" d=\"M2152.85 783.359 L2141.54 778.671 L2136.85 767.359 L2141.54 756.047 L2152.85 751.359 L2164.16 756.047 L2168.85 767.359 L2164.16 778.671 Z\" fill=\"#009af9\" fill-rule=\"evenodd\" fill-opacity=\"1\" stroke=\"#000000\" stroke-opacity=\"1\" stroke-width=\"3.2\"/>\n",
       "<path clip-path=\"url(#clip6202)\" d=\"M2152.85 783.359 L2141.54 778.671 L2136.85 767.359 L2141.54 756.047 L2152.85 751.359 L2164.17 756.047 L2168.85 767.359 L2164.17 778.671 Z\" fill=\"#009af9\" fill-rule=\"evenodd\" fill-opacity=\"1\" stroke=\"#000000\" stroke-opacity=\"1\" stroke-width=\"3.2\"/>\n",
       "<path clip-path=\"url(#clip6202)\" d=\"M2152.85 783.359 L2141.54 778.671 L2136.85 767.359 L2141.54 756.047 L2152.85 751.359 L2164.17 756.047 L2168.85 767.359 L2164.17 778.671 Z\" fill=\"#009af9\" fill-rule=\"evenodd\" fill-opacity=\"1\" stroke=\"#000000\" stroke-opacity=\"1\" stroke-width=\"3.2\"/>\n",
       "<path clip-path=\"url(#clip6202)\" d=\"M2152.86 783.359 L2141.54 778.671 L2136.86 767.359 L2141.54 756.047 L2152.86 751.359 L2164.17 756.047 L2168.86 767.359 L2164.17 778.671 Z\" fill=\"#009af9\" fill-rule=\"evenodd\" fill-opacity=\"1\" stroke=\"#000000\" stroke-opacity=\"1\" stroke-width=\"3.2\"/>\n",
       "<path clip-path=\"url(#clip6202)\" d=\"M2152.86 783.359 L2141.55 778.671 L2136.86 767.359 L2141.55 756.047 L2152.86 751.359 L2164.17 756.047 L2168.86 767.359 L2164.17 778.671 Z\" fill=\"#009af9\" fill-rule=\"evenodd\" fill-opacity=\"1\" stroke=\"#000000\" stroke-opacity=\"1\" stroke-width=\"3.2\"/>\n",
       "<path clip-path=\"url(#clip6202)\" d=\"M2152.86 783.359 L2141.55 778.671 L2136.86 767.359 L2141.55 756.047 L2152.86 751.359 L2164.17 756.047 L2168.86 767.359 L2164.17 778.671 Z\" fill=\"#009af9\" fill-rule=\"evenodd\" fill-opacity=\"1\" stroke=\"#000000\" stroke-opacity=\"1\" stroke-width=\"3.2\"/>\n",
       "<path clip-path=\"url(#clip6202)\" d=\"M2152.86 783.359 L2141.55 778.671 L2136.86 767.359 L2141.55 756.047 L2152.86 751.359 L2164.17 756.047 L2168.86 767.359 L2164.17 778.671 Z\" fill=\"#009af9\" fill-rule=\"evenodd\" fill-opacity=\"1\" stroke=\"#000000\" stroke-opacity=\"1\" stroke-width=\"3.2\"/>\n",
       "<path clip-path=\"url(#clip6202)\" d=\"M2152.86 783.359 L2141.55 778.671 L2136.86 767.359 L2141.55 756.047 L2152.86 751.359 L2164.17 756.047 L2168.86 767.359 L2164.17 778.671 Z\" fill=\"#009af9\" fill-rule=\"evenodd\" fill-opacity=\"1\" stroke=\"#000000\" stroke-opacity=\"1\" stroke-width=\"3.2\"/>\n",
       "<path clip-path=\"url(#clip6200)\" d=\"\n",
       "M1989.93 251.724 L2280.76 251.724 L2280.76 130.764 L1989.93 130.764  Z\n",
       "  \" fill=\"#ffffff\" fill-rule=\"evenodd\" fill-opacity=\"1\"/>\n",
       "<polyline clip-path=\"url(#clip6200)\" style=\"stroke:#000000; stroke-width:4; stroke-opacity:1; fill:none\" points=\"\n",
       "  1989.93,251.724 2280.76,251.724 2280.76,130.764 1989.93,130.764 1989.93,251.724 \n",
       "  \"/>\n",
       "<polyline clip-path=\"url(#clip6200)\" style=\"stroke:#009af9; stroke-width:4; stroke-opacity:1; fill:none\" points=\"\n",
       "  2013.93,191.244 2157.93,191.244 \n",
       "  \"/>\n",
       "<path clip-path=\"url(#clip6200)\" d=\"M2097.93 215.244 L2080.96 208.212 L2073.93 191.244 L2080.96 174.276 L2097.93 167.244 L2114.89 174.276 L2121.93 191.244 L2114.89 208.212 Z\" fill=\"#009af9\" fill-rule=\"evenodd\" fill-opacity=\"1\" stroke=\"#000000\" stroke-opacity=\"1\" stroke-width=\"3.2\"/>\n",
       "<g clip-path=\"url(#clip6200)\">\n",
       "<text style=\"fill:#000000; fill-opacity:1; font-family:Arial,Helvetica Neue,Helvetica,sans-serif; font-size:48px; text-anchor:start;\" transform=\"rotate(0, 2181.93, 208.744)\" x=\"2181.93\" y=\"208.744\">y1</text>\n",
       "</g>\n",
       "</svg>\n"
      ]
     },
     "execution_count": 20,
     "metadata": {},
     "output_type": "execute_result"
    }
   ],
   "source": [
    "cu = cumulative_sum(Pₙ)\n",
    "pushfirst!(cu, 0)\n",
    "plot(cu,[1 for i in 1:length(cu)], marker=:o)\n",
    "xlims!(0,1.1)\n",
    "ylims!(0,2)"
   ]
  },
  {
   "cell_type": "markdown",
   "metadata": {},
   "source": [
    "5. Calculate analytically the sum of $P_1$ up to $P_n$. (Hint: This should be a calculation that you did in high school or in Calculus I.)"
   ]
  },
  {
   "cell_type": "markdown",
   "metadata": {},
   "source": [
    "$$\\sum_{i=1}^n p(1-p)^{i-1} = p \\sum_{i=1}^n (1-p)^{i-1} = 1-(1-p)^n $$"
   ]
  },
  {
   "cell_type": "markdown",
   "metadata": {},
   "source": [
    "6. Use the result of [5] to find analytically which bin $n$ a given value of $r \\in [0, 1]$ falls into using the inequality $P_{n-1} \\le r \\le P_n$."
   ]
  },
  {
   "cell_type": "markdown",
   "metadata": {},
   "source": [
    "For this, we have to solve the two inequalities. We start with the less than:\n",
    "\n",
    "$$ r \\leq 1-(1-p)^n$$\n",
    "$$ (1-p)^n \\leq 1-r$$\n",
    "$$ n \\geq \\frac{log(1-r)}{log(1-p)}$$\n",
    "\n",
    "And then go to the greater than:\n",
    "$$ r \\geq 1-(1-p)^(n-1)$$\n",
    "$$ (1-p)^(n-1) \\geq 1-r$$\n",
    "$$ (n-1)log(1-p) \\geq log(1-r)$$\n",
    "$$ n-1 \\leq \\frac{log(1-r)}{log(1-p)}$$\n",
    "$$ n \\leq \\frac{log(1-r)}{log(1-p)}+1$$"
   ]
  },
  {
   "cell_type": "markdown",
   "metadata": {},
   "source": [
    "7. Implement this using the `floor` function."
   ]
  },
  {
   "cell_type": "code",
   "execution_count": 21,
   "metadata": {},
   "outputs": [
    {
     "data": {
      "text/plain": [
       "find_bin (generic function with 1 method)"
      ]
     },
     "execution_count": 21,
     "metadata": {},
     "output_type": "execute_result"
    }
   ],
   "source": [
    "function find_bin(r,p)\n",
    "    upper_bound = floor(log(1-r)/log(1-p))\n",
    "    return upper_bound\n",
    "end"
   ]
  },
  {
   "cell_type": "markdown",
   "metadata": {},
   "source": [
    "### Exercise 4: A simple infection model\n",
    "\n",
    "In this exercise we will investigate a *highly* simplified model of the process of infection and recovery.  (In the next problem set we will develop a much better model.)\n",
    "\n",
    "The model is as follows: An individual starts in state `S` (\"susceptible\"). When they are in state `S`, they have a probability $p_E$ to become exposed (state `E`) at each step. Once they are exposed, they have probability $p_I$ to become infectious (state `I`). When they are infectious, they have a probability $p_R$ to recover at each step.\n",
    "\n",
    "Let's denote by $\\tau_S$ the length of time spent in state `S`, and similarly for $\\tau_E$ and $\\tau_I$.\n",
    "\n",
    "1. How does the total time $\\tau_\\text{total}$ to go from `S` to `R` relate to these times? What is the relation with the geometric random variables from the previous exercises?"
   ]
  },
  {
   "cell_type": "markdown",
   "metadata": {},
   "source": [
    "$\\tau_\\text{total} = \\tau_\\text{S} + \\tau_\\text{E} + \\tau_\\text{I}$\n",
    "\n",
    "This is the sum of 3 geometric random variables, since all of these have a certain probability of happening at each timestep."
   ]
  },
  {
   "cell_type": "markdown",
   "metadata": {},
   "source": [
    "2. Write a function `total_time(p_E, p_I, p_R)` that calculates the total time to go from state `S` to state `R`."
   ]
  },
  {
   "cell_type": "code",
   "execution_count": 22,
   "metadata": {},
   "outputs": [
    {
     "data": {
      "text/plain": [
       "total_time (generic function with 2 methods)"
      ]
     },
     "execution_count": 22,
     "metadata": {},
     "output_type": "execute_result"
    }
   ],
   "source": [
    "function total_time(p_E, p_I, p_R)\n",
    "    time_exposed = geometric(p_E)\n",
    "    time_infected = geometric(p_I)\n",
    "    time_recovered = geometric(p_R)\n",
    "    return time_exposed + time_infected + time_recovered\n",
    "end\n",
    "function total_time(p, s)\n",
    "    v = [geometric(p) for i in 1:s]\n",
    "    return sum(v)\n",
    "end"
   ]
  },
  {
   "cell_type": "markdown",
   "metadata": {},
   "source": [
    "3. Run a Monte Carlo simulation to calculate and plot the probability distribution of $\\tau_\\text{total}$ for $p_E = 0.25$, $p_I = 0.1$ and $p_R = 0.05$.  "
   ]
  },
  {
   "cell_type": "code",
   "execution_count": 23,
   "metadata": {},
   "outputs": [
    {
     "data": {
      "image/svg+xml": [
       "<?xml version=\"1.0\" encoding=\"utf-8\"?>\n",
       "<svg xmlns=\"http://www.w3.org/2000/svg\" xmlns:xlink=\"http://www.w3.org/1999/xlink\" width=\"600\" height=\"400\" viewBox=\"0 0 2400 1600\">\n",
       "<defs>\n",
       "  <clipPath id=\"clip6600\">\n",
       "    <rect x=\"0\" y=\"0\" width=\"2400\" height=\"1600\"/>\n",
       "  </clipPath>\n",
       "</defs>\n",
       "<path clip-path=\"url(#clip6600)\" d=\"\n",
       "M0 1600 L2400 1600 L2400 0 L0 0  Z\n",
       "  \" fill=\"#ffffff\" fill-rule=\"evenodd\" fill-opacity=\"1\"/>\n",
       "<defs>\n",
       "  <clipPath id=\"clip6601\">\n",
       "    <rect x=\"480\" y=\"0\" width=\"1681\" height=\"1600\"/>\n",
       "  </clipPath>\n",
       "</defs>\n",
       "<path clip-path=\"url(#clip6600)\" d=\"\n",
       "M269.279 1425.62 L2352.76 1425.62 L2352.76 47.2441 L269.279 47.2441  Z\n",
       "  \" fill=\"#ffffff\" fill-rule=\"evenodd\" fill-opacity=\"1\"/>\n",
       "<defs>\n",
       "  <clipPath id=\"clip6602\">\n",
       "    <rect x=\"269\" y=\"47\" width=\"2084\" height=\"1379\"/>\n",
       "  </clipPath>\n",
       "</defs>\n",
       "<polyline clip-path=\"url(#clip6602)\" style=\"stroke:#000000; stroke-width:2; stroke-opacity:0.1; fill:none\" points=\"\n",
       "  309.1,1425.62 309.1,47.2441 \n",
       "  \"/>\n",
       "<polyline clip-path=\"url(#clip6602)\" style=\"stroke:#000000; stroke-width:2; stroke-opacity:0.1; fill:none\" points=\"\n",
       "  947.264,1425.62 947.264,47.2441 \n",
       "  \"/>\n",
       "<polyline clip-path=\"url(#clip6602)\" style=\"stroke:#000000; stroke-width:2; stroke-opacity:0.1; fill:none\" points=\"\n",
       "  1585.43,1425.62 1585.43,47.2441 \n",
       "  \"/>\n",
       "<polyline clip-path=\"url(#clip6602)\" style=\"stroke:#000000; stroke-width:2; stroke-opacity:0.1; fill:none\" points=\"\n",
       "  2223.59,1425.62 2223.59,47.2441 \n",
       "  \"/>\n",
       "<polyline clip-path=\"url(#clip6602)\" style=\"stroke:#000000; stroke-width:2; stroke-opacity:0.1; fill:none\" points=\"\n",
       "  269.279,1386.66 2352.76,1386.66 \n",
       "  \"/>\n",
       "<polyline clip-path=\"url(#clip6602)\" style=\"stroke:#000000; stroke-width:2; stroke-opacity:0.1; fill:none\" points=\"\n",
       "  269.279,1124.58 2352.76,1124.58 \n",
       "  \"/>\n",
       "<polyline clip-path=\"url(#clip6602)\" style=\"stroke:#000000; stroke-width:2; stroke-opacity:0.1; fill:none\" points=\"\n",
       "  269.279,862.494 2352.76,862.494 \n",
       "  \"/>\n",
       "<polyline clip-path=\"url(#clip6602)\" style=\"stroke:#000000; stroke-width:2; stroke-opacity:0.1; fill:none\" points=\"\n",
       "  269.279,600.41 2352.76,600.41 \n",
       "  \"/>\n",
       "<polyline clip-path=\"url(#clip6602)\" style=\"stroke:#000000; stroke-width:2; stroke-opacity:0.1; fill:none\" points=\"\n",
       "  269.279,338.327 2352.76,338.327 \n",
       "  \"/>\n",
       "<polyline clip-path=\"url(#clip6602)\" style=\"stroke:#000000; stroke-width:2; stroke-opacity:0.1; fill:none\" points=\"\n",
       "  269.279,76.2431 2352.76,76.2431 \n",
       "  \"/>\n",
       "<polyline clip-path=\"url(#clip6600)\" style=\"stroke:#000000; stroke-width:4; stroke-opacity:1; fill:none\" points=\"\n",
       "  269.279,1425.62 2352.76,1425.62 \n",
       "  \"/>\n",
       "<polyline clip-path=\"url(#clip6600)\" style=\"stroke:#000000; stroke-width:4; stroke-opacity:1; fill:none\" points=\"\n",
       "  269.279,1425.62 269.279,47.2441 \n",
       "  \"/>\n",
       "<polyline clip-path=\"url(#clip6600)\" style=\"stroke:#000000; stroke-width:4; stroke-opacity:1; fill:none\" points=\"\n",
       "  309.1,1425.62 309.1,1409.08 \n",
       "  \"/>\n",
       "<polyline clip-path=\"url(#clip6600)\" style=\"stroke:#000000; stroke-width:4; stroke-opacity:1; fill:none\" points=\"\n",
       "  947.264,1425.62 947.264,1409.08 \n",
       "  \"/>\n",
       "<polyline clip-path=\"url(#clip6600)\" style=\"stroke:#000000; stroke-width:4; stroke-opacity:1; fill:none\" points=\"\n",
       "  1585.43,1425.62 1585.43,1409.08 \n",
       "  \"/>\n",
       "<polyline clip-path=\"url(#clip6600)\" style=\"stroke:#000000; stroke-width:4; stroke-opacity:1; fill:none\" points=\"\n",
       "  2223.59,1425.62 2223.59,1409.08 \n",
       "  \"/>\n",
       "<polyline clip-path=\"url(#clip6600)\" style=\"stroke:#000000; stroke-width:4; stroke-opacity:1; fill:none\" points=\"\n",
       "  269.279,1386.66 294.28,1386.66 \n",
       "  \"/>\n",
       "<polyline clip-path=\"url(#clip6600)\" style=\"stroke:#000000; stroke-width:4; stroke-opacity:1; fill:none\" points=\"\n",
       "  269.279,1124.58 294.28,1124.58 \n",
       "  \"/>\n",
       "<polyline clip-path=\"url(#clip6600)\" style=\"stroke:#000000; stroke-width:4; stroke-opacity:1; fill:none\" points=\"\n",
       "  269.279,862.494 294.28,862.494 \n",
       "  \"/>\n",
       "<polyline clip-path=\"url(#clip6600)\" style=\"stroke:#000000; stroke-width:4; stroke-opacity:1; fill:none\" points=\"\n",
       "  269.279,600.41 294.28,600.41 \n",
       "  \"/>\n",
       "<polyline clip-path=\"url(#clip6600)\" style=\"stroke:#000000; stroke-width:4; stroke-opacity:1; fill:none\" points=\"\n",
       "  269.279,338.327 294.28,338.327 \n",
       "  \"/>\n",
       "<polyline clip-path=\"url(#clip6600)\" style=\"stroke:#000000; stroke-width:4; stroke-opacity:1; fill:none\" points=\"\n",
       "  269.279,76.2431 294.28,76.2431 \n",
       "  \"/>\n",
       "<g clip-path=\"url(#clip6600)\">\n",
       "<text style=\"fill:#000000; fill-opacity:1; font-family:Arial,Helvetica Neue,Helvetica,sans-serif; font-size:48px; text-anchor:middle;\" transform=\"rotate(0, 309.1, 1479.62)\" x=\"309.1\" y=\"1479.62\">0</text>\n",
       "</g>\n",
       "<g clip-path=\"url(#clip6600)\">\n",
       "<text style=\"fill:#000000; fill-opacity:1; font-family:Arial,Helvetica Neue,Helvetica,sans-serif; font-size:48px; text-anchor:middle;\" transform=\"rotate(0, 947.264, 1479.62)\" x=\"947.264\" y=\"1479.62\">100</text>\n",
       "</g>\n",
       "<g clip-path=\"url(#clip6600)\">\n",
       "<text style=\"fill:#000000; fill-opacity:1; font-family:Arial,Helvetica Neue,Helvetica,sans-serif; font-size:48px; text-anchor:middle;\" transform=\"rotate(0, 1585.43, 1479.62)\" x=\"1585.43\" y=\"1479.62\">200</text>\n",
       "</g>\n",
       "<g clip-path=\"url(#clip6600)\">\n",
       "<text style=\"fill:#000000; fill-opacity:1; font-family:Arial,Helvetica Neue,Helvetica,sans-serif; font-size:48px; text-anchor:middle;\" transform=\"rotate(0, 2223.59, 1479.62)\" x=\"2223.59\" y=\"1479.62\">300</text>\n",
       "</g>\n",
       "<g clip-path=\"url(#clip6600)\">\n",
       "<text style=\"fill:#000000; fill-opacity:1; font-family:Arial,Helvetica Neue,Helvetica,sans-serif; font-size:48px; text-anchor:end;\" transform=\"rotate(0, 245.279, 1404.16)\" x=\"245.279\" y=\"1404.16\">0.000</text>\n",
       "</g>\n",
       "<g clip-path=\"url(#clip6600)\">\n",
       "<text style=\"fill:#000000; fill-opacity:1; font-family:Arial,Helvetica Neue,Helvetica,sans-serif; font-size:48px; text-anchor:end;\" transform=\"rotate(0, 245.279, 1142.08)\" x=\"245.279\" y=\"1142.08\">0.005</text>\n",
       "</g>\n",
       "<g clip-path=\"url(#clip6600)\">\n",
       "<text style=\"fill:#000000; fill-opacity:1; font-family:Arial,Helvetica Neue,Helvetica,sans-serif; font-size:48px; text-anchor:end;\" transform=\"rotate(0, 245.279, 879.994)\" x=\"245.279\" y=\"879.994\">0.010</text>\n",
       "</g>\n",
       "<g clip-path=\"url(#clip6600)\">\n",
       "<text style=\"fill:#000000; fill-opacity:1; font-family:Arial,Helvetica Neue,Helvetica,sans-serif; font-size:48px; text-anchor:end;\" transform=\"rotate(0, 245.279, 617.91)\" x=\"245.279\" y=\"617.91\">0.015</text>\n",
       "</g>\n",
       "<g clip-path=\"url(#clip6600)\">\n",
       "<text style=\"fill:#000000; fill-opacity:1; font-family:Arial,Helvetica Neue,Helvetica,sans-serif; font-size:48px; text-anchor:end;\" transform=\"rotate(0, 245.279, 355.827)\" x=\"245.279\" y=\"355.827\">0.020</text>\n",
       "</g>\n",
       "<g clip-path=\"url(#clip6600)\">\n",
       "<text style=\"fill:#000000; fill-opacity:1; font-family:Arial,Helvetica Neue,Helvetica,sans-serif; font-size:48px; text-anchor:end;\" transform=\"rotate(0, 245.279, 93.7431)\" x=\"245.279\" y=\"93.7431\">0.025</text>\n",
       "</g>\n",
       "<g clip-path=\"url(#clip6600)\">\n",
       "<text style=\"fill:#000000; fill-opacity:1; font-family:Arial,Helvetica Neue,Helvetica,sans-serif; font-size:66px; text-anchor:middle;\" transform=\"rotate(0, 1311.02, 1559.48)\" x=\"1311.02\" y=\"1559.48\">Days from Susceptible to Recovered</text>\n",
       "</g>\n",
       "<g clip-path=\"url(#clip6600)\">\n",
       "<text style=\"fill:#000000; fill-opacity:1; font-family:Arial,Helvetica Neue,Helvetica,sans-serif; font-size:66px; text-anchor:middle;\" transform=\"rotate(-90, 89.2861, 736.431)\" x=\"89.2861\" y=\"736.431\">Percentage of Total</text>\n",
       "</g>\n",
       "<polyline clip-path=\"url(#clip6602)\" style=\"stroke:#009af9; stroke-width:4; stroke-opacity:1; fill:none\" points=\"\n",
       "  328.245,1320.98 334.627,1220.81 341.008,1092.97 347.39,956.267 353.772,833.507 360.153,697.538 366.535,577.137 372.917,478.751 379.298,378.792 385.68,293.248 \n",
       "  392.061,241.775 398.443,182.23 404.825,150.884 411.206,118.543 417.588,86.7789 423.97,96.6332 430.351,86.2547 436.733,95.9518 443.115,88.4562 449.496,107.746 \n",
       "  455.878,128.712 462.259,145.066 468.641,159.9 475.023,186.266 481.404,222.486 487.786,245.235 494.168,273.487 500.549,314.634 506.931,358.35 513.313,378.95 \n",
       "  519.694,423.818 526.076,439.7 532.458,498.774 538.839,516.858 545.221,552.554 551.602,581.278 557.984,605.652 564.366,644.44 570.747,680.45 577.129,698.115 \n",
       "  583.511,735.331 589.892,755.616 596.274,791.364 602.656,809.867 609.037,840.898 615.419,862.651 621.8,886.5 628.182,912.709 634.564,930.426 640.945,944.84 \n",
       "  647.327,970.944 653.709,992.592 660.09,1008.21 666.472,1020.16 672.854,1046.53 679.235,1054.92 685.617,1075.78 691.998,1083.17 698.38,1099.78 704.762,1119.81 \n",
       "  711.143,1122.27 717.525,1137.47 723.907,1153.25 730.288,1161.95 736.67,1166.41 743.052,1183.97 749.433,1191.67 755.815,1198.9 762.196,1220.87 768.578,1220.13 \n",
       "  774.96,1226.53 781.341,1234.86 787.723,1246.66 794.105,1251.84 800.486,1253.52 806.868,1266.84 813.25,1272.71 819.631,1276.22 826.013,1279.42 832.394,1285.13 \n",
       "  838.776,1288.38 845.158,1296.61 851.539,1297.66 857.921,1301.69 864.303,1309.45 870.684,1312.91 877.066,1317.78 883.448,1318.26 889.829,1321.51 896.211,1326.49 \n",
       "  902.593,1331.94 908.974,1333.67 915.356,1331.57 921.737,1338.65 928.119,1338.38 934.501,1342.16 940.882,1343.99 947.264,1345.93 953.646,1346.88 960.027,1350.13 \n",
       "  966.409,1353.22 972.791,1354.48 979.172,1355.05 985.554,1355.79 991.935,1358.36 998.317,1359.14 1004.7,1360.98 1011.08,1361.66 1017.46,1364.44 1023.84,1363.39 \n",
       "  1030.23,1364.96 1036.61,1367.42 1042.99,1368.16 1049.37,1369.83 1055.75,1370.46 1062.13,1370.99 1068.52,1371.62 1074.9,1371.62 1081.28,1372.87 1087.66,1374.08 \n",
       "  1094.04,1374.81 1100.42,1374.76 1106.8,1374.45 1113.19,1375.23 1119.57,1375.86 1125.95,1377.44 1132.33,1376.18 1138.71,1376.96 1145.09,1378.64 1151.48,1378.12 \n",
       "  1157.86,1379.74 1164.24,1380.16 1170.62,1379.95 1177,1380.89 1183.38,1380.37 1189.77,1380.74 1196.15,1381.52 1202.53,1381.42 1208.91,1382.31 1215.29,1381.16 \n",
       "  1221.67,1382.47 1228.06,1383.52 1234.44,1381.68 1240.82,1382.57 1247.2,1383.83 1253.58,1381.73 1259.96,1382.57 1266.35,1382.73 1272.73,1383.41 1279.11,1383.88 \n",
       "  1285.49,1383.93 1291.87,1383.41 1298.25,1384.62 1304.64,1384.41 1311.02,1384.41 1317.4,1384.46 1323.78,1384.98 1330.16,1384.25 1336.54,1385.19 1342.93,1385.19 \n",
       "  1349.31,1385.4 1355.69,1385.04 1362.07,1385.3 1368.45,1385.45 1374.83,1385.56 1381.22,1385.45 1387.6,1385.93 1393.98,1385.3 1400.36,1385.72 1406.74,1385.93 \n",
       "  1413.12,1385.09 1419.51,1385.35 1425.89,1386.14 1432.27,1385.77 1438.65,1385.66 1445.03,1385.93 1451.41,1386.03 1457.8,1386.24 1464.18,1386.03 1470.56,1386.03 \n",
       "  1476.94,1385.87 1483.32,1385.98 1489.7,1385.98 1496.08,1386.03 1502.47,1386.24 1508.85,1386.35 1515.23,1386.35 1521.61,1386.56 1527.99,1386.29 1534.37,1386.29 \n",
       "  1540.76,1386.35 1553.52,1386.5 1559.9,1386.4 1566.28,1386.35 1572.66,1386.45 1579.05,1386.35 1585.43,1386.45 1591.81,1386.4 1598.19,1386.4 1604.57,1386.5 \n",
       "  1610.95,1386.5 1617.34,1386.61 1623.72,1386.56 1630.1,1386.5 1636.48,1386.45 1642.86,1386.45 1649.24,1386.61 1655.63,1386.5 1662.01,1386.5 1668.39,1386.5 \n",
       "  1681.15,1386.5 1687.53,1386.61 1693.92,1386.61 1706.68,1386.56 1713.06,1386.5 1719.44,1386.5 1725.82,1386.56 1732.21,1386.61 1738.59,1386.61 1744.97,1386.56 \n",
       "  1751.35,1386.56 1764.11,1386.56 1776.88,1386.61 1789.64,1386.56 1815.17,1386.56 1847.07,1386.61 1904.51,1386.61 1949.18,1386.61 1955.56,1386.61 1968.33,1386.61 \n",
       "  2293.79,1386.61 \n",
       "  \"/>\n",
       "<path clip-path=\"url(#clip6600)\" d=\"\n",
       "M1789.21 251.724 L2280.76 251.724 L2280.76 130.764 L1789.21 130.764  Z\n",
       "  \" fill=\"#ffffff\" fill-rule=\"evenodd\" fill-opacity=\"1\"/>\n",
       "<polyline clip-path=\"url(#clip6600)\" style=\"stroke:#000000; stroke-width:4; stroke-opacity:1; fill:none\" points=\"\n",
       "  1789.21,251.724 2280.76,251.724 2280.76,130.764 1789.21,130.764 1789.21,251.724 \n",
       "  \"/>\n",
       "<polyline clip-path=\"url(#clip6600)\" style=\"stroke:#009af9; stroke-width:4; stroke-opacity:1; fill:none\" points=\"\n",
       "  1813.21,191.244 1957.21,191.244 \n",
       "  \"/>\n",
       "<g clip-path=\"url(#clip6600)\">\n",
       "<text style=\"fill:#000000; fill-opacity:1; font-family:Arial,Helvetica Neue,Helvetica,sans-serif; font-size:48px; text-anchor:start;\" transform=\"rotate(0, 1981.21, 208.744)\" x=\"1981.21\" y=\"208.744\">patient data</text>\n",
       "</g>\n",
       "</svg>\n"
      ]
     },
     "execution_count": 23,
     "metadata": {},
     "output_type": "execute_result"
    }
   ],
   "source": [
    "N = 1000000\n",
    "results = [total_time(0.25,0.1,0.05) for i in 1:N]\n",
    "recov,distr = probability_distribution(results)\n",
    "plot(recov,distr, label = \"patient data\" )\n",
    "xlabel!(\"Days from Susceptible to Recovered\")\n",
    "ylabel!(\"Percentage of Total\")"
   ]
  },
  {
   "cell_type": "markdown",
   "metadata": {},
   "source": [
    "4. What happens to the probability distribution of the total time as you add more states, say `E_1`, `E_2`? You may suppose that the probability to move to the next state is the same value $p$ for all states. How could you use $s$ such states?\n",
    "\n",
    "    [This is a visual representation of a famous theorem that we will discuss in class.]"
   ]
  },
  {
   "cell_type": "code",
   "execution_count": 27,
   "metadata": {},
   "outputs": [
    {
     "data": {
      "application/vnd.webio.node+json": {
       "children": [
        {
         "children": [
          {
           "children": [
            {
             "children": [
              {
               "children": [
                {
                 "children": [
                  "bins"
                 ],
                 "instanceArgs": {
                  "namespace": "html",
                  "tag": "label"
                 },
                 "nodeType": "DOM",
                 "props": {
                  "className": "interact ",
                  "style": {
                   "padding": "5px 10px 0px 10px"
                  }
                 },
                 "type": "node"
                }
               ],
               "instanceArgs": {
                "namespace": "html",
                "tag": "div"
               },
               "nodeType": "DOM",
               "props": {
                "className": "interact-flex-row-left"
               },
               "type": "node"
              },
              {
               "children": [
                {
                 "children": [],
                 "instanceArgs": {
                  "namespace": "html",
                  "tag": "input"
                 },
                 "nodeType": "DOM",
                 "props": {
                  "attributes": {
                   "data-bind": "numericValue: index, valueUpdate: 'input', event: {change: function (){this.changes(this.changes()+1)}}",
                   "orient": "horizontal",
                   "type": "range"
                  },
                  "className": "slider slider is-fullwidth",
                  "max": 50,
                  "min": 1,
                  "step": 1,
                  "style": {}
                 },
                 "type": "node"
                }
               ],
               "instanceArgs": {
                "namespace": "html",
                "tag": "div"
               },
               "nodeType": "DOM",
               "props": {
                "className": "interact-flex-row-center"
               },
               "type": "node"
              },
              {
               "children": [
                {
                 "children": [],
                 "instanceArgs": {
                  "namespace": "html",
                  "tag": "p"
                 },
                 "nodeType": "DOM",
                 "props": {
                  "attributes": {
                   "data-bind": "text: formatted_val"
                  }
                 },
                 "type": "node"
                }
               ],
               "instanceArgs": {
                "namespace": "html",
                "tag": "div"
               },
               "nodeType": "DOM",
               "props": {
                "className": "interact-flex-row-right"
               },
               "type": "node"
              }
             ],
             "instanceArgs": {
              "namespace": "html",
              "tag": "div"
             },
             "nodeType": "DOM",
             "props": {
              "className": "interact-flex-row interact-widget"
             },
             "type": "node"
            }
           ],
           "instanceArgs": {
            "handlers": {
             "changes": [
              "(function (val){return (val!=this.model[\"changes\"]()) ? (this.valueFromJulia[\"changes\"]=true, this.model[\"changes\"](val)) : undefined})"
             ],
             "index": [
              "(function (val){return (val!=this.model[\"index\"]()) ? (this.valueFromJulia[\"index\"]=true, this.model[\"index\"](val)) : undefined})"
             ]
            },
            "id": "11238547300651370226",
            "imports": {
             "data": [
              {
               "name": "knockout",
               "type": "js",
               "url": "/assetserver/d0eab99e36662d489b02956f8196a72a23d80e5c-knockout.js"
              },
              {
               "name": "knockout_punches",
               "type": "js",
               "url": "/assetserver/cbffcd1f95c27b6d43e8ac2e42b7ec7bc67143b9-knockout_punches.js"
              },
              {
               "name": null,
               "type": "js",
               "url": "/assetserver/14a01397a98df29bded2fea1faa9b4e3577fbc2b-all.js"
              },
              {
               "name": null,
               "type": "css",
               "url": "/assetserver/4431834c57fda0f2fbf2c6b7f56a99d3e4cb7e9e-style.css"
              },
              {
               "name": null,
               "type": "css",
               "url": "/assetserver/70cf1cc6b3fcf96b29e48ec4c99d29b9d7956686-bulma_confined.min.css"
              }
             ],
             "type": "async_block"
            },
            "mount_callbacks": [
             "function () {\n    var handler = (function (ko, koPunches) {\n    ko.punches.enableAll();\n    ko.bindingHandlers.numericValue = {\n        init: function(element, valueAccessor, allBindings, data, context) {\n            var stringified = ko.observable(ko.unwrap(valueAccessor()));\n            stringified.subscribe(function(value) {\n                var val = parseFloat(value);\n                if (!isNaN(val)) {\n                    valueAccessor()(val);\n                }\n            });\n            valueAccessor().subscribe(function(value) {\n                var str = JSON.stringify(value);\n                if ((str == \"0\") && ([\"-0\", \"-0.\"].indexOf(stringified()) >= 0))\n                     return;\n                 if ([\"null\", \"\"].indexOf(str) >= 0)\n                     return;\n                stringified(str);\n            });\n            ko.applyBindingsToNode(\n                element,\n                {\n                    value: stringified,\n                    valueUpdate: allBindings.get('valueUpdate'),\n                },\n                context,\n            );\n        }\n    };\n    var json_data = {\"formatted_vals\":[\"1\",\"2\",\"3\",\"4\",\"5\",\"6\",\"7\",\"8\",\"9\",\"10\",\"11\",\"12\",\"13\",\"14\",\"15\",\"16\",\"17\",\"18\",\"19\",\"20\",\"21\",\"22\",\"23\",\"24\",\"25\",\"26\",\"27\",\"28\",\"29\",\"30\",\"31\",\"32\",\"33\",\"34\",\"35\",\"36\",\"37\",\"38\",\"39\",\"40\",\"41\",\"42\",\"43\",\"44\",\"45\",\"46\",\"47\",\"48\",\"49\",\"50\"],\"changes\":WebIO.getval({\"name\":\"changes\",\"scope\":\"11238547300651370226\",\"id\":\"ob_41\",\"type\":\"observable\"}),\"index\":WebIO.getval({\"name\":\"index\",\"scope\":\"11238547300651370226\",\"id\":\"ob_40\",\"type\":\"observable\"})};\n    var self = this;\n    function AppViewModel() {\n        for (var key in json_data) {\n            var el = json_data[key];\n            this[key] = Array.isArray(el) ? ko.observableArray(el) : ko.observable(el);\n        }\n        \n        [this[\"formatted_val\"]=ko.computed(    function(){\n        return this.formatted_vals()[parseInt(this.index())-(1)];\n    }\n,this)]\n        [this[\"changes\"].subscribe((function (val){!(this.valueFromJulia[\"changes\"]) ? (WebIO.setval({\"name\":\"changes\",\"scope\":\"11238547300651370226\",\"id\":\"ob_41\",\"type\":\"observable\"},val)) : undefined; return this.valueFromJulia[\"changes\"]=false}),self),this[\"index\"].subscribe((function (val){!(this.valueFromJulia[\"index\"]) ? (WebIO.setval({\"name\":\"index\",\"scope\":\"11238547300651370226\",\"id\":\"ob_40\",\"type\":\"observable\"},val)) : undefined; return this.valueFromJulia[\"index\"]=false}),self)]\n        \n    }\n    self.model = new AppViewModel();\n    self.valueFromJulia = {};\n    for (var key in json_data) {\n        self.valueFromJulia[key] = false;\n    }\n    ko.applyBindings(self.model, self.dom);\n}\n);\n    (WebIO.importBlock({\"data\":[{\"name\":\"knockout\",\"type\":\"js\",\"url\":\"/assetserver/d0eab99e36662d489b02956f8196a72a23d80e5c-knockout.js\"},{\"name\":\"knockout_punches\",\"type\":\"js\",\"url\":\"/assetserver/cbffcd1f95c27b6d43e8ac2e42b7ec7bc67143b9-knockout_punches.js\"}],\"type\":\"async_block\"})).then((imports) => handler.apply(this, imports));\n}\n"
            ],
            "observables": {
             "changes": {
              "id": "ob_41",
              "sync": false,
              "value": 0
             },
             "index": {
              "id": "ob_40",
              "sync": true,
              "value": 25
             }
            },
            "systemjs_options": null
           },
           "nodeType": "Scope",
           "props": {},
           "type": "node"
          }
         ],
         "instanceArgs": {
          "namespace": "html",
          "tag": "div"
         },
         "nodeType": "DOM",
         "props": {
          "className": "field interact-widget"
         },
         "type": "node"
        },
        {
         "children": [
          {
           "children": [],
           "instanceArgs": {
            "id": "ob_47",
            "name": "obs-node"
           },
           "nodeType": "ObservableNode",
           "props": {},
           "type": "node"
          }
         ],
         "instanceArgs": {
          "handlers": {},
          "id": "4746416608780492888",
          "imports": {
           "data": [],
           "type": "async_block"
          },
          "mount_callbacks": [],
          "observables": {
           "obs-node": {
            "id": "ob_47",
            "sync": false,
            "value": {
             "children": [
              {
               "children": [],
               "instanceArgs": {
                "namespace": "html",
                "tag": "div"
               },
               "nodeType": "DOM",
               "props": {
                "setInnerHtml": "<?xml version=\"1.0\" encoding=\"utf-8\"?>\n<svg xmlns=\"http://www.w3.org/2000/svg\" xmlns:xlink=\"http://www.w3.org/1999/xlink\" width=\"600\" height=\"400\" viewBox=\"0 0 2400 1600\">\n<defs>\n  <clipPath id=\"clip1000\">\n    <rect x=\"0\" y=\"0\" width=\"2400\" height=\"1600\"/>\n  </clipPath>\n</defs>\n<path clip-path=\"url(#clip1000)\" d=\"\nM0 1600 L2400 1600 L2400 0 L0 0  Z\n  \" fill=\"#ffffff\" fill-rule=\"evenodd\" fill-opacity=\"1\"/>\n<defs>\n  <clipPath id=\"clip1001\">\n    <rect x=\"480\" y=\"0\" width=\"1681\" height=\"1600\"/>\n  </clipPath>\n</defs>\n<path clip-path=\"url(#clip1000)\" d=\"\nM269.279 1425.62 L2352.76 1425.62 L2352.76 47.2441 L269.279 47.2441  Z\n  \" fill=\"#ffffff\" fill-rule=\"evenodd\" fill-opacity=\"1\"/>\n<defs>\n  <clipPath id=\"clip1002\">\n    <rect x=\"269\" y=\"47\" width=\"2084\" height=\"1379\"/>\n  </clipPath>\n</defs>\n<polyline clip-path=\"url(#clip1002)\" style=\"stroke:#000000; stroke-width:2; stroke-opacity:0.1; fill:none\" points=\"\n  502.407,1425.62 502.407,47.2441 \n  \"/>\n<polyline clip-path=\"url(#clip1002)\" style=\"stroke:#000000; stroke-width:2; stroke-opacity:0.1; fill:none\" points=\"\n  875.612,1425.62 875.612,47.2441 \n  \"/>\n<polyline clip-path=\"url(#clip1002)\" style=\"stroke:#000000; stroke-width:2; stroke-opacity:0.1; fill:none\" points=\"\n  1248.82,1425.62 1248.82,47.2441 \n  \"/>\n<polyline clip-path=\"url(#clip1002)\" style=\"stroke:#000000; stroke-width:2; stroke-opacity:0.1; fill:none\" points=\"\n  1622.02,1425.62 1622.02,47.2441 \n  \"/>\n<polyline clip-path=\"url(#clip1002)\" style=\"stroke:#000000; stroke-width:2; stroke-opacity:0.1; fill:none\" points=\"\n  1995.23,1425.62 1995.23,47.2441 \n  \"/>\n<polyline clip-path=\"url(#clip1002)\" style=\"stroke:#000000; stroke-width:2; stroke-opacity:0.1; fill:none\" points=\"\n  269.279,1387.15 2352.76,1387.15 \n  \"/>\n<polyline clip-path=\"url(#clip1002)\" style=\"stroke:#000000; stroke-width:2; stroke-opacity:0.1; fill:none\" points=\"\n  269.279,1115.34 2352.76,1115.34 \n  \"/>\n<polyline clip-path=\"url(#clip1002)\" style=\"stroke:#000000; stroke-width:2; stroke-opacity:0.1; fill:none\" points=\"\n  269.279,843.526 2352.76,843.526 \n  \"/>\n<polyline clip-path=\"url(#clip1002)\" style=\"stroke:#000000; stroke-width:2; stroke-opacity:0.1; fill:none\" points=\"\n  269.279,571.713 2352.76,571.713 \n  \"/>\n<polyline clip-path=\"url(#clip1002)\" style=\"stroke:#000000; stroke-width:2; stroke-opacity:0.1; fill:none\" points=\"\n  269.279,299.9 2352.76,299.9 \n  \"/>\n<polyline clip-path=\"url(#clip1000)\" style=\"stroke:#000000; stroke-width:4; stroke-opacity:1; fill:none\" points=\"\n  269.279,1425.62 2352.76,1425.62 \n  \"/>\n<polyline clip-path=\"url(#clip1000)\" style=\"stroke:#000000; stroke-width:4; stroke-opacity:1; fill:none\" points=\"\n  269.279,1425.62 269.279,47.2441 \n  \"/>\n<polyline clip-path=\"url(#clip1000)\" style=\"stroke:#000000; stroke-width:4; stroke-opacity:1; fill:none\" points=\"\n  502.407,1425.62 502.407,1409.08 \n  \"/>\n<polyline clip-path=\"url(#clip1000)\" style=\"stroke:#000000; stroke-width:4; stroke-opacity:1; fill:none\" points=\"\n  875.612,1425.62 875.612,1409.08 \n  \"/>\n<polyline clip-path=\"url(#clip1000)\" style=\"stroke:#000000; stroke-width:4; stroke-opacity:1; fill:none\" points=\"\n  1248.82,1425.62 1248.82,1409.08 \n  \"/>\n<polyline clip-path=\"url(#clip1000)\" style=\"stroke:#000000; stroke-width:4; stroke-opacity:1; fill:none\" points=\"\n  1622.02,1425.62 1622.02,1409.08 \n  \"/>\n<polyline clip-path=\"url(#clip1000)\" style=\"stroke:#000000; stroke-width:4; stroke-opacity:1; fill:none\" points=\"\n  1995.23,1425.62 1995.23,1409.08 \n  \"/>\n<polyline clip-path=\"url(#clip1000)\" style=\"stroke:#000000; stroke-width:4; stroke-opacity:1; fill:none\" points=\"\n  269.279,1387.15 294.28,1387.15 \n  \"/>\n<polyline clip-path=\"url(#clip1000)\" style=\"stroke:#000000; stroke-width:4; stroke-opacity:1; fill:none\" points=\"\n  269.279,1115.34 294.28,1115.34 \n  \"/>\n<polyline clip-path=\"url(#clip1000)\" style=\"stroke:#000000; stroke-width:4; stroke-opacity:1; fill:none\" points=\"\n  269.279,843.526 294.28,843.526 \n  \"/>\n<polyline clip-path=\"url(#clip1000)\" style=\"stroke:#000000; stroke-width:4; stroke-opacity:1; fill:none\" points=\"\n  269.279,571.713 294.28,571.713 \n  \"/>\n<polyline clip-path=\"url(#clip1000)\" style=\"stroke:#000000; stroke-width:4; stroke-opacity:1; fill:none\" points=\"\n  269.279,299.9 294.28,299.9 \n  \"/>\n<g clip-path=\"url(#clip1000)\">\n<text style=\"fill:#000000; fill-opacity:1; font-family:Arial,Helvetica Neue,Helvetica,sans-serif; font-size:48px; text-anchor:middle;\" transform=\"rotate(0, 502.407, 1479.62)\" x=\"502.407\" y=\"1479.62\">60</text>\n</g>\n<g clip-path=\"url(#clip1000)\">\n<text style=\"fill:#000000; fill-opacity:1; font-family:Arial,Helvetica Neue,Helvetica,sans-serif; font-size:48px; text-anchor:middle;\" transform=\"rotate(0, 875.612, 1479.62)\" x=\"875.612\" y=\"1479.62\">90</text>\n</g>\n<g clip-path=\"url(#clip1000)\">\n<text style=\"fill:#000000; fill-opacity:1; font-family:Arial,Helvetica Neue,Helvetica,sans-serif; font-size:48px; text-anchor:middle;\" transform=\"rotate(0, 1248.82, 1479.62)\" x=\"1248.82\" y=\"1479.62\">120</text>\n</g>\n<g clip-path=\"url(#clip1000)\">\n<text style=\"fill:#000000; fill-opacity:1; font-family:Arial,Helvetica Neue,Helvetica,sans-serif; font-size:48px; text-anchor:middle;\" transform=\"rotate(0, 1622.02, 1479.62)\" x=\"1622.02\" y=\"1479.62\">150</text>\n</g>\n<g clip-path=\"url(#clip1000)\">\n<text style=\"fill:#000000; fill-opacity:1; font-family:Arial,Helvetica Neue,Helvetica,sans-serif; font-size:48px; text-anchor:middle;\" transform=\"rotate(0, 1995.23, 1479.62)\" x=\"1995.23\" y=\"1479.62\">180</text>\n</g>\n<g clip-path=\"url(#clip1000)\">\n<text style=\"fill:#000000; fill-opacity:1; font-family:Arial,Helvetica Neue,Helvetica,sans-serif; font-size:48px; text-anchor:end;\" transform=\"rotate(0, 245.279, 1404.65)\" x=\"245.279\" y=\"1404.65\">0.000</text>\n</g>\n<g clip-path=\"url(#clip1000)\">\n<text style=\"fill:#000000; fill-opacity:1; font-family:Arial,Helvetica Neue,Helvetica,sans-serif; font-size:48px; text-anchor:end;\" transform=\"rotate(0, 245.279, 1132.84)\" x=\"245.279\" y=\"1132.84\">0.005</text>\n</g>\n<g clip-path=\"url(#clip1000)\">\n<text style=\"fill:#000000; fill-opacity:1; font-family:Arial,Helvetica Neue,Helvetica,sans-serif; font-size:48px; text-anchor:end;\" transform=\"rotate(0, 245.279, 861.026)\" x=\"245.279\" y=\"861.026\">0.010</text>\n</g>\n<g clip-path=\"url(#clip1000)\">\n<text style=\"fill:#000000; fill-opacity:1; font-family:Arial,Helvetica Neue,Helvetica,sans-serif; font-size:48px; text-anchor:end;\" transform=\"rotate(0, 245.279, 589.213)\" x=\"245.279\" y=\"589.213\">0.015</text>\n</g>\n<g clip-path=\"url(#clip1000)\">\n<text style=\"fill:#000000; fill-opacity:1; font-family:Arial,Helvetica Neue,Helvetica,sans-serif; font-size:48px; text-anchor:end;\" transform=\"rotate(0, 245.279, 317.4)\" x=\"245.279\" y=\"317.4\">0.020</text>\n</g>\n<g clip-path=\"url(#clip1000)\">\n<text style=\"fill:#000000; fill-opacity:1; font-family:Arial,Helvetica Neue,Helvetica,sans-serif; font-size:66px; text-anchor:middle;\" transform=\"rotate(0, 1311.02, 1559.48)\" x=\"1311.02\" y=\"1559.48\">Days from Susceptible to Recovered</text>\n</g>\n<g clip-path=\"url(#clip1000)\">\n<text style=\"fill:#000000; fill-opacity:1; font-family:Arial,Helvetica Neue,Helvetica,sans-serif; font-size:66px; text-anchor:middle;\" transform=\"rotate(-90, 89.2861, 736.431)\" x=\"89.2861\" y=\"736.431\">Percentage of Total</text>\n</g>\n<polyline clip-path=\"url(#clip1002)\" style=\"stroke:#009af9; stroke-width:4; stroke-opacity:1; fill:none\" points=\"\n  328.245,1386.06 353.125,1386.06 365.566,1386.06 378.006,1384.43 390.446,1382.8 402.886,1380.08 415.326,1381.17 427.766,1378.45 440.206,1370.3 452.647,1366.49 \n  465.087,1364.32 477.527,1353.45 489.967,1357.8 502.407,1336.59 514.847,1328.98 527.288,1315.39 539.728,1307.78 552.168,1286.04 564.608,1273.53 577.048,1240.92 \n  589.488,1212.65 601.929,1219.17 614.369,1157.74 626.809,1143.61 639.249,1099.57 651.689,1032.16 664.129,1010.96 676.569,944.64 689.01,895.714 701.45,899.519 \n  713.89,770.136 726.33,767.418 738.77,666.304 751.21,660.867 763.651,609.223 776.091,565.733 788.531,484.733 800.971,474.947 813.411,386.336 825.851,332.517 \n  838.291,296.094 850.732,253.148 863.172,250.973 875.612,186.825 888.052,171.06 900.492,178.127 912.932,156.926 925.373,142.248 937.813,122.678 950.253,138.443 \n  962.693,123.765 975.133,86.2547 987.573,179.215 1000.01,172.691 1012.45,142.792 1024.89,112.892 1037.33,244.993 1049.77,199.329 1062.21,286.309 1074.65,286.853 \n  1087.09,310.229 1099.53,372.202 1111.97,396.121 1124.42,447.222 1136.86,462.987 1149.3,489.625 1161.74,546.162 1174.18,627.706 1186.62,651.626 1199.06,664.673 \n  1211.5,676.632 1223.94,722.297 1236.38,788.076 1248.82,795.143 1261.26,837.002 1273.7,869.076 1286.14,916.915 1298.58,940.835 1311.02,981.607 1323.46,1012.05 \n  1335.9,1029.99 1348.34,1071.3 1360.78,1081.63 1373.22,1118.6 1385.66,1121.86 1398.1,1174.59 1410.54,1172.42 1422.98,1186.55 1435.42,1203.95 1447.86,1227.33 \n  1460.3,1246.9 1472.74,1270.82 1485.18,1274.08 1497.62,1267.01 1510.06,1293.65 1522.5,1305.61 1534.94,1300.72 1547.38,1313.76 1559.82,1317.02 1572.26,1317.57 \n  1584.7,1334.96 1597.14,1334.42 1609.58,1350.73 1622.02,1344.21 1634.46,1356.16 1646.9,1362.14 1659.34,1365.95 1671.78,1359.97 1684.22,1365.41 1696.66,1362.14 \n  1709.1,1371.39 1721.54,1370.84 1733.98,1373.56 1746.42,1371.39 1758.86,1377.37 1771.3,1377.37 1783.74,1375.74 1796.18,1380.63 1808.62,1381.17 1821.06,1382.26 \n  1833.5,1380.63 1845.94,1384.98 1858.38,1384.43 1870.82,1383.89 1883.26,1384.98 1895.7,1382.8 1908.14,1384.98 1920.58,1384.43 1933.03,1386.61 1945.47,1384.43 \n  1957.91,1384.98 1970.35,1386.61 1982.79,1385.52 2020.11,1386.61 2044.99,1386.06 2069.87,1386.06 2107.19,1386.61 2268.91,1386.61 2293.79,1386.61 \n  \"/>\n<path clip-path=\"url(#clip1000)\" d=\"\nM1789.21 251.724 L2280.76 251.724 L2280.76 130.764 L1789.21 130.764  Z\n  \" fill=\"#ffffff\" fill-rule=\"evenodd\" fill-opacity=\"1\"/>\n<polyline clip-path=\"url(#clip1000)\" style=\"stroke:#000000; stroke-width:4; stroke-opacity:1; fill:none\" points=\"\n  1789.21,251.724 2280.76,251.724 2280.76,130.764 1789.21,130.764 1789.21,251.724 \n  \"/>\n<polyline clip-path=\"url(#clip1000)\" style=\"stroke:#009af9; stroke-width:4; stroke-opacity:1; fill:none\" points=\"\n  1813.21,191.244 1957.21,191.244 \n  \"/>\n<g clip-path=\"url(#clip1000)\">\n<text style=\"fill:#000000; fill-opacity:1; font-family:Arial,Helvetica Neue,Helvetica,sans-serif; font-size:48px; text-anchor:start;\" transform=\"rotate(0, 1981.21, 208.744)\" x=\"1981.21\" y=\"208.744\">patient data</text>\n</g>\n</svg>\n"
               },
               "type": "node"
              }
             ],
             "instanceArgs": {
              "namespace": "html",
              "tag": "div"
             },
             "nodeType": "DOM",
             "props": {
              "className": "interact-flex-row interact-widget"
             },
             "type": "node"
            }
           }
          },
          "systemjs_options": null
         },
         "nodeType": "Scope",
         "props": {},
         "type": "node"
        }
       ],
       "instanceArgs": {
        "namespace": "html",
        "tag": "div"
       },
       "nodeType": "DOM",
       "props": {},
       "type": "node"
      },
      "text/html": [
       "<div\n",
       "    class=\"webio-mountpoint\"\n",
       "    data-webio-mountpoint=\"4209241431016082051\"\n",
       ">\n",
       "    <script>\n",
       "    if (window.require && require.defined && require.defined(\"nbextensions/webio-jupyter-notebook\")) {\n",
       "        console.log(\"Jupyter WebIO extension detected, not mounting.\");\n",
       "    } else if (window.WebIO) {\n",
       "        WebIO.mount(\n",
       "            document.querySelector('[data-webio-mountpoint=\"4209241431016082051\"]'),\n",
       "            {\"props\":{},\"nodeType\":\"DOM\",\"type\":\"node\",\"instanceArgs\":{\"namespace\":\"html\",\"tag\":\"div\"},\"children\":[{\"props\":{\"className\":\"field interact-widget\"},\"nodeType\":\"DOM\",\"type\":\"node\",\"instanceArgs\":{\"namespace\":\"html\",\"tag\":\"div\"},\"children\":[{\"props\":{},\"nodeType\":\"Scope\",\"type\":\"node\",\"instanceArgs\":{\"imports\":{\"data\":[{\"name\":\"knockout\",\"type\":\"js\",\"url\":\"\\/assetserver\\/d0eab99e36662d489b02956f8196a72a23d80e5c-knockout.js\"},{\"name\":\"knockout_punches\",\"type\":\"js\",\"url\":\"\\/assetserver\\/cbffcd1f95c27b6d43e8ac2e42b7ec7bc67143b9-knockout_punches.js\"},{\"name\":null,\"type\":\"js\",\"url\":\"\\/assetserver\\/14a01397a98df29bded2fea1faa9b4e3577fbc2b-all.js\"},{\"name\":null,\"type\":\"css\",\"url\":\"\\/assetserver\\/4431834c57fda0f2fbf2c6b7f56a99d3e4cb7e9e-style.css\"},{\"name\":null,\"type\":\"css\",\"url\":\"\\/assetserver\\/70cf1cc6b3fcf96b29e48ec4c99d29b9d7956686-bulma_confined.min.css\"}],\"type\":\"async_block\"},\"id\":\"11238547300651370226\",\"handlers\":{\"changes\":[\"(function (val){return (val!=this.model[\\\"changes\\\"]()) ? (this.valueFromJulia[\\\"changes\\\"]=true, this.model[\\\"changes\\\"](val)) : undefined})\"],\"index\":[\"(function (val){return (val!=this.model[\\\"index\\\"]()) ? (this.valueFromJulia[\\\"index\\\"]=true, this.model[\\\"index\\\"](val)) : undefined})\"]},\"systemjs_options\":null,\"mount_callbacks\":[\"function () {\\n    var handler = (function (ko, koPunches) {\\n    ko.punches.enableAll();\\n    ko.bindingHandlers.numericValue = {\\n        init: function(element, valueAccessor, allBindings, data, context) {\\n            var stringified = ko.observable(ko.unwrap(valueAccessor()));\\n            stringified.subscribe(function(value) {\\n                var val = parseFloat(value);\\n                if (!isNaN(val)) {\\n                    valueAccessor()(val);\\n                }\\n            });\\n            valueAccessor().subscribe(function(value) {\\n                var str = JSON.stringify(value);\\n                if ((str == \\\"0\\\") && ([\\\"-0\\\", \\\"-0.\\\"].indexOf(stringified()) >= 0))\\n                     return;\\n                 if ([\\\"null\\\", \\\"\\\"].indexOf(str) >= 0)\\n                     return;\\n                stringified(str);\\n            });\\n            ko.applyBindingsToNode(\\n                element,\\n                {\\n                    value: stringified,\\n                    valueUpdate: allBindings.get('valueUpdate'),\\n                },\\n                context,\\n            );\\n        }\\n    };\\n    var json_data = {\\\"formatted_vals\\\":[\\\"1\\\",\\\"2\\\",\\\"3\\\",\\\"4\\\",\\\"5\\\",\\\"6\\\",\\\"7\\\",\\\"8\\\",\\\"9\\\",\\\"10\\\",\\\"11\\\",\\\"12\\\",\\\"13\\\",\\\"14\\\",\\\"15\\\",\\\"16\\\",\\\"17\\\",\\\"18\\\",\\\"19\\\",\\\"20\\\",\\\"21\\\",\\\"22\\\",\\\"23\\\",\\\"24\\\",\\\"25\\\",\\\"26\\\",\\\"27\\\",\\\"28\\\",\\\"29\\\",\\\"30\\\",\\\"31\\\",\\\"32\\\",\\\"33\\\",\\\"34\\\",\\\"35\\\",\\\"36\\\",\\\"37\\\",\\\"38\\\",\\\"39\\\",\\\"40\\\",\\\"41\\\",\\\"42\\\",\\\"43\\\",\\\"44\\\",\\\"45\\\",\\\"46\\\",\\\"47\\\",\\\"48\\\",\\\"49\\\",\\\"50\\\"],\\\"changes\\\":WebIO.getval({\\\"name\\\":\\\"changes\\\",\\\"scope\\\":\\\"11238547300651370226\\\",\\\"id\\\":\\\"ob_41\\\",\\\"type\\\":\\\"observable\\\"}),\\\"index\\\":WebIO.getval({\\\"name\\\":\\\"index\\\",\\\"scope\\\":\\\"11238547300651370226\\\",\\\"id\\\":\\\"ob_40\\\",\\\"type\\\":\\\"observable\\\"})};\\n    var self = this;\\n    function AppViewModel() {\\n        for (var key in json_data) {\\n            var el = json_data[key];\\n            this[key] = Array.isArray(el) ? ko.observableArray(el) : ko.observable(el);\\n        }\\n        \\n        [this[\\\"formatted_val\\\"]=ko.computed(    function(){\\n        return this.formatted_vals()[parseInt(this.index())-(1)];\\n    }\\n,this)]\\n        [this[\\\"changes\\\"].subscribe((function (val){!(this.valueFromJulia[\\\"changes\\\"]) ? (WebIO.setval({\\\"name\\\":\\\"changes\\\",\\\"scope\\\":\\\"11238547300651370226\\\",\\\"id\\\":\\\"ob_41\\\",\\\"type\\\":\\\"observable\\\"},val)) : undefined; return this.valueFromJulia[\\\"changes\\\"]=false}),self),this[\\\"index\\\"].subscribe((function (val){!(this.valueFromJulia[\\\"index\\\"]) ? (WebIO.setval({\\\"name\\\":\\\"index\\\",\\\"scope\\\":\\\"11238547300651370226\\\",\\\"id\\\":\\\"ob_40\\\",\\\"type\\\":\\\"observable\\\"},val)) : undefined; return this.valueFromJulia[\\\"index\\\"]=false}),self)]\\n        \\n    }\\n    self.model = new AppViewModel();\\n    self.valueFromJulia = {};\\n    for (var key in json_data) {\\n        self.valueFromJulia[key] = false;\\n    }\\n    ko.applyBindings(self.model, self.dom);\\n}\\n);\\n    (WebIO.importBlock({\\\"data\\\":[{\\\"name\\\":\\\"knockout\\\",\\\"type\\\":\\\"js\\\",\\\"url\\\":\\\"\\/assetserver\\/d0eab99e36662d489b02956f8196a72a23d80e5c-knockout.js\\\"},{\\\"name\\\":\\\"knockout_punches\\\",\\\"type\\\":\\\"js\\\",\\\"url\\\":\\\"\\/assetserver\\/cbffcd1f95c27b6d43e8ac2e42b7ec7bc67143b9-knockout_punches.js\\\"}],\\\"type\\\":\\\"async_block\\\"})).then((imports) => handler.apply(this, imports));\\n}\\n\"],\"observables\":{\"changes\":{\"sync\":false,\"id\":\"ob_41\",\"value\":0},\"index\":{\"sync\":true,\"id\":\"ob_40\",\"value\":25}}},\"children\":[{\"props\":{\"className\":\"interact-flex-row interact-widget\"},\"nodeType\":\"DOM\",\"type\":\"node\",\"instanceArgs\":{\"namespace\":\"html\",\"tag\":\"div\"},\"children\":[{\"props\":{\"className\":\"interact-flex-row-left\"},\"nodeType\":\"DOM\",\"type\":\"node\",\"instanceArgs\":{\"namespace\":\"html\",\"tag\":\"div\"},\"children\":[{\"props\":{\"className\":\"interact \",\"style\":{\"padding\":\"5px 10px 0px 10px\"}},\"nodeType\":\"DOM\",\"type\":\"node\",\"instanceArgs\":{\"namespace\":\"html\",\"tag\":\"label\"},\"children\":[\"bins\"]}]},{\"props\":{\"className\":\"interact-flex-row-center\"},\"nodeType\":\"DOM\",\"type\":\"node\",\"instanceArgs\":{\"namespace\":\"html\",\"tag\":\"div\"},\"children\":[{\"props\":{\"max\":50,\"min\":1,\"attributes\":{\"type\":\"range\",\"data-bind\":\"numericValue: index, valueUpdate: 'input', event: {change: function (){this.changes(this.changes()+1)}}\",\"orient\":\"horizontal\"},\"step\":1,\"className\":\"slider slider is-fullwidth\",\"style\":{}},\"nodeType\":\"DOM\",\"type\":\"node\",\"instanceArgs\":{\"namespace\":\"html\",\"tag\":\"input\"},\"children\":[]}]},{\"props\":{\"className\":\"interact-flex-row-right\"},\"nodeType\":\"DOM\",\"type\":\"node\",\"instanceArgs\":{\"namespace\":\"html\",\"tag\":\"div\"},\"children\":[{\"props\":{\"attributes\":{\"data-bind\":\"text: formatted_val\"}},\"nodeType\":\"DOM\",\"type\":\"node\",\"instanceArgs\":{\"namespace\":\"html\",\"tag\":\"p\"},\"children\":[]}]}]}]}]},{\"props\":{},\"nodeType\":\"Scope\",\"type\":\"node\",\"instanceArgs\":{\"imports\":{\"data\":[],\"type\":\"async_block\"},\"id\":\"8020774568675770850\",\"handlers\":{},\"systemjs_options\":null,\"mount_callbacks\":[],\"observables\":{\"obs-node\":{\"sync\":false,\"id\":\"ob_45\",\"value\":{\"props\":{\"className\":\"interact-flex-row interact-widget\"},\"nodeType\":\"DOM\",\"type\":\"node\",\"instanceArgs\":{\"namespace\":\"html\",\"tag\":\"div\"},\"children\":[{\"props\":{\"setInnerHtml\":\"<?xml version=\\\"1.0\\\" encoding=\\\"utf-8\\\"?>\\n<svg xmlns=\\\"http:\\/\\/www.w3.org\\/2000\\/svg\\\" xmlns:xlink=\\\"http:\\/\\/www.w3.org\\/1999\\/xlink\\\" width=\\\"600\\\" height=\\\"400\\\" viewBox=\\\"0 0 2400 1600\\\">\\n<defs>\\n  <clipPath id=\\\"clip0600\\\">\\n    <rect x=\\\"0\\\" y=\\\"0\\\" width=\\\"2400\\\" height=\\\"1600\\\"\\/>\\n  <\\/clipPath>\\n<\\/defs>\\n<path clip-path=\\\"url(#clip0600)\\\" d=\\\"\\nM0 1600 L2400 1600 L2400 0 L0 0  Z\\n  \\\" fill=\\\"#ffffff\\\" fill-rule=\\\"evenodd\\\" fill-opacity=\\\"1\\\"\\/>\\n<defs>\\n  <clipPath id=\\\"clip0601\\\">\\n    <rect x=\\\"480\\\" y=\\\"0\\\" width=\\\"1681\\\" height=\\\"1600\\\"\\/>\\n  <\\/clipPath>\\n<\\/defs>\\n<path clip-path=\\\"url(#clip0600)\\\" d=\\\"\\nM269.279 1425.62 L2352.76 1425.62 L2352.76 47.2441 L269.279 47.2441  Z\\n  \\\" fill=\\\"#ffffff\\\" fill-rule=\\\"evenodd\\\" fill-opacity=\\\"1\\\"\\/>\\n<defs>\\n  <clipPath id=\\\"clip0602\\\">\\n    <rect x=\\\"269\\\" y=\\\"47\\\" width=\\\"2084\\\" height=\\\"1379\\\"\\/>\\n  <\\/clipPath>\\n<\\/defs>\\n<polyline clip-path=\\\"url(#clip0602)\\\" style=\\\"stroke:#000000; stroke-width:2; stroke-opacity:0.1; fill:none\\\" points=\\\"\\n  502.407,1425.62 502.407,47.2441 \\n  \\\"\\/>\\n<polyline clip-path=\\\"url(#clip0602)\\\" style=\\\"stroke:#000000; stroke-width:2; stroke-opacity:0.1; fill:none\\\" points=\\\"\\n  875.612,1425.62 875.612,47.2441 \\n  \\\"\\/>\\n<polyline clip-path=\\\"url(#clip0602)\\\" style=\\\"stroke:#000000; stroke-width:2; stroke-opacity:0.1; fill:none\\\" points=\\\"\\n  1248.82,1425.62 1248.82,47.2441 \\n  \\\"\\/>\\n<polyline clip-path=\\\"url(#clip0602)\\\" style=\\\"stroke:#000000; stroke-width:2; stroke-opacity:0.1; fill:none\\\" points=\\\"\\n  1622.02,1425.62 1622.02,47.2441 \\n  \\\"\\/>\\n<polyline clip-path=\\\"url(#clip0602)\\\" style=\\\"stroke:#000000; stroke-width:2; stroke-opacity:0.1; fill:none\\\" points=\\\"\\n  1995.23,1425.62 1995.23,47.2441 \\n  \\\"\\/>\\n<polyline clip-path=\\\"url(#clip0602)\\\" style=\\\"stroke:#000000; stroke-width:2; stroke-opacity:0.1; fill:none\\\" points=\\\"\\n  269.279,1387.15 2352.76,1387.15 \\n  \\\"\\/>\\n<polyline clip-path=\\\"url(#clip0602)\\\" style=\\\"stroke:#000000; stroke-width:2; stroke-opacity:0.1; fill:none\\\" points=\\\"\\n  269.279,1115.34 2352.76,1115.34 \\n  \\\"\\/>\\n<polyline clip-path=\\\"url(#clip0602)\\\" style=\\\"stroke:#000000; stroke-width:2; stroke-opacity:0.1; fill:none\\\" points=\\\"\\n  269.279,843.526 2352.76,843.526 \\n  \\\"\\/>\\n<polyline clip-path=\\\"url(#clip0602)\\\" style=\\\"stroke:#000000; stroke-width:2; stroke-opacity:0.1; fill:none\\\" points=\\\"\\n  269.279,571.713 2352.76,571.713 \\n  \\\"\\/>\\n<polyline clip-path=\\\"url(#clip0602)\\\" style=\\\"stroke:#000000; stroke-width:2; stroke-opacity:0.1; fill:none\\\" points=\\\"\\n  269.279,299.9 2352.76,299.9 \\n  \\\"\\/>\\n<polyline clip-path=\\\"url(#clip0600)\\\" style=\\\"stroke:#000000; stroke-width:4; stroke-opacity:1; fill:none\\\" points=\\\"\\n  269.279,1425.62 2352.76,1425.62 \\n  \\\"\\/>\\n<polyline clip-path=\\\"url(#clip0600)\\\" style=\\\"stroke:#000000; stroke-width:4; stroke-opacity:1; fill:none\\\" points=\\\"\\n  269.279,1425.62 269.279,47.2441 \\n  \\\"\\/>\\n<polyline clip-path=\\\"url(#clip0600)\\\" style=\\\"stroke:#000000; stroke-width:4; stroke-opacity:1; fill:none\\\" points=\\\"\\n  502.407,1425.62 502.407,1409.08 \\n  \\\"\\/>\\n<polyline clip-path=\\\"url(#clip0600)\\\" style=\\\"stroke:#000000; stroke-width:4; stroke-opacity:1; fill:none\\\" points=\\\"\\n  875.612,1425.62 875.612,1409.08 \\n  \\\"\\/>\\n<polyline clip-path=\\\"url(#clip0600)\\\" style=\\\"stroke:#000000; stroke-width:4; stroke-opacity:1; fill:none\\\" points=\\\"\\n  1248.82,1425.62 1248.82,1409.08 \\n  \\\"\\/>\\n<polyline clip-path=\\\"url(#clip0600)\\\" style=\\\"stroke:#000000; stroke-width:4; stroke-opacity:1; fill:none\\\" points=\\\"\\n  1622.02,1425.62 1622.02,1409.08 \\n  \\\"\\/>\\n<polyline clip-path=\\\"url(#clip0600)\\\" style=\\\"stroke:#000000; stroke-width:4; stroke-opacity:1; fill:none\\\" points=\\\"\\n  1995.23,1425.62 1995.23,1409.08 \\n  \\\"\\/>\\n<polyline clip-path=\\\"url(#clip0600)\\\" style=\\\"stroke:#000000; stroke-width:4; stroke-opacity:1; fill:none\\\" points=\\\"\\n  269.279,1387.15 294.28,1387.15 \\n  \\\"\\/>\\n<polyline clip-path=\\\"url(#clip0600)\\\" style=\\\"stroke:#000000; stroke-width:4; stroke-opacity:1; fill:none\\\" points=\\\"\\n  269.279,1115.34 294.28,1115.34 \\n  \\\"\\/>\\n<polyline clip-path=\\\"url(#clip0600)\\\" style=\\\"stroke:#000000; stroke-width:4; stroke-opacity:1; fill:none\\\" points=\\\"\\n  269.279,843.526 294.28,843.526 \\n  \\\"\\/>\\n<polyline clip-path=\\\"url(#clip0600)\\\" style=\\\"stroke:#000000; stroke-width:4; stroke-opacity:1; fill:none\\\" points=\\\"\\n  269.279,571.713 294.28,571.713 \\n  \\\"\\/>\\n<polyline clip-path=\\\"url(#clip0600)\\\" style=\\\"stroke:#000000; stroke-width:4; stroke-opacity:1; fill:none\\\" points=\\\"\\n  269.279,299.9 294.28,299.9 \\n  \\\"\\/>\\n<g clip-path=\\\"url(#clip0600)\\\">\\n<text style=\\\"fill:#000000; fill-opacity:1; font-family:Arial,Helvetica Neue,Helvetica,sans-serif; font-size:48px; text-anchor:middle;\\\" transform=\\\"rotate(0, 502.407, 1479.62)\\\" x=\\\"502.407\\\" y=\\\"1479.62\\\">60<\\/text>\\n<\\/g>\\n<g clip-path=\\\"url(#clip0600)\\\">\\n<text style=\\\"fill:#000000; fill-opacity:1; font-family:Arial,Helvetica Neue,Helvetica,sans-serif; font-size:48px; text-anchor:middle;\\\" transform=\\\"rotate(0, 875.612, 1479.62)\\\" x=\\\"875.612\\\" y=\\\"1479.62\\\">90<\\/text>\\n<\\/g>\\n<g clip-path=\\\"url(#clip0600)\\\">\\n<text style=\\\"fill:#000000; fill-opacity:1; font-family:Arial,Helvetica Neue,Helvetica,sans-serif; font-size:48px; text-anchor:middle;\\\" transform=\\\"rotate(0, 1248.82, 1479.62)\\\" x=\\\"1248.82\\\" y=\\\"1479.62\\\">120<\\/text>\\n<\\/g>\\n<g clip-path=\\\"url(#clip0600)\\\">\\n<text style=\\\"fill:#000000; fill-opacity:1; font-family:Arial,Helvetica Neue,Helvetica,sans-serif; font-size:48px; text-anchor:middle;\\\" transform=\\\"rotate(0, 1622.02, 1479.62)\\\" x=\\\"1622.02\\\" y=\\\"1479.62\\\">150<\\/text>\\n<\\/g>\\n<g clip-path=\\\"url(#clip0600)\\\">\\n<text style=\\\"fill:#000000; fill-opacity:1; font-family:Arial,Helvetica Neue,Helvetica,sans-serif; font-size:48px; text-anchor:middle;\\\" transform=\\\"rotate(0, 1995.23, 1479.62)\\\" x=\\\"1995.23\\\" y=\\\"1479.62\\\">180<\\/text>\\n<\\/g>\\n<g clip-path=\\\"url(#clip0600)\\\">\\n<text style=\\\"fill:#000000; fill-opacity:1; font-family:Arial,Helvetica Neue,Helvetica,sans-serif; font-size:48px; text-anchor:end;\\\" transform=\\\"rotate(0, 245.279, 1404.65)\\\" x=\\\"245.279\\\" y=\\\"1404.65\\\">0.000<\\/text>\\n<\\/g>\\n<g clip-path=\\\"url(#clip0600)\\\">\\n<text style=\\\"fill:#000000; fill-opacity:1; font-family:Arial,Helvetica Neue,Helvetica,sans-serif; font-size:48px; text-anchor:end;\\\" transform=\\\"rotate(0, 245.279, 1132.84)\\\" x=\\\"245.279\\\" y=\\\"1132.84\\\">0.005<\\/text>\\n<\\/g>\\n<g clip-path=\\\"url(#clip0600)\\\">\\n<text style=\\\"fill:#000000; fill-opacity:1; font-family:Arial,Helvetica Neue,Helvetica,sans-serif; font-size:48px; text-anchor:end;\\\" transform=\\\"rotate(0, 245.279, 861.026)\\\" x=\\\"245.279\\\" y=\\\"861.026\\\">0.010<\\/text>\\n<\\/g>\\n<g clip-path=\\\"url(#clip0600)\\\">\\n<text style=\\\"fill:#000000; fill-opacity:1; font-family:Arial,Helvetica Neue,Helvetica,sans-serif; font-size:48px; text-anchor:end;\\\" transform=\\\"rotate(0, 245.279, 589.213)\\\" x=\\\"245.279\\\" y=\\\"589.213\\\">0.015<\\/text>\\n<\\/g>\\n<g clip-path=\\\"url(#clip0600)\\\">\\n<text style=\\\"fill:#000000; fill-opacity:1; font-family:Arial,Helvetica Neue,Helvetica,sans-serif; font-size:48px; text-anchor:end;\\\" transform=\\\"rotate(0, 245.279, 317.4)\\\" x=\\\"245.279\\\" y=\\\"317.4\\\">0.020<\\/text>\\n<\\/g>\\n<g clip-path=\\\"url(#clip0600)\\\">\\n<text style=\\\"fill:#000000; fill-opacity:1; font-family:Arial,Helvetica Neue,Helvetica,sans-serif; font-size:66px; text-anchor:middle;\\\" transform=\\\"rotate(0, 1311.02, 1559.48)\\\" x=\\\"1311.02\\\" y=\\\"1559.48\\\">Days from Susceptible to Recovered<\\/text>\\n<\\/g>\\n<g clip-path=\\\"url(#clip0600)\\\">\\n<text style=\\\"fill:#000000; fill-opacity:1; font-family:Arial,Helvetica Neue,Helvetica,sans-serif; font-size:66px; text-anchor:middle;\\\" transform=\\\"rotate(-90, 89.2861, 736.431)\\\" x=\\\"89.2861\\\" y=\\\"736.431\\\">Percentage of Total<\\/text>\\n<\\/g>\\n<polyline clip-path=\\\"url(#clip0602)\\\" style=\\\"stroke:#009af9; stroke-width:4; stroke-opacity:1; fill:none\\\" points=\\\"\\n  328.245,1386.06 353.125,1386.06 365.566,1386.06 378.006,1384.43 390.446,1382.8 402.886,1380.08 415.326,1381.17 427.766,1378.45 440.206,1370.3 452.647,1366.49 \\n  465.087,1364.32 477.527,1353.45 489.967,1357.8 502.407,1336.59 514.847,1328.98 527.288,1315.39 539.728,1307.78 552.168,1286.04 564.608,1273.53 577.048,1240.92 \\n  589.488,1212.65 601.929,1219.17 614.369,1157.74 626.809,1143.61 639.249,1099.57 651.689,1032.16 664.129,1010.96 676.569,944.64 689.01,895.714 701.45,899.519 \\n  713.89,770.136 726.33,767.418 738.77,666.304 751.21,660.867 763.651,609.223 776.091,565.733 788.531,484.733 800.971,474.947 813.411,386.336 825.851,332.517 \\n  838.291,296.094 850.732,253.148 863.172,250.973 875.612,186.825 888.052,171.06 900.492,178.127 912.932,156.926 925.373,142.248 937.813,122.678 950.253,138.443 \\n  962.693,123.765 975.133,86.2547 987.573,179.215 1000.01,172.691 1012.45,142.792 1024.89,112.892 1037.33,244.993 1049.77,199.329 1062.21,286.309 1074.65,286.853 \\n  1087.09,310.229 1099.53,372.202 1111.97,396.121 1124.42,447.222 1136.86,462.987 1149.3,489.625 1161.74,546.162 1174.18,627.706 1186.62,651.626 1199.06,664.673 \\n  1211.5,676.632 1223.94,722.297 1236.38,788.076 1248.82,795.143 1261.26,837.002 1273.7,869.076 1286.14,916.915 1298.58,940.835 1311.02,981.607 1323.46,1012.05 \\n  1335.9,1029.99 1348.34,1071.3 1360.78,1081.63 1373.22,1118.6 1385.66,1121.86 1398.1,1174.59 1410.54,1172.42 1422.98,1186.55 1435.42,1203.95 1447.86,1227.33 \\n  1460.3,1246.9 1472.74,1270.82 1485.18,1274.08 1497.62,1267.01 1510.06,1293.65 1522.5,1305.61 1534.94,1300.72 1547.38,1313.76 1559.82,1317.02 1572.26,1317.57 \\n  1584.7,1334.96 1597.14,1334.42 1609.58,1350.73 1622.02,1344.21 1634.46,1356.16 1646.9,1362.14 1659.34,1365.95 1671.78,1359.97 1684.22,1365.41 1696.66,1362.14 \\n  1709.1,1371.39 1721.54,1370.84 1733.98,1373.56 1746.42,1371.39 1758.86,1377.37 1771.3,1377.37 1783.74,1375.74 1796.18,1380.63 1808.62,1381.17 1821.06,1382.26 \\n  1833.5,1380.63 1845.94,1384.98 1858.38,1384.43 1870.82,1383.89 1883.26,1384.98 1895.7,1382.8 1908.14,1384.98 1920.58,1384.43 1933.03,1386.61 1945.47,1384.43 \\n  1957.91,1384.98 1970.35,1386.61 1982.79,1385.52 2020.11,1386.61 2044.99,1386.06 2069.87,1386.06 2107.19,1386.61 2268.91,1386.61 2293.79,1386.61 \\n  \\\"\\/>\\n<path clip-path=\\\"url(#clip0600)\\\" d=\\\"\\nM1789.21 251.724 L2280.76 251.724 L2280.76 130.764 L1789.21 130.764  Z\\n  \\\" fill=\\\"#ffffff\\\" fill-rule=\\\"evenodd\\\" fill-opacity=\\\"1\\\"\\/>\\n<polyline clip-path=\\\"url(#clip0600)\\\" style=\\\"stroke:#000000; stroke-width:4; stroke-opacity:1; fill:none\\\" points=\\\"\\n  1789.21,251.724 2280.76,251.724 2280.76,130.764 1789.21,130.764 1789.21,251.724 \\n  \\\"\\/>\\n<polyline clip-path=\\\"url(#clip0600)\\\" style=\\\"stroke:#009af9; stroke-width:4; stroke-opacity:1; fill:none\\\" points=\\\"\\n  1813.21,191.244 1957.21,191.244 \\n  \\\"\\/>\\n<g clip-path=\\\"url(#clip0600)\\\">\\n<text style=\\\"fill:#000000; fill-opacity:1; font-family:Arial,Helvetica Neue,Helvetica,sans-serif; font-size:48px; text-anchor:start;\\\" transform=\\\"rotate(0, 1981.21, 208.744)\\\" x=\\\"1981.21\\\" y=\\\"208.744\\\">patient data<\\/text>\\n<\\/g>\\n<\\/svg>\\n\"},\"nodeType\":\"DOM\",\"type\":\"node\",\"instanceArgs\":{\"namespace\":\"html\",\"tag\":\"div\"},\"children\":[]}]}}}},\"children\":[{\"props\":{},\"nodeType\":\"ObservableNode\",\"type\":\"node\",\"instanceArgs\":{\"id\":\"ob_45\",\"name\":\"obs-node\"},\"children\":[]}]}]},\n",
       "            window,\n",
       "        );\n",
       "    } else {\n",
       "        document\n",
       "            .querySelector('[data-webio-mountpoint=\"4209241431016082051\"]')\n",
       "            .innerHTML = (\n",
       "                '<div style=\"padding: 1em; background-color: #f8d6da; border: 1px solid #f5c6cb\">' +\n",
       "                '<p><strong>WebIO not detected.</strong></p>' +\n",
       "                '<p>Please read ' +\n",
       "                '<a href=\"https://juliagizmos.github.io/WebIO.jl/latest/troubleshooting/not-detected/\" target=\"_blank\">the troubleshooting guide</a> ' +\n",
       "                'for more information on how to resolve this issue.</p>' +\n",
       "                '<p><a href=\"https://juliagizmos.github.io/WebIO.jl/latest/troubleshooting/not-detected/\" target=\"_blank\">https://juliagizmos.github.io/WebIO.jl/latest/troubleshooting/not-detected/</a></p>' +\n",
       "                '</div>'\n",
       "            );\n",
       "    }\n",
       "    </script>\n",
       "</div>\n"
      ],
      "text/plain": [
       "Node{WebIO.DOM}(WebIO.DOM(:html, :div), Any[Node{WebIO.DOM}(WebIO.DOM(:html, :div), Any[Scope(Node{WebIO.DOM}(WebIO.DOM(:html, :div), Any[Node{WebIO.DOM}(WebIO.DOM(:html, :div), Any[Node{WebIO.DOM}(WebIO.DOM(:html, :label), Any[\"bins\"], Dict{Symbol,Any}(:className => \"interact \",:style => Dict{Any,Any}(:padding => \"5px 10px 0px 10px\")))], Dict{Symbol,Any}(:className => \"interact-flex-row-left\")), Node{WebIO.DOM}(WebIO.DOM(:html, :div), Any[Node{WebIO.DOM}(WebIO.DOM(:html, :input), Any[], Dict{Symbol,Any}(:max => 50,:min => 1,:attributes => Dict{Any,Any}(:type => \"range\",Symbol(\"data-bind\") => \"numericValue: index, valueUpdate: 'input', event: {change: function (){this.changes(this.changes()+1)}}\",\"orient\" => \"horizontal\"),:step => 1,:className => \"slider slider is-fullwidth\",:style => Dict{Any,Any}()))], Dict{Symbol,Any}(:className => \"interact-flex-row-center\")), Node{WebIO.DOM}(WebIO.DOM(:html, :div), Any[Node{WebIO.DOM}(WebIO.DOM(:html, :p), Any[], Dict{Symbol,Any}(:attributes => Dict(\"data-bind\" => \"text: formatted_val\")))], Dict{Symbol,Any}(:className => \"interact-flex-row-right\"))], Dict{Symbol,Any}(:className => \"interact-flex-row interact-widget\")), Dict{String,Tuple{Observables.AbstractObservable,Union{Nothing, Bool}}}(\"changes\" => (Observable{Int64} with 1 listeners. Value:\n",
       "0, nothing),\"index\" => (Observable{Int64} with 2 listeners. Value:\n",
       "25, nothing)), Set(String[]), nothing, Asset[Asset(\"js\", \"knockout\", \"C:\\\\Users\\\\2000d\\\\.julia\\\\packages\\\\Knockout\\\\IP1uR\\\\src\\\\..\\\\assets\\\\knockout.js\"), Asset(\"js\", \"knockout_punches\", \"C:\\\\Users\\\\2000d\\\\.julia\\\\packages\\\\Knockout\\\\IP1uR\\\\src\\\\..\\\\assets\\\\knockout_punches.js\"), Asset(\"js\", nothing, \"C:\\\\Users\\\\2000d\\\\.julia\\\\packages\\\\InteractBase\\\\9mFwe\\\\src\\\\..\\\\assets\\\\all.js\"), Asset(\"css\", nothing, \"C:\\\\Users\\\\2000d\\\\.julia\\\\packages\\\\InteractBase\\\\9mFwe\\\\src\\\\..\\\\assets\\\\style.css\"), Asset(\"css\", nothing, \"C:\\\\Users\\\\2000d\\\\.julia\\\\packages\\\\Interact\\\\SbgIk\\\\src\\\\..\\\\assets\\\\bulma_confined.min.css\")], Dict{Any,Any}(\"changes\" => Any[WebIO.JSString(\"(function (val){return (val!=this.model[\\\"changes\\\"]()) ? (this.valueFromJulia[\\\"changes\\\"]=true, this.model[\\\"changes\\\"](val)) : undefined})\")],\"index\" => Any[WebIO.JSString(\"(function (val){return (val!=this.model[\\\"index\\\"]()) ? (this.valueFromJulia[\\\"index\\\"]=true, this.model[\\\"index\\\"](val)) : undefined})\")]), WebIO.ConnectionPool(Channel{Any}(sz_max:32,sz_curr:0), Set(AbstractConnection[]), Base.GenericCondition{Base.AlwaysLockedST}(Base.InvasiveLinkedList{Task}(Task (runnable) @0x00000000140676b0, Task (runnable) @0x00000000140676b0), Base.AlwaysLockedST(1))), WebIO.JSString[WebIO.JSString(\"function () {\\n    var handler = (function (ko, koPunches) {\\n    ko.punches.enableAll();\\n    ko.bindingHandlers.numericValue = {\\n        init: function(element, valueAccessor, allBindings, data, context) {\\n            var stringified = ko.observable(ko.unwrap(valueAccessor()));\\n            stringified.subscribe(function(value) {\\n                var val = parseFloat(value);\\n                if (!isNaN(val)) {\\n                    valueAccessor()(val);\\n                }\\n            });\\n            valueAccessor().subscribe(function(value) {\\n                var str = JSON.stringify(value);\\n                if ((str == \\\"0\\\") && ([\\\"-0\\\", \\\"-0.\\\"].indexOf(stringified()) >= 0))\\n                     return;\\n                 if ([\\\"null\\\", \\\"\\\"].indexOf(str) >= 0)\\n                     return;\\n                stringified(str);\\n            });\\n            ko.applyBindingsToNode(\\n                element,\\n                {\\n                    value: stringified,\\n                    valueUpdate: allBindings.get('valueUpdate'),\\n                },\\n                context,\\n            );\\n        }\\n    };\\n    var json_data = {\\\"formatted_vals\\\":[\\\"1\\\",\\\"2\\\",\\\"3\\\",\\\"4\\\",\\\"5\\\",\\\"6\\\",\\\"7\\\",\\\"8\\\",\\\"9\\\",\\\"10\\\",\\\"11\\\",\\\"12\\\",\\\"13\\\",\\\"14\\\",\\\"15\\\",\\\"16\\\",\\\"17\\\",\\\"18\\\",\\\"19\\\",\\\"20\\\",\\\"21\\\",\\\"22\\\",\\\"23\\\",\\\"24\\\",\\\"25\\\",\\\"26\\\",\\\"27\\\",\\\"28\\\",\\\"29\\\",\\\"30\\\",\\\"31\\\",\\\"32\\\",\\\"33\\\",\\\"34\\\",\\\"35\\\",\\\"36\\\",\\\"37\\\",\\\"38\\\",\\\"39\\\",\\\"40\\\",\\\"41\\\",\\\"42\\\",\\\"43\\\",\\\"44\\\",\\\"45\\\",\\\"46\\\",\\\"47\\\",\\\"48\\\",\\\"49\\\",\\\"50\\\"],\\\"changes\\\":WebIO.getval({\\\"name\\\":\\\"changes\\\",\\\"scope\\\":\\\"11238547300651370226\\\",\\\"id\\\":\\\"ob_41\\\",\\\"type\\\":\\\"observable\\\"}),\\\"index\\\":WebIO.getval({\\\"name\\\":\\\"index\\\",\\\"scope\\\":\\\"11238547300651370226\\\",\\\"id\\\":\\\"ob_40\\\",\\\"type\\\":\\\"observable\\\"})};\\n    var self = this;\\n    function AppViewModel() {\\n        for (var key in json_data) {\\n            var el = json_data[key];\\n            this[key] = Array.isArray(el) ? ko.observableArray(el) : ko.observable(el);\\n        }\\n        \\n        [this[\\\"formatted_val\\\"]=ko.computed(    function(){\\n        return this.formatted_vals()[parseInt(this.index())-(1)];\\n    }\\n,this)]\\n        [this[\\\"changes\\\"].subscribe((function (val){!(this.valueFromJulia[\\\"changes\\\"]) ? (WebIO.setval({\\\"name\\\":\\\"changes\\\",\\\"scope\\\":\\\"11238547300651370226\\\",\\\"id\\\":\\\"ob_41\\\",\\\"type\\\":\\\"observable\\\"},val)) : undefined; return this.valueFromJulia[\\\"changes\\\"]=false}),self),this[\\\"index\\\"].subscribe((function (val){!(this.valueFromJulia[\\\"index\\\"]) ? (WebIO.setval({\\\"name\\\":\\\"index\\\",\\\"scope\\\":\\\"11238547300651370226\\\",\\\"id\\\":\\\"ob_40\\\",\\\"type\\\":\\\"observable\\\"},val)) : undefined; return this.valueFromJulia[\\\"index\\\"]=false}),self)]\\n        \\n    }\\n    self.model = new AppViewModel();\\n    self.valueFromJulia = {};\\n    for (var key in json_data) {\\n        self.valueFromJulia[key] = false;\\n    }\\n    ko.applyBindings(self.model, self.dom);\\n}\\n);\\n    (WebIO.importBlock({\\\"data\\\":[{\\\"name\\\":\\\"knockout\\\",\\\"type\\\":\\\"js\\\",\\\"url\\\":\\\"/assetserver/d0eab99e36662d489b02956f8196a72a23d80e5c-knockout.js\\\"},{\\\"name\\\":\\\"knockout_punches\\\",\\\"type\\\":\\\"js\\\",\\\"url\\\":\\\"/assetserver/cbffcd1f95c27b6d43e8ac2e42b7ec7bc67143b9-knockout_punches.js\\\"}],\\\"type\\\":\\\"async_block\\\"})).then((imports) => handler.apply(this, imports));\\n}\\n\")])], Dict{Symbol,Any}(:className => \"field interact-widget\")), Observable{Any} with 0 listeners. Value:\n",
       "Node{WebIO.DOM}(WebIO.DOM(:html, :div), Any[Plot{Plots.GRBackend() n=1}], Dict{Symbol,Any}(:className => \"interact-flex-row interact-widget\"))], Dict{Symbol,Any}())"
      ]
     },
     "execution_count": 27,
     "metadata": {
      "application/vnd.webio.node+json": {
       "kernelId": "d17ddbf2-e313-451e-951a-0d25a4b0c678"
      }
     },
     "output_type": "execute_result"
    }
   ],
   "source": [
    "@manipulate for bins in 1:50\n",
    "    N = 100000\n",
    "    p = 0.25\n",
    "    s = bins\n",
    "    results = [total_time(p,s) for i in 1:N]\n",
    "    recov,distr = probability_distribution(results)\n",
    "    plot(recov,distr, label = \"patient data\" )\n",
    "    xlabel!(\"Days from Susceptible to Recovered\")\n",
    "    ylabel!(\"Percentage of Total\")\n",
    "end"
   ]
  },
  {
   "cell_type": "markdown",
   "metadata": {},
   "source": [
    "5. **Extra credit:** Write a simulation that runs $N$ individuals and keeps track at each step of how many people are in which state. Plot the resulting graph of the number of people in the `S`,  `I`, `E` and `R` states as a function of time."
   ]
  },
  {
   "cell_type": "code",
   "execution_count": 32,
   "metadata": {},
   "outputs": [
    {
     "data": {
      "image/svg+xml": [
       "<?xml version=\"1.0\" encoding=\"utf-8\"?>\n",
       "<svg xmlns=\"http://www.w3.org/2000/svg\" xmlns:xlink=\"http://www.w3.org/1999/xlink\" width=\"600\" height=\"400\" viewBox=\"0 0 2400 1600\">\n",
       "<defs>\n",
       "  <clipPath id=\"clip7800\">\n",
       "    <rect x=\"0\" y=\"0\" width=\"2400\" height=\"1600\"/>\n",
       "  </clipPath>\n",
       "</defs>\n",
       "<path clip-path=\"url(#clip7800)\" d=\"\n",
       "M0 1600 L2400 1600 L2400 0 L0 0  Z\n",
       "  \" fill=\"#ffffff\" fill-rule=\"evenodd\" fill-opacity=\"1\"/>\n",
       "<defs>\n",
       "  <clipPath id=\"clip7801\">\n",
       "    <rect x=\"480\" y=\"0\" width=\"1681\" height=\"1600\"/>\n",
       "  </clipPath>\n",
       "</defs>\n",
       "<path clip-path=\"url(#clip7800)\" d=\"\n",
       "M220.804 1487.47 L2352.76 1487.47 L2352.76 47.2441 L220.804 47.2441  Z\n",
       "  \" fill=\"#ffffff\" fill-rule=\"evenodd\" fill-opacity=\"1\"/>\n",
       "<defs>\n",
       "  <clipPath id=\"clip7802\">\n",
       "    <rect x=\"220\" y=\"47\" width=\"2133\" height=\"1441\"/>\n",
       "  </clipPath>\n",
       "</defs>\n",
       "<polyline clip-path=\"url(#clip7802)\" style=\"stroke:#000000; stroke-width:2; stroke-opacity:0.1; fill:none\" points=\"\n",
       "  272,1487.47 272,47.2441 \n",
       "  \"/>\n",
       "<polyline clip-path=\"url(#clip7802)\" style=\"stroke:#000000; stroke-width:2; stroke-opacity:0.1; fill:none\" points=\"\n",
       "  729.108,1487.47 729.108,47.2441 \n",
       "  \"/>\n",
       "<polyline clip-path=\"url(#clip7802)\" style=\"stroke:#000000; stroke-width:2; stroke-opacity:0.1; fill:none\" points=\"\n",
       "  1186.22,1487.47 1186.22,47.2441 \n",
       "  \"/>\n",
       "<polyline clip-path=\"url(#clip7802)\" style=\"stroke:#000000; stroke-width:2; stroke-opacity:0.1; fill:none\" points=\"\n",
       "  1643.32,1487.47 1643.32,47.2441 \n",
       "  \"/>\n",
       "<polyline clip-path=\"url(#clip7802)\" style=\"stroke:#000000; stroke-width:2; stroke-opacity:0.1; fill:none\" points=\"\n",
       "  2100.43,1487.47 2100.43,47.2441 \n",
       "  \"/>\n",
       "<polyline clip-path=\"url(#clip7802)\" style=\"stroke:#000000; stroke-width:2; stroke-opacity:0.1; fill:none\" points=\"\n",
       "  220.804,1446.71 2352.76,1446.71 \n",
       "  \"/>\n",
       "<polyline clip-path=\"url(#clip7802)\" style=\"stroke:#000000; stroke-width:2; stroke-opacity:0.1; fill:none\" points=\"\n",
       "  220.804,1107.04 2352.76,1107.04 \n",
       "  \"/>\n",
       "<polyline clip-path=\"url(#clip7802)\" style=\"stroke:#000000; stroke-width:2; stroke-opacity:0.1; fill:none\" points=\"\n",
       "  220.804,767.359 2352.76,767.359 \n",
       "  \"/>\n",
       "<polyline clip-path=\"url(#clip7802)\" style=\"stroke:#000000; stroke-width:2; stroke-opacity:0.1; fill:none\" points=\"\n",
       "  220.804,427.682 2352.76,427.682 \n",
       "  \"/>\n",
       "<polyline clip-path=\"url(#clip7802)\" style=\"stroke:#000000; stroke-width:2; stroke-opacity:0.1; fill:none\" points=\"\n",
       "  220.804,88.0053 2352.76,88.0053 \n",
       "  \"/>\n",
       "<polyline clip-path=\"url(#clip7800)\" style=\"stroke:#000000; stroke-width:4; stroke-opacity:1; fill:none\" points=\"\n",
       "  220.804,1487.47 2352.76,1487.47 \n",
       "  \"/>\n",
       "<polyline clip-path=\"url(#clip7800)\" style=\"stroke:#000000; stroke-width:4; stroke-opacity:1; fill:none\" points=\"\n",
       "  220.804,1487.47 220.804,47.2441 \n",
       "  \"/>\n",
       "<polyline clip-path=\"url(#clip7800)\" style=\"stroke:#000000; stroke-width:4; stroke-opacity:1; fill:none\" points=\"\n",
       "  272,1487.47 272,1470.19 \n",
       "  \"/>\n",
       "<polyline clip-path=\"url(#clip7800)\" style=\"stroke:#000000; stroke-width:4; stroke-opacity:1; fill:none\" points=\"\n",
       "  729.108,1487.47 729.108,1470.19 \n",
       "  \"/>\n",
       "<polyline clip-path=\"url(#clip7800)\" style=\"stroke:#000000; stroke-width:4; stroke-opacity:1; fill:none\" points=\"\n",
       "  1186.22,1487.47 1186.22,1470.19 \n",
       "  \"/>\n",
       "<polyline clip-path=\"url(#clip7800)\" style=\"stroke:#000000; stroke-width:4; stroke-opacity:1; fill:none\" points=\"\n",
       "  1643.32,1487.47 1643.32,1470.19 \n",
       "  \"/>\n",
       "<polyline clip-path=\"url(#clip7800)\" style=\"stroke:#000000; stroke-width:4; stroke-opacity:1; fill:none\" points=\"\n",
       "  2100.43,1487.47 2100.43,1470.19 \n",
       "  \"/>\n",
       "<polyline clip-path=\"url(#clip7800)\" style=\"stroke:#000000; stroke-width:4; stroke-opacity:1; fill:none\" points=\"\n",
       "  220.804,1446.71 246.387,1446.71 \n",
       "  \"/>\n",
       "<polyline clip-path=\"url(#clip7800)\" style=\"stroke:#000000; stroke-width:4; stroke-opacity:1; fill:none\" points=\"\n",
       "  220.804,1107.04 246.387,1107.04 \n",
       "  \"/>\n",
       "<polyline clip-path=\"url(#clip7800)\" style=\"stroke:#000000; stroke-width:4; stroke-opacity:1; fill:none\" points=\"\n",
       "  220.804,767.359 246.387,767.359 \n",
       "  \"/>\n",
       "<polyline clip-path=\"url(#clip7800)\" style=\"stroke:#000000; stroke-width:4; stroke-opacity:1; fill:none\" points=\"\n",
       "  220.804,427.682 246.387,427.682 \n",
       "  \"/>\n",
       "<polyline clip-path=\"url(#clip7800)\" style=\"stroke:#000000; stroke-width:4; stroke-opacity:1; fill:none\" points=\"\n",
       "  220.804,88.0053 246.387,88.0053 \n",
       "  \"/>\n",
       "<g clip-path=\"url(#clip7800)\">\n",
       "<text style=\"fill:#000000; fill-opacity:1; font-family:Arial,Helvetica Neue,Helvetica,sans-serif; font-size:48px; text-anchor:middle;\" transform=\"rotate(0, 272, 1541.47)\" x=\"272\" y=\"1541.47\">0</text>\n",
       "</g>\n",
       "<g clip-path=\"url(#clip7800)\">\n",
       "<text style=\"fill:#000000; fill-opacity:1; font-family:Arial,Helvetica Neue,Helvetica,sans-serif; font-size:48px; text-anchor:middle;\" transform=\"rotate(0, 729.108, 1541.47)\" x=\"729.108\" y=\"1541.47\">50</text>\n",
       "</g>\n",
       "<g clip-path=\"url(#clip7800)\">\n",
       "<text style=\"fill:#000000; fill-opacity:1; font-family:Arial,Helvetica Neue,Helvetica,sans-serif; font-size:48px; text-anchor:middle;\" transform=\"rotate(0, 1186.22, 1541.47)\" x=\"1186.22\" y=\"1541.47\">100</text>\n",
       "</g>\n",
       "<g clip-path=\"url(#clip7800)\">\n",
       "<text style=\"fill:#000000; fill-opacity:1; font-family:Arial,Helvetica Neue,Helvetica,sans-serif; font-size:48px; text-anchor:middle;\" transform=\"rotate(0, 1643.32, 1541.47)\" x=\"1643.32\" y=\"1541.47\">150</text>\n",
       "</g>\n",
       "<g clip-path=\"url(#clip7800)\">\n",
       "<text style=\"fill:#000000; fill-opacity:1; font-family:Arial,Helvetica Neue,Helvetica,sans-serif; font-size:48px; text-anchor:middle;\" transform=\"rotate(0, 2100.43, 1541.47)\" x=\"2100.43\" y=\"1541.47\">200</text>\n",
       "</g>\n",
       "<g clip-path=\"url(#clip7800)\">\n",
       "<text style=\"fill:#000000; fill-opacity:1; font-family:Arial,Helvetica Neue,Helvetica,sans-serif; font-size:48px; text-anchor:end;\" transform=\"rotate(0, 196.804, 1464.21)\" x=\"196.804\" y=\"1464.21\">0</text>\n",
       "</g>\n",
       "<g clip-path=\"url(#clip7800)\">\n",
       "<text style=\"fill:#000000; fill-opacity:1; font-family:Arial,Helvetica Neue,Helvetica,sans-serif; font-size:48px; text-anchor:end;\" transform=\"rotate(0, 196.804, 1124.54)\" x=\"196.804\" y=\"1124.54\">2500</text>\n",
       "</g>\n",
       "<g clip-path=\"url(#clip7800)\">\n",
       "<text style=\"fill:#000000; fill-opacity:1; font-family:Arial,Helvetica Neue,Helvetica,sans-serif; font-size:48px; text-anchor:end;\" transform=\"rotate(0, 196.804, 784.859)\" x=\"196.804\" y=\"784.859\">5000</text>\n",
       "</g>\n",
       "<g clip-path=\"url(#clip7800)\">\n",
       "<text style=\"fill:#000000; fill-opacity:1; font-family:Arial,Helvetica Neue,Helvetica,sans-serif; font-size:48px; text-anchor:end;\" transform=\"rotate(0, 196.804, 445.182)\" x=\"196.804\" y=\"445.182\">7500</text>\n",
       "</g>\n",
       "<g clip-path=\"url(#clip7800)\">\n",
       "<text style=\"fill:#000000; fill-opacity:1; font-family:Arial,Helvetica Neue,Helvetica,sans-serif; font-size:48px; text-anchor:end;\" transform=\"rotate(0, 196.804, 105.505)\" x=\"196.804\" y=\"105.505\">10000</text>\n",
       "</g>\n",
       "<polyline clip-path=\"url(#clip7802)\" style=\"stroke:#009af9; stroke-width:4; stroke-opacity:1; fill:none\" points=\"\n",
       "  281.142,88.0053 290.284,428.633 299.426,683.527 308.569,875.648 317.711,1018.58 326.853,1124.29 335.995,1204.18 345.137,1258.26 354.279,1306.36 363.422,1342.36 \n",
       "  372.564,1366.82 381.706,1388.83 390.848,1400.65 399.99,1412.88 409.132,1421.98 418.275,1428.91 427.417,1433.81 436.559,1437.75 445.701,1441.01 454.843,1442.77 \n",
       "  463.985,1443.86 473.127,1444.54 482.27,1445.35 491.412,1445.63 500.554,1446.17 509.696,1446.44 518.838,1446.44 527.98,1446.44 537.123,1446.58 546.265,1446.58 \n",
       "  555.407,1446.58 564.549,1446.58 573.691,1446.71 582.833,1446.71 591.976,1446.71 601.118,1446.71 610.26,1446.71 619.402,1446.71 628.544,1446.71 637.686,1446.71 \n",
       "  646.829,1446.71 655.971,1446.71 665.113,1446.71 674.255,1446.71 683.397,1446.71 692.539,1446.71 701.682,1446.71 710.824,1446.71 719.966,1446.71 729.108,1446.71 \n",
       "  738.25,1446.71 747.392,1446.71 756.534,1446.71 765.677,1446.71 774.819,1446.71 783.961,1446.71 793.103,1446.71 802.245,1446.71 811.387,1446.71 820.53,1446.71 \n",
       "  829.672,1446.71 838.814,1446.71 847.956,1446.71 857.098,1446.71 866.24,1446.71 875.383,1446.71 884.525,1446.71 893.667,1446.71 902.809,1446.71 911.951,1446.71 \n",
       "  921.093,1446.71 930.236,1446.71 939.378,1446.71 948.52,1446.71 957.662,1446.71 966.804,1446.71 975.946,1446.71 985.089,1446.71 994.231,1446.71 1003.37,1446.71 \n",
       "  1012.52,1446.71 1021.66,1446.71 1030.8,1446.71 1039.94,1446.71 1049.08,1446.71 1058.23,1446.71 1067.37,1446.71 1076.51,1446.71 1085.65,1446.71 1094.79,1446.71 \n",
       "  1103.94,1446.71 1113.08,1446.71 1122.22,1446.71 1131.36,1446.71 1140.51,1446.71 1149.65,1446.71 1158.79,1446.71 1167.93,1446.71 1177.07,1446.71 1186.22,1446.71 \n",
       "  1195.36,1446.71 1204.5,1446.71 1213.64,1446.71 1222.78,1446.71 1231.93,1446.71 1241.07,1446.71 1250.21,1446.71 1259.35,1446.71 1268.5,1446.71 1277.64,1446.71 \n",
       "  1286.78,1446.71 1295.92,1446.71 1305.06,1446.71 1314.21,1446.71 1323.35,1446.71 1332.49,1446.71 1341.63,1446.71 1350.77,1446.71 1359.92,1446.71 1369.06,1446.71 \n",
       "  1378.2,1446.71 1387.34,1446.71 1396.49,1446.71 1405.63,1446.71 1414.77,1446.71 1423.91,1446.71 1433.05,1446.71 1442.2,1446.71 1451.34,1446.71 1460.48,1446.71 \n",
       "  1469.62,1446.71 1478.77,1446.71 1487.91,1446.71 1497.05,1446.71 1506.19,1446.71 1515.33,1446.71 1524.48,1446.71 1533.62,1446.71 1542.76,1446.71 1551.9,1446.71 \n",
       "  1561.04,1446.71 1570.19,1446.71 1579.33,1446.71 1588.47,1446.71 1597.61,1446.71 1606.76,1446.71 1615.9,1446.71 1625.04,1446.71 1634.18,1446.71 1643.32,1446.71 \n",
       "  1652.47,1446.71 1661.61,1446.71 1670.75,1446.71 1679.89,1446.71 1689.03,1446.71 1698.18,1446.71 1707.32,1446.71 1716.46,1446.71 1725.6,1446.71 1734.75,1446.71 \n",
       "  1743.89,1446.71 1753.03,1446.71 1762.17,1446.71 1771.31,1446.71 1780.46,1446.71 1789.6,1446.71 1798.74,1446.71 1807.88,1446.71 1817.03,1446.71 1826.17,1446.71 \n",
       "  1835.31,1446.71 1844.45,1446.71 1853.59,1446.71 1862.74,1446.71 1871.88,1446.71 1881.02,1446.71 1890.16,1446.71 1899.3,1446.71 1908.45,1446.71 1917.59,1446.71 \n",
       "  1926.73,1446.71 1935.87,1446.71 1945.02,1446.71 1954.16,1446.71 1963.3,1446.71 1972.44,1446.71 1981.58,1446.71 1990.73,1446.71 1999.87,1446.71 2009.01,1446.71 \n",
       "  2018.15,1446.71 2027.29,1446.71 2036.44,1446.71 2045.58,1446.71 2054.72,1446.71 2063.86,1446.71 2073.01,1446.71 2082.15,1446.71 2091.29,1446.71 2100.43,1446.71 \n",
       "  2109.57,1446.71 2118.72,1446.71 2127.86,1446.71 2137,1446.71 2146.14,1446.71 2155.29,1446.71 2164.43,1446.71 2173.57,1446.71 2182.71,1446.71 2191.85,1446.71 \n",
       "  2201,1446.71 2210.14,1446.71 2219.28,1446.71 2228.42,1446.71 2237.56,1446.71 2246.71,1446.71 2255.85,1446.71 2264.99,1446.71 2274.13,1446.71 2283.28,1446.71 \n",
       "  2292.42,1446.71 \n",
       "  \"/>\n",
       "<polyline clip-path=\"url(#clip7802)\" style=\"stroke:#e26f46; stroke-width:4; stroke-opacity:1; fill:none\" points=\"\n",
       "  281.142,1446.71 290.284,1106.09 299.426,882.034 308.569,747.115 317.711,674.016 326.853,647.657 335.995,648.472 345.137,671.435 354.279,700.103 363.422,741 \n",
       "  372.564,786.381 381.706,827.007 390.848,876.6 399.99,920.078 409.132,960.16 418.275,1002.14 427.417,1043.45 436.559,1077.82 445.701,1111.79 454.843,1145.08 \n",
       "  463.985,1172.12 473.127,1196.58 482.27,1221.3 491.412,1243.86 500.554,1265.46 509.696,1285.71 518.838,1300.38 527.98,1316.55 537.123,1331.22 546.265,1342.64 \n",
       "  555.407,1352.96 564.549,1360.84 573.691,1367.5 582.833,1376.6 591.976,1383.81 601.118,1391.96 610.26,1397.12 619.402,1402.15 628.544,1406.09 637.686,1410.16 \n",
       "  646.829,1414.38 655.971,1417.91 665.113,1420.63 674.255,1423.34 683.397,1425.65 692.539,1427.56 701.682,1429.73 710.824,1431.63 719.966,1432.99 729.108,1434.35 \n",
       "  738.25,1435.44 747.392,1436.66 756.534,1437.47 765.677,1438.15 774.819,1438.83 783.961,1439.65 793.103,1440.87 802.245,1441.96 811.387,1442.77 820.53,1443.18 \n",
       "  829.672,1443.18 838.814,1443.59 847.956,1443.72 857.098,1444 866.24,1444.13 875.383,1444.54 884.525,1445.22 893.667,1445.22 902.809,1445.22 911.951,1445.49 \n",
       "  921.093,1445.63 930.236,1445.76 939.378,1445.76 948.52,1445.76 957.662,1445.9 966.804,1445.9 975.946,1446.03 985.089,1446.03 994.231,1446.03 1003.37,1446.31 \n",
       "  1012.52,1446.31 1021.66,1446.31 1030.8,1446.44 1039.94,1446.44 1049.08,1446.44 1058.23,1446.44 1067.37,1446.44 1076.51,1446.44 1085.65,1446.44 1094.79,1446.44 \n",
       "  1103.94,1446.44 1113.08,1446.44 1122.22,1446.44 1131.36,1446.44 1140.51,1446.44 1149.65,1446.44 1158.79,1446.58 1167.93,1446.71 1177.07,1446.71 1186.22,1446.71 \n",
       "  1195.36,1446.71 1204.5,1446.71 1213.64,1446.71 1222.78,1446.71 1231.93,1446.71 1241.07,1446.71 1250.21,1446.71 1259.35,1446.71 1268.5,1446.71 1277.64,1446.71 \n",
       "  1286.78,1446.71 1295.92,1446.71 1305.06,1446.71 1314.21,1446.71 1323.35,1446.71 1332.49,1446.71 1341.63,1446.71 1350.77,1446.71 1359.92,1446.71 1369.06,1446.71 \n",
       "  1378.2,1446.71 1387.34,1446.71 1396.49,1446.71 1405.63,1446.71 1414.77,1446.71 1423.91,1446.71 1433.05,1446.71 1442.2,1446.71 1451.34,1446.71 1460.48,1446.71 \n",
       "  1469.62,1446.71 1478.77,1446.71 1487.91,1446.71 1497.05,1446.71 1506.19,1446.71 1515.33,1446.71 1524.48,1446.71 1533.62,1446.71 1542.76,1446.71 1551.9,1446.71 \n",
       "  1561.04,1446.71 1570.19,1446.71 1579.33,1446.71 1588.47,1446.71 1597.61,1446.71 1606.76,1446.71 1615.9,1446.71 1625.04,1446.71 1634.18,1446.71 1643.32,1446.71 \n",
       "  1652.47,1446.71 1661.61,1446.71 1670.75,1446.71 1679.89,1446.71 1689.03,1446.71 1698.18,1446.71 1707.32,1446.71 1716.46,1446.71 1725.6,1446.71 1734.75,1446.71 \n",
       "  1743.89,1446.71 1753.03,1446.71 1762.17,1446.71 1771.31,1446.71 1780.46,1446.71 1789.6,1446.71 1798.74,1446.71 1807.88,1446.71 1817.03,1446.71 1826.17,1446.71 \n",
       "  1835.31,1446.71 1844.45,1446.71 1853.59,1446.71 1862.74,1446.71 1871.88,1446.71 1881.02,1446.71 1890.16,1446.71 1899.3,1446.71 1908.45,1446.71 1917.59,1446.71 \n",
       "  1926.73,1446.71 1935.87,1446.71 1945.02,1446.71 1954.16,1446.71 1963.3,1446.71 1972.44,1446.71 1981.58,1446.71 1990.73,1446.71 1999.87,1446.71 2009.01,1446.71 \n",
       "  2018.15,1446.71 2027.29,1446.71 2036.44,1446.71 2045.58,1446.71 2054.72,1446.71 2063.86,1446.71 2073.01,1446.71 2082.15,1446.71 2091.29,1446.71 2100.43,1446.71 \n",
       "  2109.57,1446.71 2118.72,1446.71 2127.86,1446.71 2137,1446.71 2146.14,1446.71 2155.29,1446.71 2164.43,1446.71 2173.57,1446.71 2182.71,1446.71 2191.85,1446.71 \n",
       "  2201,1446.71 2210.14,1446.71 2219.28,1446.71 2228.42,1446.71 2237.56,1446.71 2246.71,1446.71 2255.85,1446.71 2264.99,1446.71 2274.13,1446.71 2283.28,1446.71 \n",
       "  2292.42,1446.71 \n",
       "  \"/>\n",
       "<polyline clip-path=\"url(#clip7802)\" style=\"stroke:#3da44d; stroke-width:4; stroke-opacity:1; fill:none\" points=\"\n",
       "  281.142,1446.71 290.284,1446.71 299.426,1415.87 308.569,1360.71 317.711,1295.08 326.853,1222.53 335.995,1152.69 345.137,1090.87 354.279,1031.36 363.422,975.106 \n",
       "  372.564,929.861 381.706,892.904 390.848,861.518 399.99,833.8 409.132,816.137 418.275,799.017 427.417,784.072 436.559,777.821 445.701,769.805 454.843,766.952 \n",
       "  463.985,771.843 473.127,780.403 482.27,783.392 491.412,794.669 500.554,804.86 509.696,818.311 518.838,836.654 527.98,848.474 537.123,865.051 546.265,882.034 \n",
       "  555.407,903.094 564.549,923.203 573.691,943.448 582.833,960.839 591.976,976.193 601.118,990.867 610.26,1006.63 619.402,1025.11 628.544,1040.6 637.686,1058.8 \n",
       "  646.829,1073.75 655.971,1089.92 665.113,1104.32 674.255,1118.59 683.397,1130.41 692.539,1142.63 701.682,1154.86 710.824,1167.09 719.966,1181.22 729.108,1195.22 \n",
       "  738.25,1207.04 747.392,1217.64 756.534,1231.36 765.677,1239.92 774.819,1249.7 783.961,1258.12 793.103,1266.96 802.245,1275.52 811.387,1282.31 820.53,1290.87 \n",
       "  829.672,1298.34 838.814,1304.46 847.956,1311.66 857.098,1318.18 866.24,1323.89 875.383,1330.27 884.525,1334.48 893.667,1340.46 902.809,1346.03 911.951,1350.52 \n",
       "  921.093,1354.46 930.236,1359.08 939.378,1363.7 948.52,1368.04 957.662,1369.81 966.804,1372.39 975.946,1376.33 985.089,1379.19 994.231,1381.09 1003.37,1384.08 \n",
       "  1012.52,1386.66 1021.66,1388.97 1030.8,1389.92 1039.94,1393.04 1049.08,1396.17 1058.23,1399.02 1067.37,1401.47 1076.51,1403.23 1085.65,1404.87 1094.79,1407.72 \n",
       "  1103.94,1408.67 1113.08,1411.25 1122.22,1413.02 1131.36,1414.51 1140.51,1415.87 1149.65,1417.64 1158.79,1419.4 1167.93,1421.17 1177.07,1422.26 1186.22,1422.94 \n",
       "  1195.36,1423.75 1204.5,1424.7 1213.64,1425.93 1222.78,1426.88 1231.93,1427.69 1241.07,1429.05 1250.21,1429.59 1259.35,1430.27 1268.5,1431.5 1277.64,1432.45 \n",
       "  1286.78,1433.67 1295.92,1434.49 1305.06,1435.44 1314.21,1436.25 1323.35,1437.07 1332.49,1437.2 1341.63,1437.88 1350.77,1438.7 1359.92,1438.83 1369.06,1439.51 \n",
       "  1378.2,1439.78 1387.34,1440.06 1396.49,1440.33 1405.63,1440.46 1414.77,1440.74 1423.91,1441.28 1433.05,1441.41 1442.2,1441.41 1451.34,1441.55 1460.48,1441.96 \n",
       "  1469.62,1441.96 1478.77,1442.09 1487.91,1442.37 1497.05,1442.5 1506.19,1442.64 1515.33,1442.91 1524.48,1442.91 1533.62,1443.18 1542.76,1443.32 1551.9,1443.32 \n",
       "  1561.04,1443.45 1570.19,1443.59 1579.33,1443.72 1588.47,1444.27 1597.61,1444.27 1606.76,1444.4 1615.9,1444.4 1625.04,1444.54 1634.18,1444.54 1643.32,1444.54 \n",
       "  1652.47,1444.81 1661.61,1444.81 1670.75,1444.81 1679.89,1444.95 1689.03,1445.08 1698.18,1445.49 1707.32,1445.49 1716.46,1445.76 1725.6,1445.76 1734.75,1445.76 \n",
       "  1743.89,1445.76 1753.03,1445.76 1762.17,1445.76 1771.31,1445.76 1780.46,1445.9 1789.6,1445.9 1798.74,1445.9 1807.88,1445.9 1817.03,1446.03 1826.17,1446.03 \n",
       "  1835.31,1446.03 1844.45,1446.03 1853.59,1446.03 1862.74,1446.03 1871.88,1446.03 1881.02,1446.03 1890.16,1446.17 1899.3,1446.17 1908.45,1446.31 1917.59,1446.31 \n",
       "  1926.73,1446.31 1935.87,1446.31 1945.02,1446.31 1954.16,1446.31 1963.3,1446.31 1972.44,1446.31 1981.58,1446.31 1990.73,1446.31 1999.87,1446.31 2009.01,1446.44 \n",
       "  2018.15,1446.44 2027.29,1446.44 2036.44,1446.58 2045.58,1446.58 2054.72,1446.58 2063.86,1446.58 2073.01,1446.58 2082.15,1446.58 2091.29,1446.58 2100.43,1446.58 \n",
       "  2109.57,1446.58 2118.72,1446.58 2127.86,1446.58 2137,1446.58 2146.14,1446.58 2155.29,1446.58 2164.43,1446.58 2173.57,1446.58 2182.71,1446.58 2191.85,1446.58 \n",
       "  2201,1446.58 2210.14,1446.58 2219.28,1446.58 2228.42,1446.58 2237.56,1446.58 2246.71,1446.58 2255.85,1446.58 2264.99,1446.58 2274.13,1446.58 2283.28,1446.58 \n",
       "  2292.42,1446.71 \n",
       "  \"/>\n",
       "<polyline clip-path=\"url(#clip7802)\" style=\"stroke:#c271d2; stroke-width:4; stroke-opacity:1; fill:none\" points=\"\n",
       "  281.142,1446.71 290.284,1446.71 299.426,1446.71 308.569,1444.68 317.711,1440.46 326.853,1433.67 335.995,1422.8 345.137,1407.58 354.279,1390.33 363.422,1369.67 \n",
       "  372.564,1345.08 381.706,1319.4 390.848,1289.38 399.99,1261.39 409.132,1229.86 418.275,1198.07 427.417,1166.82 436.559,1134.75 445.701,1105.54 454.843,1073.34 \n",
       "  463.985,1040.32 473.127,1006.63 482.27,978.095 491.412,943.991 500.554,911.654 509.696,877.687 518.838,844.67 527.98,816.681 537.123,785.294 546.265,756.897 \n",
       "  555.407,725.511 564.549,697.522 573.691,670.484 582.833,643.989 591.976,621.434 601.118,598.608 610.26,577.684 619.402,554.178 628.544,534.749 637.686,512.466 \n",
       "  646.829,493.308 655.971,473.607 665.113,456.487 674.255,439.503 683.397,425.373 692.539,411.242 701.682,396.84 710.824,382.709 719.966,367.22 729.108,351.866 \n",
       "  738.25,338.959 747.392,327.138 756.534,312.6 765.677,303.361 774.819,292.899 783.961,283.659 793.103,273.605 802.245,263.958 811.387,256.349 820.53,247.382 \n",
       "  829.672,239.909 838.814,233.387 847.956,226.05 857.098,219.257 866.24,213.414 875.383,206.621 884.525,201.729 893.667,195.751 902.809,190.18 911.951,185.425 \n",
       "  921.093,181.349 930.236,176.593 939.378,171.974 948.52,167.626 957.662,165.723 966.804,163.142 975.946,159.066 985.089,156.212 994.231,154.31 1003.37,151.049 \n",
       "  1012.52,148.468 1021.66,146.158 1030.8,145.071 1039.94,141.946 1049.08,138.821 1058.23,135.968 1067.37,133.522 1076.51,131.756 1085.65,130.125 1094.79,127.272 \n",
       "  1103.94,126.321 1113.08,123.739 1122.22,121.973 1131.36,120.478 1140.51,119.12 1149.65,117.353 1158.79,115.451 1167.93,113.549 1177.07,112.462 1186.22,111.783 \n",
       "  1195.36,110.968 1204.5,110.016 1213.64,108.794 1222.78,107.842 1231.93,107.027 1241.07,105.669 1250.21,105.125 1259.35,104.446 1268.5,103.223 1277.64,102.272 \n",
       "  1286.78,101.049 1295.92,100.234 1305.06,99.2826 1314.21,98.4674 1323.35,97.6522 1332.49,97.5163 1341.63,96.8369 1350.77,96.0217 1359.92,95.8858 1369.06,95.2065 \n",
       "  1378.2,94.9348 1387.34,94.663 1396.49,94.3913 1405.63,94.2554 1414.77,93.9837 1423.91,93.4402 1433.05,93.3043 1442.2,93.3043 1451.34,93.1684 1460.48,92.7608 \n",
       "  1469.62,92.7608 1478.77,92.6249 1487.91,92.3532 1497.05,92.2173 1506.19,92.0815 1515.33,91.8097 1524.48,91.8097 1533.62,91.538 1542.76,91.4021 1551.9,91.4021 \n",
       "  1561.04,91.2662 1570.19,91.1304 1579.33,90.9945 1588.47,90.451 1597.61,90.451 1606.76,90.3151 1615.9,90.3151 1625.04,90.1793 1634.18,90.1793 1643.32,90.1793 \n",
       "  1652.47,89.9075 1661.61,89.9075 1670.75,89.9075 1679.89,89.7717 1689.03,89.6358 1698.18,89.2282 1707.32,89.2282 1716.46,88.9564 1725.6,88.9564 1734.75,88.9564 \n",
       "  1743.89,88.9564 1753.03,88.9564 1762.17,88.9564 1771.31,88.9564 1780.46,88.8206 1789.6,88.8206 1798.74,88.8206 1807.88,88.8206 1817.03,88.6847 1826.17,88.6847 \n",
       "  1835.31,88.6847 1844.45,88.6847 1853.59,88.6847 1862.74,88.6847 1871.88,88.6847 1881.02,88.6847 1890.16,88.5488 1899.3,88.5488 1908.45,88.413 1917.59,88.413 \n",
       "  1926.73,88.413 1935.87,88.413 1945.02,88.413 1954.16,88.413 1963.3,88.413 1972.44,88.413 1981.58,88.413 1990.73,88.413 1999.87,88.413 2009.01,88.2771 \n",
       "  2018.15,88.2771 2027.29,88.2771 2036.44,88.1412 2045.58,88.1412 2054.72,88.1412 2063.86,88.1412 2073.01,88.1412 2082.15,88.1412 2091.29,88.1412 2100.43,88.1412 \n",
       "  2109.57,88.1412 2118.72,88.1412 2127.86,88.1412 2137,88.1412 2146.14,88.1412 2155.29,88.1412 2164.43,88.1412 2173.57,88.1412 2182.71,88.1412 2191.85,88.1412 \n",
       "  2201,88.1412 2210.14,88.1412 2219.28,88.1412 2228.42,88.1412 2237.56,88.1412 2246.71,88.1412 2255.85,88.1412 2264.99,88.1412 2274.13,88.1412 2283.28,88.1412 \n",
       "  2292.42,88.0053 \n",
       "  \"/>\n",
       "<path clip-path=\"url(#clip7800)\" d=\"\n",
       "M1799.99 433.164 L2280.76 433.164 L2280.76 130.764 L1799.99 130.764  Z\n",
       "  \" fill=\"#ffffff\" fill-rule=\"evenodd\" fill-opacity=\"1\"/>\n",
       "<polyline clip-path=\"url(#clip7800)\" style=\"stroke:#000000; stroke-width:4; stroke-opacity:1; fill:none\" points=\"\n",
       "  1799.99,433.164 2280.76,433.164 2280.76,130.764 1799.99,130.764 1799.99,433.164 \n",
       "  \"/>\n",
       "<polyline clip-path=\"url(#clip7800)\" style=\"stroke:#009af9; stroke-width:4; stroke-opacity:1; fill:none\" points=\"\n",
       "  1823.99,191.244 1967.99,191.244 \n",
       "  \"/>\n",
       "<g clip-path=\"url(#clip7800)\">\n",
       "<text style=\"fill:#000000; fill-opacity:1; font-family:Arial,Helvetica Neue,Helvetica,sans-serif; font-size:48px; text-anchor:start;\" transform=\"rotate(0, 1991.99, 208.744)\" x=\"1991.99\" y=\"208.744\">susceptible</text>\n",
       "</g>\n",
       "<polyline clip-path=\"url(#clip7800)\" style=\"stroke:#e26f46; stroke-width:4; stroke-opacity:1; fill:none\" points=\"\n",
       "  1823.99,251.724 1967.99,251.724 \n",
       "  \"/>\n",
       "<g clip-path=\"url(#clip7800)\">\n",
       "<text style=\"fill:#000000; fill-opacity:1; font-family:Arial,Helvetica Neue,Helvetica,sans-serif; font-size:48px; text-anchor:start;\" transform=\"rotate(0, 1991.99, 269.224)\" x=\"1991.99\" y=\"269.224\">exposed</text>\n",
       "</g>\n",
       "<polyline clip-path=\"url(#clip7800)\" style=\"stroke:#3da44d; stroke-width:4; stroke-opacity:1; fill:none\" points=\"\n",
       "  1823.99,312.204 1967.99,312.204 \n",
       "  \"/>\n",
       "<g clip-path=\"url(#clip7800)\">\n",
       "<text style=\"fill:#000000; fill-opacity:1; font-family:Arial,Helvetica Neue,Helvetica,sans-serif; font-size:48px; text-anchor:start;\" transform=\"rotate(0, 1991.99, 329.704)\" x=\"1991.99\" y=\"329.704\">infected</text>\n",
       "</g>\n",
       "<polyline clip-path=\"url(#clip7800)\" style=\"stroke:#c271d2; stroke-width:4; stroke-opacity:1; fill:none\" points=\"\n",
       "  1823.99,372.684 1967.99,372.684 \n",
       "  \"/>\n",
       "<g clip-path=\"url(#clip7800)\">\n",
       "<text style=\"fill:#000000; fill-opacity:1; font-family:Arial,Helvetica Neue,Helvetica,sans-serif; font-size:48px; text-anchor:start;\" transform=\"rotate(0, 1991.99, 390.184)\" x=\"1991.99\" y=\"390.184\">recovered</text>\n",
       "</g>\n",
       "</svg>\n"
      ]
     },
     "execution_count": 32,
     "metadata": {},
     "output_type": "execute_result"
    }
   ],
   "source": [
    "N = 10000\n",
    "p_E = 0.25\n",
    "p_I = 0.1 \n",
    "p_R = 0.05\n",
    "longitudinal_S = [N]\n",
    "longitudinal_E = [0]\n",
    "longitudinal_I = [0]\n",
    "longitudinal_R = [0]\n",
    "S = N\n",
    "E = 0\n",
    "I = 0\n",
    "R = 0\n",
    "while R < N\n",
    "    susceptible_to_exposed = count([bernoulli(p_E) for i in 1:S])\n",
    "    exposed_to_infected = count([bernoulli(p_I) for i in 1:E])\n",
    "    infected_to_recovered = count([bernoulli(p_R) for i in 1:I])\n",
    "    S -= susceptible_to_exposed\n",
    "    E += susceptible_to_exposed\n",
    "    E -= exposed_to_infected\n",
    "    I += exposed_to_infected\n",
    "    I -= infected_to_recovered\n",
    "    R += infected_to_recovered\n",
    "    push!(longitudinal_S, S)\n",
    "    push!(longitudinal_E, E)\n",
    "    push!(longitudinal_I, I)\n",
    "    push!(longitudinal_R, R)\n",
    "end\n",
    "plot(longitudinal_S, label = \"susceptible\")\n",
    "plot!(longitudinal_E, label = \"exposed\")\n",
    "plot!(longitudinal_I, label = \"infected\")\n",
    "plot!(longitudinal_R, label = \"recovered\")"
   ]
  },
  {
   "cell_type": "markdown",
   "metadata": {},
   "source": [
    "### Exercise 5: Helping with transcripts\n",
    "\n",
    "Correct another 10 + 20 lines of the transcripts (see problem set 1 for details) and report which ones you did."
   ]
  },
  {
   "cell_type": "markdown",
   "metadata": {},
   "source": [
    "Lecture 4, Lines 511-520"
   ]
  }
 ],
 "metadata": {
  "@webio": {
   "lastCommId": "ae8c5094c75d4be9b3a9dc0f0a59df3c",
   "lastKernelId": "d17ddbf2-e313-451e-951a-0d25a4b0c678"
  },
  "kernelspec": {
   "display_name": "Julia 1.4.0",
   "language": "julia",
   "name": "julia-1.4"
  },
  "language_info": {
   "file_extension": ".jl",
   "mimetype": "application/julia",
   "name": "julia",
   "version": "1.4.0"
  }
 },
 "nbformat": 4,
 "nbformat_minor": 2
}
