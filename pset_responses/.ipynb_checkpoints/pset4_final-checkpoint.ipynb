{
 "cells": [
  {
   "cell_type": "markdown",
   "metadata": {},
   "source": [
    "# 6.S083 / 18.S190 Spring 2020: Problem set 4\n",
    "\n",
    "Submission deadline: Tuesday April 28, 2020 at 11:59pm.\n",
    "\n",
    "\n",
    "In this problem set, we will look at the simplest epidemic model in which\n",
    "we take **space** into account.\n",
    "\n",
    "The simplest way to do this is to use **discrete space**: each agent lives\n",
    "in a cell of a square grid. For simplicity in the coding we will not allow more\n",
    "than one agent in any one grid cell, but this means that we need to carefully\n",
    "design the rules of the model to respect this.\n",
    "\n",
    "The effect of space is thus to *restrict* the set of other agents with which\n",
    "a given agent can interact at any one time. (Compare the previous Problem Set,\n",
    "in which any agent could interact with any other.)\n",
    "\n",
    "\n",
    "## Exercise 1: Moving in 2D\n",
    "\n",
    "In this exercise we will implement a random walk on a 2D lattice (grid).\n",
    "\n",
    "1. Define an abstract type `AbstractWalker`."
   ]
  },
  {
   "cell_type": "code",
   "execution_count": null,
   "metadata": {},
   "outputs": [],
   "source": [
    "abstract type AbstractWalker end"
   ]
  },
  {
   "cell_type": "markdown",
   "metadata": {},
   "source": [
    "2. Define an abstract type `Abstract2DWalker` that is a subtype of `AbstractWalker` (using  `<:`)."
   ]
  },
  {
   "cell_type": "code",
   "execution_count": null,
   "metadata": {},
   "outputs": [],
   "source": [
    "abstract type Abstract2DWalker <: AbstractWalker end"
   ]
  },
  {
   "cell_type": "markdown",
   "metadata": {},
   "source": [
    "3. Define an immutable type `Location` that contains integers `x` and `y`."
   ]
  },
  {
   "cell_type": "code",
   "execution_count": null,
   "metadata": {},
   "outputs": [],
   "source": [
    "struct Location\n",
    "    x::Int64\n",
    "    y::Int64\n",
    "end"
   ]
  },
  {
   "cell_type": "code",
   "execution_count": null,
   "metadata": {},
   "outputs": [],
   "source": [
    "Location((a,b)) = Location(a,b)\n",
    "Location(x::Tuple{Int64,Int64}) = Location(x[1],x[2])"
   ]
  },
  {
   "cell_type": "markdown",
   "metadata": {},
   "source": [
    "4. Define a `Walker2D` type that is a subtype of `AbstractWalker2D`. It should contain a field `position` that is a `Location` object."
   ]
  },
  {
   "cell_type": "code",
   "execution_count": null,
   "metadata": {},
   "outputs": [],
   "source": [
    "mutable struct Walker2D <: Abstract2DWalker\n",
    "    position::Location\n",
    "end"
   ]
  },
  {
   "cell_type": "markdown",
   "metadata": {},
   "source": [
    "5. Check that Julia automatically provides a constructor function `Walker2D(position)` that accepts an object of type `Location`.\n",
    "\n",
    "    Construct a `Walker` located at the origin."
   ]
  },
  {
   "cell_type": "code",
   "execution_count": null,
   "metadata": {},
   "outputs": [],
   "source": [
    "w = Walker2D(Location(0,0))"
   ]
  },
  {
   "cell_type": "markdown",
   "metadata": {},
   "source": [
    "6. Write a new method of the constructor for `Walker2D` that accepts two integers, $x$ and $y$, i.e. `Walker2D(x, y)`."
   ]
  },
  {
   "cell_type": "code",
   "execution_count": null,
   "metadata": {},
   "outputs": [],
   "source": [
    "Walker2D(x::Int64,y::Int64) = Walker2D(Location(x,y))"
   ]
  },
  {
   "cell_type": "markdown",
   "metadata": {},
   "source": [
    "7. Write a function `make_tuple` that takes an object of type `Location` and returns the corresponding tuple\n",
    "`(x, y)`."
   ]
  },
  {
   "cell_type": "code",
   "execution_count": null,
   "metadata": {},
   "outputs": [],
   "source": [
    "make_tuple(l::Location) = (l.x,l.y)"
   ]
  },
  {
   "cell_type": "markdown",
   "metadata": {},
   "source": [
    "In the following questions, the functions should take an object of type `AbstractWalker2D`\n",
    "(or you can just leave them untyped).\n",
    "\n",
    "8. Write a getter function `pos` that returns the position as a `Location` object."
   ]
  },
  {
   "cell_type": "code",
   "execution_count": null,
   "metadata": {},
   "outputs": [],
   "source": [
    "pos(w::Abstract2DWalker) = w.position"
   ]
  },
  {
   "cell_type": "markdown",
   "metadata": {},
   "source": [
    "9. Write a setter function `set_pos!` that sets the position to a given location `l`."
   ]
  },
  {
   "cell_type": "code",
   "execution_count": null,
   "metadata": {},
   "outputs": [],
   "source": [
    "function set_pos!(w::Abstract2DWalker, l::Location)\n",
    "    w.position = l\n",
    "end\n",
    "function set_pos!(w::Abstract2DWalker, l::Tuple{Int64,Int64})\n",
    "    w.position = Location(l)\n",
    "end"
   ]
  },
  {
   "cell_type": "markdown",
   "metadata": {},
   "source": [
    "10. Write a function `jump` that returns a possible new position for a walker after a 2D jump\n",
    "as a `Location` object. This function should *not* modify its argument,\n",
    "and hence does not have a `!` in its name.\n",
    "\n",
    "    Jumps are equally likely in the directions right, up, left and down.\n",
    "\n",
    "    A nice way to implement this is to make a tuple `neighbours` of possible\n",
    "    destinations."
   ]
  },
  {
   "cell_type": "code",
   "execution_count": null,
   "metadata": {},
   "outputs": [],
   "source": [
    "function jump(w::Abstract2DWalker)\n",
    "    loc = make_tuple(pos(w))\n",
    "    move = rand(   ((0,1),(0,-1),(1,0),(-1,0))  )\n",
    "    new_loc = loc .+ move\n",
    "    return Location(new_loc)\n",
    "end"
   ]
  },
  {
   "cell_type": "markdown",
   "metadata": {},
   "source": [
    "11. Write a function `jump!` that moves a walker to a new position. What arguments does the function need? Use your `jump` function to write `jump!`."
   ]
  },
  {
   "cell_type": "code",
   "execution_count": null,
   "metadata": {},
   "outputs": [],
   "source": [
    "function jump!(w::Abstract2DWalker)\n",
    "    new_loc = jump(w)\n",
    "    set_pos!(w, new_loc)\n",
    "end"
   ]
  },
  {
   "cell_type": "markdown",
   "metadata": {},
   "source": [
    "12. Write a function `trajectory` that calculates a trajectory of a 2D walker of length $N$."
   ]
  },
  {
   "cell_type": "code",
   "execution_count": null,
   "metadata": {},
   "outputs": [],
   "source": [
    "function trajectory(w::Abstract2DWalker, N::Int64)\n",
    "    traj = Tuple{Int64,Int64}[]\n",
    "    for i in 1:N\n",
    "        jump!(w)\n",
    "        push!(traj,make_tuple(pos(w)))\n",
    "    end\n",
    "    return traj\n",
    "end"
   ]
  },
  {
   "cell_type": "markdown",
   "metadata": {},
   "source": [
    "13. Plot 10 trajectories of length 10,000 on a single figure, all starting at the origin.\n",
    "\n",
    "    Note that `Plots.jl` can accept a `Vector` of `Tuple`s, i.e. $(x, y)$ pairs, as the coordinates to plot."
   ]
  },
  {
   "cell_type": "code",
   "execution_count": null,
   "metadata": {},
   "outputs": [],
   "source": [
    "using Plots\n",
    "plot(leg = false)\n",
    "N = 10000\n",
    "num_traj = 10\n",
    "for i in 1:num_traj\n",
    "    data = trajectory(Walker2D(0,0), N)\n",
    "    plot!(data, color = i)\n",
    "    scatter!(data[end], color = i)\n",
    "end\n",
    "vline!([0], label = \"\")\n",
    "hline!([0],  label = \"\")"
   ]
  },
  {
   "cell_type": "markdown",
   "metadata": {},
   "source": [
    "## Exercise 2: Making agents move\n",
    "\n",
    "In this exercise we will combine our `Agent` type from Problem Set 3 with the 2D random walker that we just created, by adding a position to the `Agent` type.\n",
    "\n",
    "1. Define a mutable type `Agent` that is a subtype of `AbstractWalker2D` from Exercise 1, since it will behave like a random walker and lives in 2D.\n",
    "\n",
    "    `Agent` should contain a `position` of type `Location`, as well as a `state` of type `InfectionStatus`.\n",
    "\n",
    "    (For simplicity we will not require a `num_infected` field, but feel free to do so if you would like.)\n"
   ]
  },
  {
   "cell_type": "code",
   "execution_count": null,
   "metadata": {},
   "outputs": [],
   "source": [
    "@enum InfectionStatus S I R\n",
    "mutable struct Agent <: Abstract2DWalker\n",
    "    position::Location\n",
    "    state::InfectionStatus\n",
    "    num_infected::Int64\n",
    "end\n",
    "Agent(start::Tuple{Int64,Int64}) = Agent(Location(start), S, 0)\n",
    "Agent(x::Int64,y::Int64) = Agent(Location(x,y), S, 0)"
   ]
  },
  {
   "cell_type": "markdown",
   "metadata": {},
   "source": [
    "2. Agents live in a box of side length `L`, centered at the origin. We need to decide (i.e. model) what happens when they reach the walls of the box (boundaries), i.e. what kind of **boundary conditions** to use.\n",
    "\n",
    "    One type of boundary condition that is relatively simple to implement are **reflecting boundary conditions**, as follows:\n",
    "\n",
    "    Each side of the box is a reflective mirror. We can model this using \"bounce-back\": if the particle tries to jump beyond one of the boundaries, it hits a springy wall and bounces back to the *same* position that it started from. That is, it **proposes** to take a step, but \"realises\" that it is blocked in that direction, so just stays where it is instead for that step.\n",
    "\n",
    "\n",
    "    Use the `jump` function from before (that proposes a new position) inside a new\n",
    "    method of the `jump` function for an `Agent` that also accepts a size `L`\n",
    "    and implements reflecting boundary conditions.\n",
    "    It returns a `Location` object representing the new position (inside the grid)."
   ]
  },
  {
   "cell_type": "code",
   "execution_count": null,
   "metadata": {},
   "outputs": [],
   "source": [
    "function jump(w::Abstract2DWalker, L::Int64)\n",
    "    new_loc = make_tuple(jump(w))\n",
    "    if (L/2 < abs(new_loc[1]) || L/2 < abs(new_loc[2]))\n",
    "        return pos(w)\n",
    "    else\n",
    "        return Location(new_loc)\n",
    "    end\n",
    "end"
   ]
  },
  {
   "cell_type": "code",
   "execution_count": null,
   "metadata": {},
   "outputs": [],
   "source": [
    "function jump!(w::Agent, L::Int64)\n",
    "    new_loc = jump(w, L) #of type location\n",
    "    set_pos!(w, new_loc)\n",
    "end"
   ]
  },
  {
   "cell_type": "code",
   "execution_count": null,
   "metadata": {},
   "outputs": [],
   "source": [
    "function trajectory(w::Agent, N::Int64, L::Int64)\n",
    "    traj = Tuple{Int64,Int64}[]\n",
    "    for i in 1:N\n",
    "        jump!(w,L)        \n",
    "        push!(traj,make_tuple(pos(w)))\n",
    "    end\n",
    "    \n",
    "    return traj\n",
    "end"
   ]
  },
  {
   "cell_type": "markdown",
   "metadata": {},
   "source": [
    "3. Check that this is working by drawing a trajectory of an `Agent` inside a square box of side length 20,\n",
    "using your function `trajectory` from Exercise 1.\n",
    "\n",
    "    You should draw the boundaries of the box and also a trajectory that is sufficiently long to see what happens at the boundary, but not so long that it fills up the box."
   ]
  },
  {
   "cell_type": "code",
   "execution_count": null,
   "metadata": {},
   "outputs": [],
   "source": [
    "using Plots\n",
    "N = 1000\n",
    "L = 20\n",
    "num_traj = 1\n",
    "\n",
    "for i in 1:num_traj    \n",
    "    data = trajectory(Agent(0,0), N, L)\n",
    "    plot(data, color = i, leg = false)\n",
    "    scatter!(data[end], color = i)\n",
    "end\n",
    "vline!([-L/2,L/2])\n",
    "hline!([-L/2,L/2])"
   ]
  },
  {
   "cell_type": "markdown",
   "metadata": {},
   "source": [
    "### Exercise 3: Spatial epidemic model  -- Initialization and visualization\n",
    "\n",
    "We now have all of the technology in place to simulate an agent-based model in space!\n",
    "\n",
    "For simplicity we will impose in the model that there is at most one agent on each site at all times, modelling the fact that two people cannot be in the same place as each other.\n",
    "\n",
    "We thus begin by creating an initial condition for $N$ agents that satisfies this. Later we must make sure that the dynamics also respects this.\n",
    "\n",
    "1. Write a function `initialize` that takes parameters $L$, the side length of the square box where the agents live, and $N$, the number of agents.\n",
    "\n",
    "    It should build, one by one, a collection of agents, by proposing a position for each one and checking if that position is occupied. If the position is occupied, it should generate another one, and so on until it finds a free spot.\n",
    "\n",
    "    You may create additional functions to help with this if you find it useful to do so.\n",
    "\n",
    "    The agents should all have initial status `S`, except for one of them, e.g. the first in the list, which has initial status `I` -- i.e. it is the only source of infection.\n",
    "\n",
    "    It should return the `Vector` of `Agent`s."
   ]
  },
  {
   "cell_type": "code",
   "execution_count": null,
   "metadata": {},
   "outputs": [],
   "source": [
    "function initialize(N::Int64, L::Int64)\n",
    "    all_possible = Set(Tuple{Int64,Int64}[])\n",
    "    for x in -L/2:L/2\n",
    "        for y in -L/2:L/2\n",
    "            push!(all_possible, (x,y))\n",
    "        end\n",
    "    end\n",
    "    agents = Agent[]\n",
    "    for i in 1:N\n",
    "        ind = rand(all_possible)\n",
    "        push!(agents, Agent(ind))\n",
    "        delete!(all_possible, ind)\n",
    "    end\n",
    "    agents[rand(1:length(agents))].state = I\n",
    "    return agents\n",
    "end"
   ]
  },
  {
   "cell_type": "markdown",
   "metadata": {},
   "source": [
    "2. Run your initialization function for $L=10$ and $N=20$."
   ]
  },
  {
   "cell_type": "code",
   "execution_count": null,
   "metadata": {},
   "outputs": [],
   "source": [
    "L = 10\n",
    "N = 20\n",
    "initialize(N, L);"
   ]
  },
  {
   "cell_type": "markdown",
   "metadata": {},
   "source": [
    "3. Write a function `visualize_agents` that takes in a collection of agents as argument. It should plot a point for each agent, coloured according to its status.\n",
    "\n",
    "    You can use the keyword argument `c=cs` inside your call to the plotting function to set the colours of points to a vector of integers called `cs`. Don't forget to use `ratio=1`."
   ]
  },
  {
   "cell_type": "code",
   "execution_count": null,
   "metadata": {},
   "outputs": [],
   "source": [
    "function visualize_agents(v::Vector{Agent})\n",
    "    color_dict = Dict([(S, :blue), (I, :red), (R, :green)])\n",
    "    p = plot(leg = false, aspect_ratio =:equal)\n",
    "    for agent in v\n",
    "        scatter!(make_tuple(agent.position),  c = d[agent.state])\n",
    "    end\n",
    "    return p\n",
    "end"
   ]
  },
  {
   "cell_type": "markdown",
   "metadata": {},
   "source": [
    "4. Run the function to visualize the initial condition you created."
   ]
  },
  {
   "cell_type": "code",
   "execution_count": null,
   "metadata": {},
   "outputs": [],
   "source": [
    "visualize_agents(initialize(N, L))\n",
    "vline!([-5,5], c = \"black\")\n",
    "hline!([-5,5], c = \"black\")"
   ]
  },
  {
   "cell_type": "markdown",
   "metadata": {},
   "source": [
    "### Exercise 4: Spatial epidemic model -- Dynamics\n",
    "\n",
    "1. Write a function `step!` that does one step of the dynamics of the model.\n",
    "It takes as parameters $L$, $p_I$ and $p_R$.\n",
    "This combines what we did in the last Problem Set with the 2D random walker above.\n",
    "\n",
    "    The rules are as follows:\n",
    "\n",
    "    - A single agent is chosen at random; call it agent $i$.\n",
    "\n",
    "    - A new position is proposed for that agent.\n",
    "\n",
    "    - If that new position is not occupied, the agent moves there.\n",
    "\n",
    "    - If the new position *is* occupied, by agent $j$, then *neither* of them move, but they interact\n",
    "    via the following rule:\n",
    "\n",
    "    - If agent $i$ is infected and agent $j$ is susceptible then agent $j$ becomes infected with probability $p_I$.\n",
    "\n",
    "    - If  agent $i$ is infected, it recovers with probability $p_R$."
   ]
  },
  {
   "cell_type": "code",
   "execution_count": null,
   "metadata": {},
   "outputs": [],
   "source": [
    "function step!(vec::Vector{Agent}, L::Int64, pI::Float64, pR::Float64)\n",
    "    d = Dict(make_tuple(pos(v)) => v for v in vec) #keys are position tups, vals are agents\n",
    "    cur = vec[rand(1:length(vec))] #andomly select a dude to be in question\n",
    "    old_loc = make_tuple(pos(cur))\n",
    "    jump!(cur, L)\n",
    "    new_loc = make_tuple(pos(cur)) #will return as a tuple\n",
    "    #try to infect\n",
    "    if new_loc != old_loc && haskey(d,new_loc)\n",
    "        interact = d[new_loc]\n",
    "        set_pos!(cur, Location(old_loc)) #return to old location if he crashed with someone \n",
    "        if rand() < pI && interact.state == S && cur.state == I\n",
    "            interact.state = I\n",
    "            cur.num_infected += 1\n",
    "        end\n",
    "    end\n",
    "    #try to cure\n",
    "    if cur.state == I && rand()<pR\n",
    "        cur.state = R\n",
    "    end\n",
    "end    "
   ]
  },
  {
   "cell_type": "markdown",
   "metadata": {},
   "source": [
    "2. Make a small system and run the `step!` function a few times to check (by eye) that it's doing the right thing."
   ]
  },
  {
   "cell_type": "code",
   "execution_count": null,
   "metadata": {},
   "outputs": [],
   "source": [
    "N = 20\n",
    "L = 4\n",
    "vec = initialize(N, L)\n",
    "p = visualize_agents(vec)\n",
    "vline!([-L/2,L/2])\n",
    "hline!([-L/2,L/2])"
   ]
  },
  {
   "cell_type": "code",
   "execution_count": null,
   "metadata": {},
   "outputs": [],
   "source": [
    "using Interact\n",
    "pI = 1.0\n",
    "pR = 0.05\n",
    "hist = Array{Agent,1}[]\n",
    "for i in 1:100\n",
    "    step!(vec, L, pI, pR)\n",
    "    push!(hist,vec)\n",
    "end\n",
    "@manipulate for i in 1:length(hist)\n",
    "    p = visualize_agents(hist[i])\n",
    "    vline!([-L/2,L/2], c = \"black\")\n",
    "    hline!([-L/2,L/2], c = \"black\")\n",
    "end"
   ]
  },
  {
   "cell_type": "markdown",
   "metadata": {},
   "source": [
    "3. Make an interactive visualization to display the agents after each step, to again check visually that the implementation is correct."
   ]
  },
  {
   "cell_type": "code",
   "execution_count": null,
   "metadata": {},
   "outputs": [],
   "source": [
    "using Interact\n",
    "pI = 1.0\n",
    "pR = 0.05\n",
    "\n",
    "@manipulate for i in 1:100\n",
    "    step!(vec, L, pI, pR)\n",
    "    p = visualize_agents(vec)\n",
    "    vline!([-L/2,L/2])\n",
    "    hline!([-L/2,L/2])\n",
    "end"
   ]
  },
  {
   "cell_type": "markdown",
   "metadata": {},
   "source": [
    "4. Write a function `sweep!` that takes the relevant parameters and performs one sweep, i.e. $N$ steps."
   ]
  },
  {
   "cell_type": "code",
   "execution_count": null,
   "metadata": {},
   "outputs": [],
   "source": [
    "function sweep!(vec::Vector{Agent}, L::Int64, pI::Float64, pR::Float64)\n",
    "    for i in 1:length(vec)\n",
    "        step!(vec, L, pI, pR)\n",
    "    end\n",
    "end"
   ]
  },
  {
   "cell_type": "markdown",
   "metadata": {},
   "source": [
    "5. Write a function `dynamics!` that takes the same parameters as `step!`, together with a number of sweeps.\n",
    "\n",
    "    Run the dynamics for the given number of sweeps.\n",
    "\n",
    "    Save the state of the whole system, together with the total numbers of $S$, $I$ and $R$ individuals, after each sweep, for later use.\n",
    "\n",
    "    You may need the function `deepcopy` to copy the state of the whole system."
   ]
  },
  {
   "cell_type": "code",
   "execution_count": null,
   "metadata": {},
   "outputs": [],
   "source": [
    "function dynamics!(vec::Vector{Agent}, L::Int64, pI::Float64, pR::Float64, T::Int64)\n",
    "    state = Vector{Agent}[vec]\n",
    "    S = Int64[length(vec)]\n",
    "    I = Int64[0]\n",
    "    R = Int64[0]\n",
    "    for i in 1:T\n",
    "        sweep!(vec, L, pI, pR)\n",
    "        push!(state, vec)\n",
    "        push!(S, count([agent.status == S for agent in vec]))\n",
    "        push!(I, count([agent.status == I for agent in vec]))\n",
    "        push!(R, count([agent.status == R for agent in vec]))\n",
    "    end\n",
    "end\n",
    "function dynamics(vec::Vector{Agent}, L::Int64, pI::Float64, pR::Float64, T::Int64)\n",
    "    state = Vector{Agent}[vec]\n",
    "    Sa = Int64[length(vec)]\n",
    "    Ia = Int64[0]\n",
    "    Ra = Int64[0]\n",
    "    for i in 1:T\n",
    "        sweep!(vec, L, pI, pR)\n",
    "        push!(state, vec)\n",
    "        push!(Sa, count([agent.state == S for agent in vec]))\n",
    "        push!(Ia, count([agent.state == I for agent in vec]))\n",
    "        push!(Ra, count([agent.state == R for agent in vec]))\n",
    "    end\n",
    "    return state, Sa, Ia, Ra\n",
    "end"
   ]
  },
  {
   "cell_type": "markdown",
   "metadata": {},
   "source": [
    "6. Given one simulation run, write an interactive visualization that shows both the state at time $n$ (using `visualize_agents`) and the history of $S$, $I$ and $R$ from time $0$ up to time $n$. To do this, make two separate plot objects $p_1$ and $p_2$ and use the $hbox$ or $vbox$ function to put them together horizontally or vertically into a single plot."
   ]
  },
  {
   "cell_type": "code",
   "execution_count": null,
   "metadata": {},
   "outputs": [],
   "source": [
    "T = 500\n",
    "vec = initialize(N,L)\n",
    "L = 20\n",
    "N = 100\n",
    "pI = 0.70\n",
    "pR = 0.01\n",
    "states, Sa, Ia, Ra = dynamics(vec, L, pI, pR, T)\n",
    "Ra"
   ]
  },
  {
   "cell_type": "code",
   "execution_count": null,
   "metadata": {},
   "outputs": [],
   "source": [
    "@manipulate for i in 1:T+1\n",
    "    p1 = visualize_agents(states[i])\n",
    "    vline!(p1,[-L/2,L/2])\n",
    "    hline!(p1,[-L/2,L/2])\n",
    "    p2 = plot(Sa[1:i], xlims = (0,T), label=\"Susceptible\")\n",
    "    plot!(p2, Ia[1:i],  label=\"Infected\")\n",
    "    plot!(p2, Ra[1:i],  label=\"Recovered\")\n",
    "    hbox(p1,p2)\n",
    "end"
   ]
  },
  {
   "cell_type": "markdown",
   "metadata": {},
   "source": [
    "7. Using $L=20$ and $N=100$, experiment with $p_I$ and $p_R$ until you find an epidemic outbreak. (Take $p_R$ quite small.)\n",
    "\n",
    "8. For the values of $p_I$ and $p_R$ that you found in [11],\n",
    "run 50 simulations. Plot $S$, $I$ and $R$ as a function of time for each of them (with transparency!).\n",
    "\n",
    "9. Plot their means with error bars.\n",
    "\n",
    "    You should see a result that looks like all those plots that you've seen of the\n",
    "    SIR model on the internet. (If you haven't seen any, then what are you waiting for --\n",
    "    go and find some!)\n",
    "    Except that they *never show you error bars*, even though error bars are clearly\n",
    "    *of the utmost importance*."
   ]
  },
  {
   "cell_type": "code",
   "execution_count": null,
   "metadata": {},
   "outputs": [],
   "source": []
  },
  {
   "cell_type": "code",
   "execution_count": null,
   "metadata": {},
   "outputs": [],
   "source": []
  },
  {
   "cell_type": "code",
   "execution_count": null,
   "metadata": {},
   "outputs": [],
   "source": []
  },
  {
   "cell_type": "code",
   "execution_count": null,
   "metadata": {},
   "outputs": [],
   "source": []
  },
  {
   "cell_type": "code",
   "execution_count": null,
   "metadata": {},
   "outputs": [],
   "source": []
  },
  {
   "cell_type": "markdown",
   "metadata": {},
   "source": [
    "### Exercise 5 (Extra credit -- or for summer vacation): Social distancing\n",
    "\n",
    "We can use a variant of the above model to investigate the effect of the\n",
    "totally mis-named \"social distancing\"  \n",
    "(we want people to be socially *close*, but *physically* distant).\n",
    "\n",
    "In this variant, we separate out the two effects \"infection\" and\n",
    "\"movement\": an infected agent chooses a\n",
    "neighbouring site, and if it finds a susceptible there then it infects it\n",
    "with probability $p_I$.\n",
    "\n",
    "Separately, an agent chooses a neighbouring site to move to,\n",
    "moves there with probability $p_M$ if the site is vacant. (Otherwise it\n",
    "stays where it is.)\n",
    "\n",
    "1. When $p_M = 0$, the agents cannot move, and hence are\n",
    "completely quarantined in their original locations.\n",
    "Where can the disease spread in this case?\n",
    "\n",
    "    Run the dynamics repeatedly, looking at which sites become infected.\n",
    "    (Draw them!)\n",
    "\n",
    "    How does this change as you increase the *density*\n",
    "    $\\rho = N / (L^2)$ of agents?  Start with a small density.\n",
    "\n",
    "    This is basically the [**site percolation**](https://en.wikipedia.org/wiki/Percolation_theory)\n",
    "    model.\n",
    "\n",
    "2. When we start to increase $p_M$, we allow some local motion via random walk.\n",
    "Investigate how this leaky quarantine affects the infection dynamics with\n",
    "different densities."
   ]
  },
  {
   "cell_type": "code",
   "execution_count": null,
   "metadata": {},
   "outputs": [],
   "source": []
  }
 ],
 "metadata": {
  "@webio": {
   "lastCommId": "ddfb0e36ec2f4d18bc45af6d4bb639dd",
   "lastKernelId": "fdec6dc9-6349-42e0-b4c9-04710d19a697"
  },
  "kernelspec": {
   "display_name": "Julia 1.4.0",
   "language": "julia",
   "name": "julia-1.4"
  },
  "language_info": {
   "file_extension": ".jl",
   "mimetype": "application/julia",
   "name": "julia",
   "version": "1.4.0"
  }
 },
 "nbformat": 4,
 "nbformat_minor": 2
}
